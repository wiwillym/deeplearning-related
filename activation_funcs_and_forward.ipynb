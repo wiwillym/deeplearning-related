{
  "nbformat": 4,
  "nbformat_minor": 0,
  "metadata": {
    "colab": {
      "name": "activation_funcs_and_forward",
      "provenance": [],
      "collapsed_sections": [],
      "toc_visible": true
    },
    "kernelspec": {
      "name": "python3",
      "display_name": "Python 3"
    },
    "accelerator": "GPU"
  },
  "cells": [
    {
      "cell_type": "markdown",
      "metadata": {
        "id": "iCszeuRk0NuH"
      },
      "source": [
        "# Tarea 1: Activaciones y pasada hacia adelante en una red neuronal <br/> CC6204 Deep Learning, Universidad de Chile  <br/> Hoja de respuestas\n",
        "## Nombre: Guillermo Martínez\n",
        "Fecha de entrega: 2 de octubre de *2020*"
      ]
    },
    {
      "cell_type": "code",
      "metadata": {
        "id": "8QQB7jV7LMEo",
        "colab": {
          "base_uri": "https://localhost:8080/",
          "height": 182
        },
        "outputId": "4db44c61-9744-441b-e993-d920070ad3fb"
      },
      "source": [
        "# Este notebook está pensado para correr en CoLaboratory. \n",
        "# Lo único imprescindible por importar es torch \n",
        "import torch\n",
        "\n",
        "# Posiblemenete quieras instalar e importar ipdb para debuggear.\n",
        "# Si es así, descomenta lo siguiente\n",
        "# !pip install -q ipdb\n",
        "# import ipdb\n",
        "\n",
        "# Aqui instalamos la libreria de correccion del curso\n",
        "!pip install \"git+https://github.com/dccuchile/CC6204.git@master#egg=cc6204&subdirectory=autocorrect\""
      ],
      "execution_count": null,
      "outputs": [
        {
          "output_type": "stream",
          "text": [
            "Requirement already satisfied: cc6204 from git+https://github.com/dccuchile/CC6204.git@master#egg=cc6204&subdirectory=autocorrect in /usr/local/lib/python3.6/dist-packages (0.3.2)\n",
            "Requirement already satisfied: numpy in /usr/local/lib/python3.6/dist-packages (from cc6204) (1.18.5)\n",
            "Requirement already satisfied: requests in /usr/local/lib/python3.6/dist-packages (from cc6204) (2.23.0)\n",
            "Requirement already satisfied: torch in /usr/local/lib/python3.6/dist-packages (from cc6204) (1.6.0+cu101)\n",
            "Requirement already satisfied: chardet<4,>=3.0.2 in /usr/local/lib/python3.6/dist-packages (from requests->cc6204) (3.0.4)\n",
            "Requirement already satisfied: idna<3,>=2.5 in /usr/local/lib/python3.6/dist-packages (from requests->cc6204) (2.10)\n",
            "Requirement already satisfied: certifi>=2017.4.17 in /usr/local/lib/python3.6/dist-packages (from requests->cc6204) (2020.6.20)\n",
            "Requirement already satisfied: urllib3!=1.25.0,!=1.25.1,<1.26,>=1.21.1 in /usr/local/lib/python3.6/dist-packages (from requests->cc6204) (1.24.3)\n",
            "Requirement already satisfied: future in /usr/local/lib/python3.6/dist-packages (from torch->cc6204) (0.16.0)\n"
          ],
          "name": "stdout"
        }
      ]
    },
    {
      "cell_type": "code",
      "metadata": {
        "id": "49OevYJkMdgW",
        "colab": {
          "base_uri": "https://localhost:8080/",
          "height": 35
        },
        "outputId": "4d8d1e7b-8d04-4696-c029-9f4362f89082"
      },
      "source": [
        "# importamos las herramientas del curso\n",
        "from cc6204 import AutoCorrect, FailedTest\n",
        "\n",
        "# ingresa el host y port que posteamos en u-cursos\n",
        "\n",
        "corrector = AutoCorrect(host=\"cc6204.dcc.uchile.cl\", port=443)\n",
        "\n",
        "# anota el token que te daremos en u-cursos\n",
        "\n",
        "token = \"]ye/Ox;nsz\""
      ],
      "execution_count": null,
      "outputs": [
        {
          "output_type": "stream",
          "text": [
            "Connection stablished\n"
          ],
          "name": "stdout"
        }
      ]
    },
    {
      "cell_type": "markdown",
      "metadata": {
        "id": "Uq9u0IfT0VRp"
      },
      "source": [
        "# Parte 1: Funciones de activación y función de salida"
      ]
    },
    {
      "cell_type": "markdown",
      "metadata": {
        "id": "DMw80P8o0qrJ"
      },
      "source": [
        "## 1a) Funciones de activación"
      ]
    },
    {
      "cell_type": "code",
      "metadata": {
        "id": "tDhcNbNT0YNr"
      },
      "source": [
        "def sig(T):\n",
        "  return torch.reciprocal(1 + torch.exp(-1 * T))\n",
        "\n",
        "def tanh(T):\n",
        "  E = torch.exp(T)\n",
        "  e = torch.exp(-1 * T)\n",
        "  return (E - e) * torch.reciprocal(E + e)\n",
        "\n",
        "def relu(T):\n",
        "  t = T\n",
        "  t[t < 0] = 0\n",
        "  return t\n",
        "\n",
        "def swish(T, beta):\n",
        "  return T * sig(beta*T)\n",
        "\n",
        "def celu(T, alpha):\n",
        "  t = T\n",
        "  t[t < 0] = alpha * (torch.exp(t[t < 0] / alpha) - 1)\n",
        "  return t"
      ],
      "execution_count": null,
      "outputs": []
    },
    {
      "cell_type": "code",
      "metadata": {
        "id": "s0SmO2x7M1pn",
        "colab": {
          "base_uri": "https://localhost:8080/",
          "height": 72
        },
        "outputId": "5dbae0c6-80e5-4ff5-b943-8cf5b53b9ae3"
      },
      "source": [
        "# correccion\n",
        "test_relu = corrector.get_test_data(homework=1, question=\"1a\", test=1, token=token)\n",
        "test_swish, swish_par = corrector.get_test_data(homework=1, question=\"1a\", test=2, token=token)\n",
        "test_celu, celu_par = corrector.get_test_data(homework=1, question=\"1a\", test=3, token=token)\n",
        "\n",
        "# probablemente quieras convertr los variables test_* a un tensor, ya que por defecto son listas\n",
        "test_relu = torch.tensor(test_relu)\n",
        "test_swish = torch.tensor(test_swish)\n",
        "test_celu = torch.tensor(test_celu)\n",
        "\n",
        "corrector.sumbit(homework=1, question=\"1a\", test=1, token=token, answer=relu(test_relu))\n",
        "corrector.sumbit(homework=1, question=\"1a\", test=2, token=token, answer=swish(test_swish, swish_par))\n",
        "corrector.sumbit(homework=1, question=\"1a\", test=3, token=token, answer=celu(test_celu, celu_par))"
      ],
      "execution_count": null,
      "outputs": [
        {
          "output_type": "stream",
          "text": [
            "Correct Test!\n",
            "Correct Test!\n",
            "Correct Test!\n"
          ],
          "name": "stdout"
        }
      ]
    },
    {
      "cell_type": "markdown",
      "metadata": {
        "id": "e_0dTh7l1bas"
      },
      "source": [
        "## 1b) Softmax"
      ]
    },
    {
      "cell_type": "markdown",
      "metadata": {
        "id": "NjIyp2nL1le5"
      },
      "source": [
        "(La demostración puedes entregarla en otro archivo o incluirla directamente acá)"
      ]
    },
    {
      "cell_type": "markdown",
      "metadata": {
        "id": "IIPVXw7xRi3v"
      },
      "source": [
        "# Demostración: \n",
        "Sabemos que `softmax` es una función tal que para la secuencia de valores $(x_1,\\ldots,x_n)$ el resultado de $\\text{softmax}(x_1,\\ldots,x_n)$ es otra secuencia $(s_1,\\ldots,s_n)$ que cumple con\n",
        "\n",
        "\\begin{equation}\n",
        "s_i = \\frac{e^{x_i}}{\\sum_{j=1}^{n}e^{x_j}}\n",
        "\\end{equation} \n",
        "\n",
        "Luego, tenemos que si a la secuencia de valores anterior se le resta el mismo valor, en este caso $M$, el resultado de la función $\\text{softmax}(x_1 - M,\\ldots,x_n - M)$ es una otra secuencia $(S_1,\\ldots,S_n)$ que cumple con\n",
        "\n",
        "\\begin{equation}\n",
        "S_i = \\frac{e^{x_i - M}}{\\sum_{j=1}^{n}e^{x_j - M}}\n",
        "\\end{equation}\n",
        "\n",
        "Sin embargo, sabemos que $e^{x_i - M} = \\frac{e^{x_i}}{e^{M}}$, luego\n",
        "\n",
        "\\begin{equation}\n",
        "S_i = \\frac{\\frac{e^{x_i}}{e^{M}}}{\\frac{\\sum_{j=1}^{n}e^{x_j}}{e^{M}}}\n",
        "\\end{equation}\n",
        "\n",
        "lo cual es equivalente a\n",
        "\n",
        "\\begin{equation}\n",
        "S_i = \\frac{e^{x_i}}{\\sum_{j=1}^{n}e^{x_j}}\n",
        "\\end{equation} \n",
        "\n",
        "Así obtenemos que las secuencias $(S_1,\\ldots,S_n)$ y $(s_1,\\ldots,s_n)$ son iguales, con lo que demostramos que $\\text{softmax}(x_1 - M,\\ldots,x_n - M) = \\text{softmax}(x_1,\\ldots,x_n)$."
      ]
    },
    {
      "cell_type": "code",
      "metadata": {
        "id": "jDg2sU7D1dIY"
      },
      "source": [
        "def softmax(T, dim=1):\n",
        "  t = T\n",
        "  t = t - torch.unsqueeze(torch.max(t, dim)[0], dim)\n",
        "  t = torch.exp(t)\n",
        "  dim_sum = torch.unsqueeze(torch.sum(t, dim=dim), dim)\n",
        "  res = t / dim_sum\n",
        "  return res"
      ],
      "execution_count": null,
      "outputs": []
    },
    {
      "cell_type": "code",
      "metadata": {
        "id": "4nJhjuGZXgkM",
        "colab": {
          "base_uri": "https://localhost:8080/",
          "height": 35
        },
        "outputId": "bb0d2de2-c9f0-46ed-95e4-15dd8b2c0317"
      },
      "source": [
        "test_softmax, _dim = corrector.get_test_data(homework=1, question=\"1b\", test=1, token=token)\n",
        "test_softmax = torch.tensor(test_softmax)\n",
        "corrector.sumbit(homework=1, question=\"1b\", test=1, token=token, answer=softmax(test_softmax, dim=_dim))"
      ],
      "execution_count": null,
      "outputs": [
        {
          "output_type": "stream",
          "text": [
            "Correct Test!\n"
          ],
          "name": "stdout"
        }
      ]
    },
    {
      "cell_type": "markdown",
      "metadata": {
        "id": "662XLsDA9XXI"
      },
      "source": [
        "# Parte 2: Red neuronal y pasada hacia adelante (forward)"
      ]
    },
    {
      "cell_type": "markdown",
      "metadata": {
        "id": "fTUm9ZbX9bRA"
      },
      "source": [
        "## 2a) Clase para red neuronal, 2b) Iterando por parametros, 2d) Pasada hacia adelante"
      ]
    },
    {
      "cell_type": "code",
      "metadata": {
        "id": "f_jeuYbv9WhK"
      },
      "source": [
        "class FFNN(torch.nn.Module):\n",
        "  def __init__(self, F, l_h, l_a, C):\n",
        "    super(FFNN, self).__init__()\n",
        "    if C < 2:\n",
        "      raise ValueError('C must be greater or equal than 2')\n",
        "    if len(l_h) != len(l_a):\n",
        "      raise ValueError('\"l_h\" and \"l_a\" must be of equal length')\n",
        "\n",
        "    self._in = torch.nn.Parameter(torch.rand(F, l_h[0]))\n",
        "    self.hidden = torch.nn.ParameterList([torch.nn.Parameter(torch.rand(l_h[i], l_h[i+1])) for i in range(len(l_h) - 1)])\n",
        "    self.out = torch.nn.Parameter(torch.rand(l_h[len(l_h) - 1], C))\n",
        "    self.biases = torch.nn.ParameterList([torch.nn.Parameter(torch.zeros(size)) for size in l_h])\n",
        "    self.out_bias = torch.nn.Parameter(torch.zeros(C))\n",
        "    self.activation = l_a\n",
        "  \n",
        "  def resumen(self):\n",
        "    for name, param in self.named_parameters():\n",
        "        print(name, type(param), param.size())\n",
        "  \n",
        "  def forward(self, x):\n",
        "    # Usa los parámetros y funciones de activación.\n",
        "    # El valor de retorno debiera ser y = softmax(capa_de_salida).\n",
        "    # Transformamos el input.\n",
        "    x = x.view(-1, 784)\n",
        "    func = self.activation[0]\n",
        "    h = func(x.mm(self._in) + self.biases[0])\n",
        "    f = 0\n",
        "    for hid in self.hidden:\n",
        "      func = self.activation[f+1]\n",
        "      h = func(h.mm(hid) + self.biases[f + 1])\n",
        "      f+=1\n",
        "\n",
        "    y = softmax(h.mm(self.out) + self.out_bias, 1)\n",
        "\n",
        "    return y\n",
        "\n",
        "  def weights_initialization(self, weigths, biases, out, out_bias, activation):\n",
        "    self._in = torch.nn.Parameter(weights[0])\n",
        "    self.hidden = torch.nn.ParameterList([torch.nn.Parameter(weights[i+1]) for i in range(len(weights) - 1)])\n",
        "    self.biases = torch.nn.ParameterList([torch.nn.Parameter(bias) for bias in biases])\n",
        "    self.out = torch.nn.Parameter(out)\n",
        "    self.out_bias = torch.nn.Parameter(out_bias)\n",
        "    self.activation = activation"
      ],
      "execution_count": null,
      "outputs": []
    },
    {
      "cell_type": "markdown",
      "metadata": {
        "id": "Bgf5Xx-34Pa1"
      },
      "source": [
        "## 2c) Moviendo los parámetros entre dispositivos"
      ]
    },
    {
      "cell_type": "code",
      "metadata": {
        "id": "2zppplXd4QXa",
        "colab": {
          "base_uri": "https://localhost:8080/",
          "height": 384
        },
        "outputId": "2ac27e71-6bcd-4117-bf4a-dded8203f445"
      },
      "source": [
        "red_neuronal = FFNN(700,[600,500, 322, 110, 40, 5],[relu, sig, relu, relu, sig, relu],2)\n",
        "red_neuronal.to('cuda')\n",
        "!nvidia-smi"
      ],
      "execution_count": null,
      "outputs": [
        {
          "output_type": "stream",
          "text": [
            "Wed Sep 30 19:20:06 2020       \n",
            "+-----------------------------------------------------------------------------+\n",
            "| NVIDIA-SMI 455.23.05    Driver Version: 418.67       CUDA Version: 10.1     |\n",
            "|-------------------------------+----------------------+----------------------+\n",
            "| GPU  Name        Persistence-M| Bus-Id        Disp.A | Volatile Uncorr. ECC |\n",
            "| Fan  Temp  Perf  Pwr:Usage/Cap|         Memory-Usage | GPU-Util  Compute M. |\n",
            "|                               |                      |               MIG M. |\n",
            "|===============================+======================+======================|\n",
            "|   0  Tesla T4            Off  | 00000000:00:04.0 Off |                    0 |\n",
            "| N/A   60C    P0    29W /  70W |    917MiB / 15079MiB |      3%      Default |\n",
            "|                               |                      |                 ERR! |\n",
            "+-------------------------------+----------------------+----------------------+\n",
            "                                                                               \n",
            "+-----------------------------------------------------------------------------+\n",
            "| Processes:                                                                  |\n",
            "|  GPU   GI   CI        PID   Type   Process name                  GPU Memory |\n",
            "|        ID   ID                                                   Usage      |\n",
            "|=============================================================================|\n",
            "|  No running processes found                                                 |\n",
            "+-----------------------------------------------------------------------------+\n"
          ],
          "name": "stdout"
        }
      ]
    },
    {
      "cell_type": "markdown",
      "metadata": {
        "id": "swTnKxznL6Ep"
      },
      "source": [
        "# Parte 3: Probando tu red con parámetros pre-entrenados para MNIST"
      ]
    },
    {
      "cell_type": "code",
      "metadata": {
        "id": "uOBcElJ7BPcQ",
        "colab": {
          "base_uri": "https://localhost:8080/",
          "height": 35
        },
        "outputId": "90c3c9f3-e89f-4bc8-8513-82a794f9efd3"
      },
      "source": [
        "from torchvision.datasets import MNIST\n",
        "from torchvision.transforms import ToTensor\n",
        "\n",
        "# Descarga y almacena el conjunto de prueba de MNIST.\n",
        "dataset = MNIST('mnist', train=False, transform=ToTensor(), download=True)\n",
        "print('Cantidad total de datos:',len(dataset))"
      ],
      "execution_count": null,
      "outputs": [
        {
          "output_type": "stream",
          "text": [
            "Cantidad total de datos: 10000\n"
          ],
          "name": "stdout"
        }
      ]
    },
    {
      "cell_type": "markdown",
      "metadata": {
        "id": "s6s-z1DNL-J0"
      },
      "source": [
        "## 3b) Cargando los parámetros pre-entrenados"
      ]
    },
    {
      "cell_type": "code",
      "metadata": {
        "id": "SLeq3y8FE3SU",
        "colab": {
          "base_uri": "https://localhost:8080/",
          "height": 1000
        },
        "outputId": "b2de7f97-5159-4560-a34e-95622857e99a"
      },
      "source": [
        "from numpy import loadtxt\n",
        "\n",
        "# Creamos el directorio 'mnist_weights' en donde guardaremos los archivos con\n",
        "# con los valores correspondientes a cada tensor descargado desde el github\n",
        "# del curso\n",
        "!mkdir mnist_weights\n",
        "!wget -O mnist_weights/W1.txt https://raw.githubusercontent.com/dccuchile/CC6204/master/versiones_anteriores/2019/tareas/tarea1/mnist_weights/W1.txt\n",
        "!wget -O mnist_weights/b1.txt https://raw.githubusercontent.com/dccuchile/CC6204/master/versiones_anteriores/2019/tareas/tarea1/mnist_weights/b1.txt\n",
        "!wget -O mnist_weights/W2.txt https://raw.githubusercontent.com/dccuchile/CC6204/master/versiones_anteriores/2019/tareas/tarea1/mnist_weights/W2.txt\n",
        "!wget -O mnist_weights/b2.txt https://raw.githubusercontent.com/dccuchile/CC6204/master/versiones_anteriores/2019/tareas/tarea1/mnist_weights/b2.txt\n",
        "!wget -O mnist_weights/U.txt https://raw.githubusercontent.com/dccuchile/CC6204/master/versiones_anteriores/2019/tareas/tarea1/mnist_weights/U.txt\n",
        "!wget -O mnist_weights/c.txt https://raw.githubusercontent.com/dccuchile/CC6204/master/versiones_anteriores/2019/tareas/tarea1/mnist_weights/c.txt\n",
        "\n",
        "#Guardamos los valores de cada archivo en distintos tensores\n",
        "W1 = torch.from_numpy(loadtxt('mnist_weights/W1.txt')).float()\n",
        "b1 = torch.from_numpy(loadtxt('mnist_weights/b1.txt')).float()\n",
        "W2 = torch.from_numpy(loadtxt('mnist_weights/W2.txt')).float()\n",
        "b2 = torch.from_numpy(loadtxt('mnist_weights/b2.txt')).float()\n",
        "U = torch.from_numpy(loadtxt('mnist_weights/U.txt')).float()\n",
        "c = torch.from_numpy(loadtxt('mnist_weights/c.txt')).float()\n",
        "my_nn = FFNN(784, [32, 16], [relu, relu], 10)\n",
        "weights = [W1, W2]\n",
        "biases = [b1, b2]\n",
        "out = U\n",
        "out_bias = c\n",
        "activation = [relu, relu]\n",
        "\n",
        "my_nn.weights_initialization(weights, biases, out, out_bias, activation)"
      ],
      "execution_count": null,
      "outputs": [
        {
          "output_type": "stream",
          "text": [
            "mkdir: cannot create directory ‘mnist_weights’: File exists\n",
            "--2020-09-30 19:20:06--  https://raw.githubusercontent.com/dccuchile/CC6204/master/versiones_anteriores/2019/tareas/tarea1/mnist_weights/W1.txt\n",
            "Resolving raw.githubusercontent.com (raw.githubusercontent.com)... 151.101.0.133, 151.101.64.133, 151.101.128.133, ...\n",
            "Connecting to raw.githubusercontent.com (raw.githubusercontent.com)|151.101.0.133|:443... connected.\n",
            "HTTP request sent, awaiting response... 200 OK\n",
            "Length: 638480 (624K) [text/plain]\n",
            "Saving to: ‘mnist_weights/W1.txt’\n",
            "\n",
            "mnist_weights/W1.tx 100%[===================>] 623.52K  --.-KB/s    in 0.04s   \n",
            "\n",
            "2020-09-30 19:20:07 (13.6 MB/s) - ‘mnist_weights/W1.txt’ saved [638480/638480]\n",
            "\n",
            "--2020-09-30 19:20:07--  https://raw.githubusercontent.com/dccuchile/CC6204/master/versiones_anteriores/2019/tareas/tarea1/mnist_weights/b1.txt\n",
            "Resolving raw.githubusercontent.com (raw.githubusercontent.com)... 151.101.0.133, 151.101.64.133, 151.101.128.133, ...\n",
            "Connecting to raw.githubusercontent.com (raw.githubusercontent.com)|151.101.0.133|:443... connected.\n",
            "HTTP request sent, awaiting response... 200 OK\n",
            "Length: 811 [text/plain]\n",
            "Saving to: ‘mnist_weights/b1.txt’\n",
            "\n",
            "mnist_weights/b1.tx 100%[===================>]     811  --.-KB/s    in 0s      \n",
            "\n",
            "2020-09-30 19:20:07 (60.7 MB/s) - ‘mnist_weights/b1.txt’ saved [811/811]\n",
            "\n",
            "--2020-09-30 19:20:07--  https://raw.githubusercontent.com/dccuchile/CC6204/master/versiones_anteriores/2019/tareas/tarea1/mnist_weights/W2.txt\n",
            "Resolving raw.githubusercontent.com (raw.githubusercontent.com)... 151.101.0.133, 151.101.64.133, 151.101.128.133, ...\n",
            "Connecting to raw.githubusercontent.com (raw.githubusercontent.com)|151.101.0.133|:443... connected.\n",
            "HTTP request sent, awaiting response... 200 OK\n",
            "Length: 13052 (13K) [text/plain]\n",
            "Saving to: ‘mnist_weights/W2.txt’\n",
            "\n",
            "mnist_weights/W2.tx 100%[===================>]  12.75K  --.-KB/s    in 0s      \n",
            "\n",
            "2020-09-30 19:20:07 (82.7 MB/s) - ‘mnist_weights/W2.txt’ saved [13052/13052]\n",
            "\n",
            "--2020-09-30 19:20:07--  https://raw.githubusercontent.com/dccuchile/CC6204/master/versiones_anteriores/2019/tareas/tarea1/mnist_weights/b2.txt\n",
            "Resolving raw.githubusercontent.com (raw.githubusercontent.com)... 151.101.0.133, 151.101.64.133, 151.101.128.133, ...\n",
            "Connecting to raw.githubusercontent.com (raw.githubusercontent.com)|151.101.0.133|:443... connected.\n",
            "HTTP request sent, awaiting response... 200 OK\n",
            "Length: 404 [text/plain]\n",
            "Saving to: ‘mnist_weights/b2.txt’\n",
            "\n",
            "mnist_weights/b2.tx 100%[===================>]     404  --.-KB/s    in 0s      \n",
            "\n",
            "2020-09-30 19:20:07 (32.7 MB/s) - ‘mnist_weights/b2.txt’ saved [404/404]\n",
            "\n",
            "--2020-09-30 19:20:07--  https://raw.githubusercontent.com/dccuchile/CC6204/master/versiones_anteriores/2019/tareas/tarea1/mnist_weights/U.txt\n",
            "Resolving raw.githubusercontent.com (raw.githubusercontent.com)... 151.101.0.133, 151.101.64.133, 151.101.128.133, ...\n",
            "Connecting to raw.githubusercontent.com (raw.githubusercontent.com)|151.101.0.133|:443... connected.\n",
            "HTTP request sent, awaiting response... 200 OK\n",
            "Length: 4099 (4.0K) [text/plain]\n",
            "Saving to: ‘mnist_weights/U.txt’\n",
            "\n",
            "mnist_weights/U.txt 100%[===================>]   4.00K  --.-KB/s    in 0s      \n",
            "\n",
            "2020-09-30 19:20:07 (67.4 MB/s) - ‘mnist_weights/U.txt’ saved [4099/4099]\n",
            "\n",
            "--2020-09-30 19:20:07--  https://raw.githubusercontent.com/dccuchile/CC6204/master/versiones_anteriores/2019/tareas/tarea1/mnist_weights/c.txt\n",
            "Resolving raw.githubusercontent.com (raw.githubusercontent.com)... 151.101.0.133, 151.101.64.133, 151.101.128.133, ...\n",
            "Connecting to raw.githubusercontent.com (raw.githubusercontent.com)|151.101.0.133|:443... connected.\n",
            "HTTP request sent, awaiting response... 200 OK\n",
            "Length: 255 [text/plain]\n",
            "Saving to: ‘mnist_weights/c.txt’\n",
            "\n",
            "mnist_weights/c.txt 100%[===================>]     255  --.-KB/s    in 0s      \n",
            "\n",
            "2020-09-30 19:20:07 (20.6 MB/s) - ‘mnist_weights/c.txt’ saved [255/255]\n",
            "\n"
          ],
          "name": "stdout"
        }
      ]
    },
    {
      "cell_type": "markdown",
      "metadata": {
        "id": "WWRa68ZFMIyr"
      },
      "source": [
        "## 3c) Cálcula la predicción de un ejemplo al azar"
      ]
    },
    {
      "cell_type": "code",
      "metadata": {
        "id": "a-SaIzRoMMoc",
        "colab": {
          "base_uri": "https://localhost:8080/",
          "height": 209
        },
        "outputId": "353a15c3-352c-464f-ad15-504c013103a2"
      },
      "source": [
        "import random\n",
        "from matplotlib.pyplot import subplots\n",
        "\n",
        "idx = random.randint(0, len(dataset) - 1)\n",
        "T, l = dataset[idx]\n",
        "pred = torch.argmax(my_nn(T)).to('cpu').numpy()\n",
        "n_ejemplos = 1\n",
        "fig, ax = subplots(nrows=n_ejemplos , figsize=(2,n_ejemplos*3))\n",
        "img = T.view(28,28).to('cpu').numpy()\n",
        "ax.set_title(\"Clase: \"+ str(l) + \"\\nPrediccion: \" +  str(pred))\n",
        "ax.imshow(img)"
      ],
      "execution_count": null,
      "outputs": [
        {
          "output_type": "execute_result",
          "data": {
            "text/plain": [
              "<matplotlib.image.AxesImage at 0x7f283d05f240>"
            ]
          },
          "metadata": {
            "tags": []
          },
          "execution_count": 11
        },
        {
          "output_type": "display_data",
          "data": {
            "image/png": "[encoded data removed]",
            "text/plain": [
              "<Figure size 144x216 with 1 Axes>"
            ]
          },
          "metadata": {
            "tags": [],
            "needs_background": "light"
          }
        }
      ]
    },
    {
      "cell_type": "markdown",
      "metadata": {
        "id": "i1cZFU8rMNr1"
      },
      "source": [
        "## 3d) Pasando todos los ejemplos por la red con un `DataLoader`"
      ]
    },
    {
      "cell_type": "code",
      "metadata": {
        "id": "mL49_0ZAMRd_"
      },
      "source": [
        "from torch.utils.data import DataLoader\n",
        "\n",
        "def calcula_acierto(red, dataset, batch_size=100, device='cuda'):\n",
        "  red.to(device)\n",
        "  dataloader = DataLoader(dataset, batch_size)\n",
        "  all = 0\n",
        "  n_batches = 0\n",
        "  for x, y in dataloader:\n",
        "    x = x.to(device)\n",
        "    y = y.to(device)\n",
        "    n_batches += 1\n",
        "    pred = red(x)\n",
        "    prediction = torch.argmax(pred, 1).to(device)\n",
        "    correct = (prediction == y).sum() * 1.0\n",
        "    total = batch_size * 1.0\n",
        "    this_accuracy = correct/total\n",
        "    all += this_accuracy\n",
        "  \n",
        "  total_accuracy = all / n_batches\n",
        "  return total_accuracy"
      ],
      "execution_count": null,
      "outputs": []
    },
    {
      "cell_type": "markdown",
      "metadata": {
        "id": "EKXqo4FpX2Id"
      },
      "source": [
        "### Correccion red"
      ]
    },
    {
      "cell_type": "code",
      "metadata": {
        "id": "itWs4t9feO1u"
      },
      "source": [
        "from torch.utils.data import Subset\n",
        "indices = corrector.get_test_data(homework=1, question=\"network\", test=1, token=token)\n",
        "test_set = Subset(dataset, indices)"
      ],
      "execution_count": null,
      "outputs": []
    },
    {
      "cell_type": "code",
      "metadata": {
        "id": "JMcid2LRXzrg",
        "colab": {
          "base_uri": "https://localhost:8080/",
          "height": 35
        },
        "outputId": "7614420f-aceb-4e79-b08d-095d14698f69"
      },
      "source": [
        "from torch.utils.data import DataLoader\n",
        "your_network = my_nn\n",
        "\n",
        "def results(red, dataset, device='cuda'):\n",
        "  red.to(device)\n",
        "  dataloader_test = DataLoader(test_set)\n",
        "  all_predictions = torch.zeros(0)\n",
        "  for x, y in dataloader_test:\n",
        "    x = x.to(device)\n",
        "    y = y.to(device)\n",
        "    pred = red(x)\n",
        "    prediction = torch.argmax(pred, 1).to(device)\n",
        "    all_predictions = torch.cat((all_predictions, prediction), 0)\n",
        "  return all_predictions\n",
        "\n",
        "result = results(my_nn, test_set, device='cpu')\n",
        "\n",
        "corrector.sumbit(homework=1, question=\"network\", test=1, token=token, answer=result)"
      ],
      "execution_count": null,
      "outputs": [
        {
          "output_type": "stream",
          "text": [
            "Correct Test!\n"
          ],
          "name": "stdout"
        }
      ]
    },
    {
      "cell_type": "markdown",
      "metadata": {
        "id": "3pgWygWCMYTx"
      },
      "source": [
        "## 3e) Opcional: Muestra los casos en donde la red se equivoca"
      ]
    },
    {
      "cell_type": "code",
      "metadata": {
        "id": "FM_eP23XMaTn",
        "colab": {
          "base_uri": "https://localhost:8080/",
          "height": 957
        },
        "outputId": "62d69298-6ab0-42a7-9f19-493e814efce5"
      },
      "source": [
        "def get_wrong_indexes(red, dataset, batch_size=1000, device='cuda'):\n",
        "  red.to(device)\n",
        "  dataloader = DataLoader(dataset, batch_size)\n",
        "  batch = 0\n",
        "  incorrect_indexes = torch.zeros(0).long().to(device)\n",
        "  incorrect_predictions = torch.zeros(0).long().to(device)\n",
        "  for i, (x, y) in enumerate(dataloader):\n",
        "    x = x.to(device)\n",
        "    y = y.to(device)\n",
        "    pred = red(x)\n",
        "    prediction = torch.argmax(pred, 1).to(device)\n",
        "    incorrect = i*batch_size + (prediction != y).nonzero().flatten()\n",
        "    incorrect_indexes = torch.cat((incorrect_indexes, incorrect), 0)\n",
        "    batch+=1\n",
        "  return incorrect_indexes\n",
        "\n",
        "def plot_random_mistakes(red, dataset, n_samples, batch_size=1000, device='cuda'):\n",
        "  indexes = get_wrong_indexes(red, dataset, batch_size, device)\n",
        "  fig, axs = subplots(nrows=n_samples, figsize=(2,n_samples*3))\n",
        "  for i in range(n_samples):  \n",
        "    n = random.randint(0,len(indexes) - 1)\n",
        "    idx = indexes[n].to(device)\n",
        "    T, l = dataset[idx]\n",
        "    t = T.to(device)\n",
        "    prediction = torch.argmax(red(t), 1).to('cpu').numpy()\n",
        "    img = T.view(28,28).numpy()\n",
        "    axs[i].set_title(\"Clase real: \"+ str(l) + \"\\nPrediccion: \" + str(prediction[0]))\n",
        "    axs[i].imshow(img)\n",
        "\n",
        "plot_random_mistakes(my_nn, dataset, n_samples=5, batch_size=1000, device='cuda')"
      ],
      "execution_count": null,
      "outputs": [
        {
          "output_type": "stream",
          "text": [
            "/usr/local/lib/python3.6/dist-packages/ipykernel_launcher.py:12: UserWarning: This overload of nonzero is deprecated:\n",
            "\tnonzero()\n",
            "Consider using one of the following signatures instead:\n",
            "\tnonzero(*, bool as_tuple) (Triggered internally at  /pytorch/torch/csrc/utils/python_arg_parser.cpp:766.)\n",
            "  if sys.path[0] == '':\n"
          ],
          "name": "stderr"
        },
        {
          "output_type": "display_data",
          "data": {
            "image/png": "[encoded data removed]",
            "text/plain": [
              "<Figure size 144x1080 with 5 Axes>"
            ]
          },
          "metadata": {
            "tags": [],
            "needs_background": "light"
          }
        }
      ]
    },
    {
      "cell_type": "markdown",
      "metadata": {
        "id": "beF870pABHKe"
      },
      "source": [
        "## 3d) Opcional: Crea tus propios ejemplos de dígitos para clasificar"
      ]
    },
    {
      "cell_type": "code",
      "metadata": {
        "id": "KOqCJx4LBG1W"
      },
      "source": [
        "import torchvision\n",
        "from IPython.display import HTML, Image\n",
        "from google.colab.output import eval_js\n",
        "from base64 import b64decode\n",
        "import string\n",
        "import random\n",
        "import os\n",
        "\n",
        "letters = string.ascii_lowercase\n",
        "\n",
        "canvas_html = \"\"\"\n",
        "<canvas width=%d height=%d></canvas>\n",
        "<button>Finish</button>\n",
        "<script>\n",
        "var canvas = document.querySelector('canvas')\n",
        "var ctx = canvas.getContext('2d')\n",
        "ctx.fillStyle = 'black'\n",
        "ctx.fillRect(0, 0, canvas.width, canvas.height)\n",
        "ctx.lineWidth = %d\n",
        "ctx.strokeStyle = 'white'\n",
        "var button = document.querySelector('button')\n",
        "var mouse = {x: 0, y: 0}\n",
        "canvas.addEventListener('mousemove', function(e) {\n",
        "  mouse.x = e.pageX - this.offsetLeft\n",
        "  mouse.y = e.pageY - this.offsetTop\n",
        "})\n",
        "canvas.onmousedown = ()=>{\n",
        "  ctx.beginPath()\n",
        "  ctx.moveTo(mouse.x, mouse.y)\n",
        "  canvas.addEventListener('mousemove', onPaint)\n",
        "}\n",
        "canvas.onmouseup = ()=>{\n",
        "  canvas.removeEventListener('mousemove', onPaint)\n",
        "}\n",
        "var onPaint = ()=>{\n",
        "  ctx.lineTo(mouse.x, mouse.y)\n",
        "  ctx.stroke()\n",
        "}\n",
        "var data = new Promise(resolve=>{\n",
        "  button.onclick = ()=>{\n",
        "    resolve(canvas.toDataURL('image/jpeg'))\n",
        "  }\n",
        "})\n",
        "</script>\n",
        "\"\"\"\n",
        "\n",
        "def draw(label, w=280, h=280, line_width=10):\n",
        "    display(HTML(canvas_html % (w, h, line_width)))\n",
        "    data = eval_js(\"data\")\n",
        "    binary = b64decode(data.split(',')[1])\n",
        "    path_label = f\"user_numbers/{label}/\"\n",
        "    file_name = ''.join(random.choice(letters) for i in range(10)) + \".jpg\"\n",
        "    os.makedirs(path_label, exist_ok=True)\n",
        "    with open(path_label + file_name, 'wb') as f:\n",
        "        f.write(binary)\n",
        "    return binary"
      ],
      "execution_count": null,
      "outputs": []
    },
    {
      "cell_type": "code",
      "metadata": {
        "id": "gCv3xO6m97Wn",
        "colab": {
          "base_uri": "https://localhost:8080/",
          "height": 341
        },
        "outputId": "73137af2-f9cb-4c0c-f0f8-38d6ea77c4a7"
      },
      "source": [
        "draw(label=6) # Cambiar label dependiendo del número que se quiera dibujar"
      ],
      "execution_count": null,
      "outputs": [
        {
          "output_type": "display_data",
          "data": {
            "text/html": [
              "\n",
              "<canvas width=280 height=280></canvas>\n",
              "<button>Finish</button>\n",
              "<script>\n",
              "var canvas = document.querySelector('canvas')\n",
              "var ctx = canvas.getContext('2d')\n",
              "ctx.fillStyle = 'black'\n",
              "ctx.fillRect(0, 0, canvas.width, canvas.height)\n",
              "ctx.lineWidth = 10\n",
              "ctx.strokeStyle = 'white'\n",
              "var button = document.querySelector('button')\n",
              "var mouse = {x: 0, y: 0}\n",
              "canvas.addEventListener('mousemove', function(e) {\n",
              "  mouse.x = e.pageX - this.offsetLeft\n",
              "  mouse.y = e.pageY - this.offsetTop\n",
              "})\n",
              "canvas.onmousedown = ()=>{\n",
              "  ctx.beginPath()\n",
              "  ctx.moveTo(mouse.x, mouse.y)\n",
              "  canvas.addEventListener('mousemove', onPaint)\n",
              "}\n",
              "canvas.onmouseup = ()=>{\n",
              "  canvas.removeEventListener('mousemove', onPaint)\n",
              "}\n",
              "var onPaint = ()=>{\n",
              "  ctx.lineTo(mouse.x, mouse.y)\n",
              "  ctx.stroke()\n",
              "}\n",
              "var data = new Promise(resolve=>{\n",
              "  button.onclick = ()=>{\n",
              "    resolve(canvas.toDataURL('image/jpeg'))\n",
              "  }\n",
              "})\n",
              "</script>\n"
            ],
            "text/plain": [
              "<IPython.core.display.HTML object>"
            ]
          },
          "metadata": {
            "tags": []
          }
        },
        {
          "output_type": "execute_result",
          "data": {
            "text/plain": [
              "b'\\xff\\xd8\\xff\\xe0\\x00\\x10JFIF\\x00\\x01\\x01\\x00\\x00\\x01\\x00\\x01\\x00\\x00\\xff\\xdb\\x00C\\x00\\x03\\x02\\x02\\x02\\x02\\x02\\x03\\x02\\x02\\x02\\x03\\x03\\x03\\x03\\x04\\x06\\x04\\x04\\x04\\x04\\x04\\x08\\x06\\x06\\x05\\x06\\t\\x08\\n\\n\\t\\x08\\t\\t\\n\\x0c\\x0f\\x0c\\n\\x0b\\x0e\\x0b\\t\\t\\r\\x11\\r\\x0e\\x0f\\x10\\x10\\x11\\x10\\n\\x0c\\x12\\x13\\x12\\x10\\x13\\x0f\\x10\\x10\\x10\\xff\\xdb\\x00C\\x01\\x03\\x03\\x03\\x04\\x03\\x04\\x08\\x04\\x04\\x08\\x10\\x0b\\t\\x0b\\x10\\x10\\x10\\x10\\x10\\x10\\x10\\x10\\x10\\x10\\x10\\x10\\x10\\x10\\x10\\x10\\x10\\x10\\x10\\x10\\x10\\x10\\x10\\x10\\x10\\x10\\x10\\x10\\x10\\x10\\x10\\x10\\x10\\x10\\x10\\x10\\x10\\x10\\x10\\x10\\x10\\x10\\x10\\x10\\x10\\x10\\x10\\x10\\x10\\x10\\xff\\xc0\\x00\\x11\\x08\\x01\\x18\\x01\\x18\\x03\\x01\\x11\\x00\\x02\\x11\\x01\\x03\\x11\\x01\\xff\\xc4\\x00\\x1f\\x00\\x00\\x01\\x05\\x01\\x01\\x01\\x01\\x01\\x01\\x00\\x00\\x00\\x00\\x00\\x00\\x00\\x00\\x01\\x02\\x03\\x04\\x05\\x06\\x07\\x08\\t\\n\\x0b\\xff\\xc4\\x00\\xb5\\x10\\x00\\x02\\x01\\x03\\x03\\x02\\x04\\x03\\x05\\x05\\x04\\x04\\x00\\x00\\x01}\\x01\\x02\\x03\\x00\\x04\\x11\\x05\\x12!1A\\x06\\x13Qa\\x07\"q\\x142\\x81\\x91\\xa1\\x08#B\\xb1\\xc1\\x15R\\xd1\\xf0$3br\\x82\\t\\n\\x16\\x17\\x18\\x19\\x1a%&\\'()*456789:CDEFGHIJSTUVWXYZcdefghijstuvwxyz\\x83\\x84\\x85\\x86\\x87\\x88\\x89\\x8a\\x92\\x93\\x94\\x95\\x96\\x97\\x98\\x99\\x9a\\xa2\\xa3\\xa4\\xa5\\xa6\\xa7\\xa8\\xa9\\xaa\\xb2\\xb3\\xb4\\xb5\\xb6\\xb7\\xb8\\xb9\\xba\\xc2\\xc3\\xc4\\xc5\\xc6\\xc7\\xc8\\xc9\\xca\\xd2\\xd3\\xd4\\xd5\\xd6\\xd7\\xd8\\xd9\\xda\\xe1\\xe2\\xe3\\xe4\\xe5\\xe6\\xe7\\xe8\\xe9\\xea\\xf1\\xf2\\xf3\\xf4\\xf5\\xf6\\xf7\\xf8\\xf9\\xfa\\xff\\xc4\\x00\\x1f\\x01\\x00\\x03\\x01\\x01\\x01\\x01\\x01\\x01\\x01\\x01\\x01\\x00\\x00\\x00\\x00\\x00\\x00\\x01\\x02\\x03\\x04\\x05\\x06\\x07\\x08\\t\\n\\x0b\\xff\\xc4\\x00\\xb5\\x11\\x00\\x02\\x01\\x02\\x04\\x04\\x03\\x04\\x07\\x05\\x04\\x04\\x00\\x01\\x02w\\x00\\x01\\x02\\x03\\x11\\x04\\x05!1\\x06\\x12AQ\\x07aq\\x13\"2\\x81\\x08\\x14B\\x91\\xa1\\xb1\\xc1\\t#3R\\xf0\\x15br\\xd1\\n\\x16$4\\xe1%\\xf1\\x17\\x18\\x19\\x1a&\\'()*56789:CDEFGHIJSTUVWXYZcdefghijstuvwxyz\\x82\\x83\\x84\\x85\\x86\\x87\\x88\\x89\\x8a\\x92\\x93\\x94\\x95\\x96\\x97\\x98\\x99\\x9a\\xa2\\xa3\\xa4\\xa5\\xa6\\xa7\\xa8\\xa9\\xaa\\xb2\\xb3\\xb4\\xb5\\xb6\\xb7\\xb8\\xb9\\xba\\xc2\\xc3\\xc4\\xc5\\xc6\\xc7\\xc8\\xc9\\xca\\xd2\\xd3\\xd4\\xd5\\xd6\\xd7\\xd8\\xd9\\xda\\xe2\\xe3\\xe4\\xe5\\xe6\\xe7\\xe8\\xe9\\xea\\xf2\\xf3\\xf4\\xf5\\xf6\\xf7\\xf8\\xf9\\xfa\\xff\\xda\\x00\\x0c\\x03\\x01\\x00\\x02\\x11\\x03\\x11\\x00?\\x00\\xfc\\xaa\\xa0\\x02\\x80\\n\\x00(\\x00\\xa0\\x02\\x80\\n\\x00(\\x00\\xa0\\x02\\x80\\n\\x00(\\x00\\xa0\\x02\\x80\\n\\x00(\\x00\\xa0\\x02\\x80\\n\\x00(\\x00\\xa0\\x02\\x80\\n\\x00(\\x00\\xa0\\x02\\x80\\n\\x00(\\x00\\xa0\\x02\\x80\\n\\x00(\\x00\\xa0\\x02\\x80\\n\\x00(\\x00\\xa0\\x02\\x80\\n\\x00(\\x00\\xa0\\x02\\x80\\n\\x00(\\x00\\xa0\\x02\\x80\\n\\x00(\\x00\\xa0\\x02\\x80\\n\\x00(\\x00\\xa0\\x02\\x80\\n\\x00(\\x00\\xa0\\x02\\x80\\n\\x00(\\x00\\xa0\\x02\\x80\\n\\x00(\\x00\\xa0\\x02\\x80\\n\\x00(\\x00\\xa0\\x02\\x80\\n\\x00(\\x00\\xa0\\x02\\x80\\n\\x00(\\x00\\xa0\\x02\\x80\\n\\x00(\\x00\\xa0\\x02\\x80\\n\\x00(\\x00\\xa0\\x02\\x80\\n\\x00(\\x00\\xa0\\x02\\x80\\n\\x00(\\x00\\xa0\\x02\\x80\\n\\x00(\\x00\\xa0\\x02\\x80\\n\\x00(\\x00\\xa0\\x02\\x80\\n\\x00(\\x00\\xa0\\x02\\x80\\n\\x00(\\x00\\xa0\\x02\\x80\\n\\x00(\\x00\\xa0\\x02\\x80\\n\\x00(\\x00\\xa0\\x02\\x80\\n\\x00(\\x00\\xa0\\x02\\x80\\n\\x00(\\x00\\xa0\\x02\\x80\\n\\x00(\\x00\\xa0\\x02\\x80\\n\\x00(\\x00\\xa0\\x02\\x80\\n\\x00(\\x00\\xa0\\x02\\x80\\n\\x00(\\x00\\xa0\\x02\\x80\\n\\x00(\\x00\\xa0\\x02\\x80\\n\\x00(\\x00\\xa0\\x02\\x80\\n\\x00(\\x00\\xa0\\x02\\x80\\n\\x00(\\x00\\xa0\\x02\\x80\\n\\x00(\\x00\\xa0\\x02\\x80\\n\\x00(\\x00\\xa0\\x02\\x80\\n\\x00(\\x00\\xa0\\x02\\x80\\n\\x00(\\x00\\xa0\\x02\\x80\\n\\x00(\\x00\\xa0\\x02\\x80\\n\\x00(\\x00\\xa0\\x02\\x80\\n\\x00(\\x00\\xa0\\x02\\x80\\n\\x00(\\x00\\xa0\\x02\\x80\\n\\x00(\\x00\\xa0\\x02\\x80\\n\\x00(\\x00\\xa0\\x02\\x80\\n\\x00(\\x00\\xa0\\x02\\x80\\n\\x00(\\x00\\xa0\\x02\\x80\\n\\x00(\\x00\\xa0\\x02\\x80\\n\\x00(\\x00\\xa0\\x02\\x80\\n\\x00(\\x00\\xa0\\x02\\x80\\n\\x00(\\x00\\xa0\\x02\\x80\\n\\x00(\\x00\\xa0\\x02\\x80\\n\\x00(\\x00\\xa0\\x02\\x80\\n\\x00(\\x00\\xa0\\x02\\x80\\n\\x00(\\x00\\xa0\\x02\\x80\\n\\x00(\\x00\\xa0\\x02\\x80\\n\\x00(\\x00\\xa0\\x02\\x80\\n\\x00(\\x00\\xa0\\x02\\x80\\n\\x00(\\x00\\xa0\\x02\\x80\\n\\x00(\\x00\\xa0\\x02\\x80\\n\\x00(\\x00\\xa0\\x02\\x80\\n\\x00\\xf7\\xff\\x00\\x81\\x7f\\xb0\\x87\\xed?\\xfbD\\xe8Zw\\x8c~\\x1c\\xfc;\\xdd\\xe1mGP:z\\xeb\\xba\\x8e\\xa1ogj\\x9b\\\\$\\xb3\\x84\\x91\\xc4\\xd2\\xc3\\x19,\\x19\\xe1\\x8eO\\x9a9\\x11C:2\\x00\\x0f\\xbf\\xfe\\x05\\xff\\x00\\xc1\\x16\\xfc\\t\\xe1mwN\\xf1\\x1f\\xc7\\x9f\\x88\\x9f\\xf0\\x9bZ&\\x9e~\\xd7\\xe1\\xad:\\xcem>\\xd7\\xed\\xce\\x80\\x1c\\xde\\xa4\\xe2ia\\x8c\\x97+\\xb5 ga\\x1b6\\xd5\\r\\x13\\x00}\\xff\\x00\\xf0\\xcf\\xe1W\\xc3\\x8f\\x83~\\x15\\x83\\xc1_\\x0b|\\x17\\xa5xgE\\xb7\\xda\\xdff\\xd3\\xed\\xc4~t\\x8b\\x1aG\\xe7L\\xff\\x00~i\\x8aG\\x18id-#\\xed\\x05\\x98\\x9eh\\x03\\xf9\\xe1\\xfd\\xb14\\x9dWE\\xfd\\xab\\xfe0\\xd9\\xeb\\x1ae\\xdd\\x84\\xf2x\\xe3Z\\xbbH\\xaeah\\x9d\\xa0\\x9e\\xf2Y\\xa1\\x94+\\x00JI\\x14\\x91\\xc8\\x8d\\xd1\\x91\\xd5\\x86A\\x06\\x80<\\x82\\x80\\n\\x00(\\x00\\xa0\\x02\\x80\\n\\x00(\\x00\\xa0\\x02\\x80\\n\\x00(\\x00\\xa0\\x02\\x80\\n\\x00(\\x00\\xa0\\x02\\x80\\n\\x00(\\x00\\xa0\\x02\\x80\\n\\x00(\\x00\\xa0\\x02\\x80\\n\\x00(\\x00\\xa0\\r_\\t\\xf8[]\\xf1\\xcf\\x8a\\xb4o\\x05xZ\\xc7\\xed\\xba\\xd7\\x885\\x0b}/N\\xb6\\xf3R?>\\xeay\\x168\\xa3\\xde\\xe5Qw;\\xa8\\xcb\\x10\\xa39$\\x0eh\\x03\\xeb\\xff\\x00\\x86\\x9f\\xf0H\\xef\\xda\\xf7\\xc6\\x1e*\\x83I\\xf1\\xd7\\x86\\xf4\\xaf\\x01h\\xa3l\\x97Z\\xbe\\xa1\\xabZ_m\\x8f\\xccEu\\x86\\x0b9dy&\\xd8\\xce\\xea\\xaec\\x8d\\xbc\\xb2\\x0c\\xa8H\\xc8\\x07\\xea\\xa7\\xc3?\\xd8\\x1f\\xf6B\\xf8E\\xe2\\xa8<k\\xe0_\\x82ZU\\xbe\\xb5i\\xb5\\xadnu\\x0b\\xbb\\xbdO\\xec\\xb2$\\x89\"M\\n^K*E2\\xbchVT\\x02E\\xe4\\x06\\x01\\x88 \\x1f@P\\x07\\x9f\\xfcc\\xf8\\xfd\\xf0k\\xf6\\x7f\\xd0\\xa3\\xf1\\x1f\\xc6/\\x88ZW\\x86m.3\\xf6h\\xee\\x1d\\xa4\\xba\\xbb\\xda\\xf1\\xa3\\xfd\\x9e\\xda0\\xd3O\\xb0\\xcd\\x19\\x7f-\\x1bb\\xb0f\\xc2\\xe4\\xd0\\x07\\xc1\\x7f\\xb4?\\xfc\\x16\\x7f\\xc3>\\x1b\\xd5o\\xbc5\\xfb7x\"\\xd3\\xc5\\x88\\x96\\xf6\\xedo\\xe2\\x8dm\\xee-\\xac\\x8c\\xe5\\x83J\\x8ba\\xb29\\xe4A\\x1f\\xc8\\x1d\\xa5\\x84\\xf9\\x85\\x8e\\xd6D\\x06@\\x0f\\xca\\xbf\\x1f\\xf8\\xff\\x00\\xc6_\\x14\\xfce\\xab|A\\xf8\\x83\\xe2\\x1b\\xbds\\xc4:\\xe5\\xc1\\xb9\\xbe\\xbe\\xb9#|\\xaf\\x80\\x00\\x00\\x00\\xa8\\x8a\\xa1Q\\x11@DEUP\\xaa\\xa0\\x00\\x0e~\\x80\\n\\x00(\\x00\\xa0\\x02\\x80\\n\\x00(\\x00\\xa0\\x02\\x80\\n\\x00(\\x00\\xa0\\x02\\x80\\n\\x00(\\x00\\xa0\\x02\\x80\\n\\x00(\\x00\\xa0\\x02\\x80\\n\\x00(\\x00\\xa0\\x02\\x80\\n\\x00(\\x03\\xda\\xbfe\\x1f\\xd9G\\xe2?\\xedk\\xf1\\x1d<\\x15\\xe0\\xa8\\xbe\\xc3\\xa5X\\xf9s\\xeb\\xfa\\xfc\\xf0\\x97\\xb5\\xd2-X\\x90\\x19\\x80#\\xcc\\x99\\xf6\\xb0\\x8a\\x10CH\\xca\\xc4\\x94D\\x92D\\x00\\xfd\\xa9\\xfd\\x9e\\xbf\\xe0\\x9e\\x9f\\xb3/\\xec\\xe5\\xe7^\\xe8\\x1e\\x10\\xff\\x00\\x84\\xafZ}B\\rF\\xdb[\\xf1l6\\xba\\x85\\xf5\\x84\\x90`\\xc2-XB\\x89o\\xb1\\xf2\\xfb\\xe3E\\x90\\xb1\\x1b\\x9d\\x82F\\x10\\x03\\xe9Z\\x00\\xf9\\xff\\x00\\xe3\\xa7\\xed\\xdf\\xfb0~\\xce\\xda\\xee\\xa3\\xe0\\xef\\x88\\xdf\\x116\\xf8\\xa7N\\xd3\\xc6\\xa0\\xda\\x16\\x9d\\xa7\\xdc^]>\\xe4/\\x14\\x05\\xe3C\\x0cSH\\x02\\x95I\\xa4\\x8f\\xe5\\x927b\\xa8\\xea\\xe4\\x03\\xf2\\xdb\\xe3\\xcf\\xfc\\x15\\xbf\\xf6\\x97\\xf8\\xa7ss\\xa7\\xfc6\\x9a\\xd3\\xe1\\x87\\x87\\xa7\\xb7\\x9a\\xd8\\xdbi{.\\xf5\\x19RX\\x91\\x1c\\xc9},a\\x91\\xd5\\x84\\x8d\\x1b\\xdb\\xa4\\x0e\\x9eg%\\x99\\x15\\xc0\\x07\\xc4\\x14\\x00P\\x01@\\x05\\x00\\x14\\x00P\\x01@\\x05\\x00\\x14\\x00P\\x01@\\x05\\x00\\x14\\x00P\\x01@\\x05\\x00\\x14\\x00P\\x01@\\x05\\x00\\x14\\x00P\\x01@\\x05\\x00\\x14\\x00P\\x01@\\x05\\x00\\x14\\x01\\xf5\\xa7\\xec+\\xfb\\x05x\\xcb\\xf6\\xa7\\xf1\\x95\\xae\\xb1\\xe3=\\x0f\\xc4\\x1a\\x1f\\xc2\\xb8-\\xe7\\x9a\\xf7\\xc4\\x10\\xe2\\xd1\\xef_\\x12\\xc5\\x14:|\\x93E\"N\\xe2\\xe2?\\xde\\x10\\xa5\\x11#\\x903+\\xb4j\\xc0\\x1f\\xb9?\\x0c\\xfe\\x15|8\\xf87\\xe1X<\\x15\\xf0\\xb7\\xc1zW\\x86t[}\\xad\\xf6m>\\xdcG\\xe7H\\xb1\\xa4~t\\xcf\\xf7\\xe6\\x98\\xa4q\\x86\\x96B\\xd2>\\xd0Y\\x89\\xe6\\x808\\xaf\\xdac\\xf6\\xaa\\xf8G\\xfb(x6\\xdb\\xc6\\x1f\\x14\\xb5+\\xb6}F\\xe3\\xec\\xdaf\\x91\\xa6\\xc6\\x93j:\\x8b\\x82\\xbea\\x86\\'t]\\x91\\xab\\x06wvT\\\\\\xaa\\xe7{\\xc6\\x8e\\x01\\xf8\\xed\\xfbB\\xff\\x00\\xc1Q\\x7fi\\xaf\\x8e^N\\x99\\xa0k\\x7f\\xf0\\xad4[-B{\\xcbh\\xbc%{ui}4m\\x95\\x86;\\xab\\xc1 y|\\xb4$b5\\x8a7f,\\xd1\\xe5c\\x08\\x01\\xf2V\\xad\\xabj\\xba\\xfe\\xab{\\xae\\xeb\\xba\\x9d\\xde\\xa3\\xa9j7\\x12]\\xde^]\\xcc\\xd3Os<\\x8cZId\\x91\\x89gvbX\\xb1$\\x92I4\\x01V\\x80\\n\\x00(\\x00\\xa0\\x02\\x80\\n\\x00(\\x00\\xa0\\x02\\x80\\n\\x00(\\x00\\xa0\\x02\\x80\\n\\x00(\\x00\\xa0\\x02\\x80\\n\\x00(\\x00\\xa0\\x02\\x80\\n\\x00(\\x00\\xa0\\x02\\x80\\n\\x00(\\x00\\xa0\\x02\\x80>\\xbf\\xfd\\x82\\xbfa\\xdf\\x8a\\x7f\\x1f\\xfcm\\xe1\\xff\\x00\\x8aRx{J\\xb7\\xf0\\x0f\\x86|A\\xa4j\\x17\\xff\\x00\\xf0\\x92\\xda\\\\\\xa5\\xaf\\x88lR\\xf1\\xfe\\xd5\\x05\\x9f\\xfa;\\xc3w\\xb4[K\\x1c\\x88\\xcc\\x143\\xaa\\xb1\\xf9\\x8e\\x00?t\\xfc-\\xe1?\\n\\xf8\\x1bB\\xb5\\xf0\\xb7\\x82\\xbc3\\xa5x\\x7fE\\xb2\\xdf\\xf6m;K\\xb2\\x8e\\xd2\\xd6\\r\\xee\\xce\\xfb\"\\x8c*.\\xe7vc\\x81\\xcb1\\'\\x92h\\x03\\xca\\xbfj_\\xda\\xdb\\xe1g\\xec\\x8d\\xe1]\\x1f\\xc5?\\x13\"\\xd5o\\xbf\\xb7u\\x03\\xa7\\xd9i\\xda2\\xdbK}&\\xd8\\xd9\\xe4\\x9cE4\\xd1f\\x18\\xf0\\x8a\\xee\\xa4\\xedi\\xa2\\x04|\\xe2\\x80?\\x9e/\\x1f\\xf8\\xff\\x00\\xc6_\\x14\\xfce\\xab|A\\xf8\\x83\\xe2\\x1b\\xbds\\xc4:\\xe5\\xc1\\xb9\\xbe\\xbe\\xb9#|\\xaf\\x80\\x00\\x00\\x00\\xa8\\x8a\\xa1Q\\x11@DEUP\\xaa\\xa0\\x00\\x0e~\\x80\\n\\x00(\\x00\\xa0\\x02\\x80\\n\\x00(\\x00\\xa0\\x02\\x80\\n\\x00(\\x00\\xa0\\x02\\x80\\n\\x00(\\x00\\xa0\\x02\\x80\\n\\x00(\\x00\\xa0\\x02\\x80\\n\\x00(\\x00\\xa0\\x02\\x80\\n\\x00(\\x00\\xa0\\x02\\x80\\n\\x00\\xb5\\xa4\\xe9:\\xae\\xbf\\xaa\\xd9hZ\\x16\\x99w\\xa8\\xeaZ\\x8d\\xc4v\\x96vv\\x90\\xb4\\xd3\\xdc\\xcf#\\x05\\x8e(\\xe3PY\\xdd\\x98\\x85\\n\\x01$\\x90\\x05\\x00\\x7fG\\xdf\\xb2/\\xc1\\rW\\xf6q\\xfd\\x9d<\\x19\\xf0k]\\xd7-5}K@\\xb7\\xb9k\\xcb\\xbbH\\xd9 3\\xdc]Ms\"G\\xbb\\xe6dF\\x9c\\xa0r\\x14\\xb8@\\xc5Sv\\xc0\\x01o\\xf6\\x92\\xf8\\xf1\\xe1_\\x80\\x7f\\x0b<I\\xe2\\x9dK\\xc6\\x1e\\x14\\xd2\\xbcI\\x0f\\x87\\xf5]C\\xc3:v\\xbb\\xa8G\\x07\\xf6\\xb5\\xf5\\xad\\xb1t\\x82(\\x8c\\x89$\\xf9\\x91\\xa1VH\\xce\\xef\\xde(\\x04\\x16\\x14\\x01\\xfc\\xf5\\xfcf\\xf8\\xf1\\xf1O\\xe3\\xdf\\x8a\\xae\\xfcS\\xf13\\xc6:\\xae\\xab\\xe7j\\x17\\xba\\x85\\x96\\x9d>\\xa1s=\\x8e\\x93\\xf6\\xa9\\x03\\xc9\\x05\\x94SH\\xfeD#j(E?v4\\x04\\x9d\\xa2\\x808\\n\\x00(\\x00\\xa0\\x02\\x80\\n\\x00(\\x00\\xa0\\x02\\x80\\n\\x00(\\x00\\xa0\\x02\\x80\\n\\x00(\\x00\\xa0\\x02\\x80\\n\\x00(\\x00\\xa0\\x02\\x80\\n\\x00(\\x00\\xa0\\x02\\x80\\n\\x00(\\x00\\xa0\\x02\\x80\\n\\x00(\\x00\\xa0\\x0f\\xd3O\\xf8#\\x8f\\xec\\xbb\\xaa\\xea~2\\xbe\\xfd\\xa8\\xfca\\xa2]\\xdbi\\x1a-\\xbc\\xdao\\x84e\\x99\\x1a4\\xbd\\xbd\\x98<7wQ0\\x90\\x17Hb\\xf3 ;\\xa3x\\xd9\\xee_k\\t-\\xd8\\x00\\x0f\\xd6\\x9d[V\\xd2\\xb4\\r*\\xf7]\\xd7u;M;M\\xd3\\xad\\xe4\\xbb\\xbc\\xbc\\xbb\\x99a\\x82\\xda\\x08\\xd4\\xb4\\x92\\xc9#\\x10\\xa8\\x8a\\xa0\\xb1b@\\x00\\x12h\\x03\\xf9\\xe1\\xfd\\xb5\\xff\\x00j\\xedw\\xf6\\xb4\\xf8\\xcb{\\xe3/7U\\xb3\\xf0\\x86\\x9b\\x9b?\\x0bh\\x97\\xb3#}\\x82\\xd7j\\t$+\\x18\\x08&\\x9d\\xd3\\xcd\\x90\\xe5\\xd8e#\\xf3\\x1d\"\\x8c\\xd0\\x07\\x80P\\x01@\\x05\\x00\\x14\\x00P\\x01@\\x05\\x00\\x14\\x00P\\x01@\\x05\\x00\\x14\\x00P\\x01@\\x05\\x00\\x14\\x00P\\x01@\\x05\\x00\\x14\\x00P\\x01@\\x05\\x00\\x14\\x00P\\x01@\\x05\\x00\\x14\\x00P\\x01@\\x05\\x00zW\\xec\\xe3\\xf0wU\\xf8\\xeb\\xf1\\xa3\\xc2_\\x0el\\xf4\\x1f\\x10j:n\\xa3\\xacXE\\xafK\\xa2Z\\xb4\\xd3\\xe9\\xfaT\\x97p\\xc3sv\\xcc\\x11\\xd6$\\x8de\\x04\\xcb\"\\x94RWw\\xa1\\x00\\xfe\\x8c\\xfe\\x15|3\\xf0\\xaf\\xc1\\xbf\\x87\\x1e\\x1c\\xf8[\\xe0\\xabO\\xb3\\xe8\\xbe\\x19\\xd3\\xe2\\xd3\\xed\\xb7G\\x1aI6\\xc1\\xf3\\xcf/\\x96\\x88\\x8d4\\xaeZI\\x1c(\\xdf#\\xbb\\x11\\x964\\x01\\xf0\\xaf\\xfc\\x15\\xef\\xf6\\xae\\xbc\\xf8m\\xe0KO\\xd9\\xb7\\xc1\\xd2\\xf9z\\xd7\\x8f\\xb4\\xf6\\xbc\\xd7n\\xd2i\\xe1\\x9a\\xcbG\\x13\\x05H\\xe3(\\x15\\x1f\\xedO\\x14\\xf18.\\xc0E\\x14\\xa8\\xf1\\x9122\\x80~6P\\x01@\\x05\\x00\\x14\\x00P\\x01@\\x05\\x00\\x14\\x00P\\x01@\\x05\\x00\\x14\\x00P\\x01@\\x05\\x00\\x14\\x00P\\x01@\\x05\\x00\\x14\\x00P\\x01@\\x05\\x00\\x14\\x00P\\x01@\\x05\\x00\\x14\\x00P\\x01@\\x05\\x00\\x14\\x01\\xfa\\x93\\xff\\x00\\x04>\\xf0\\x05\\xb4\\xba\\xaf\\xc5?\\x8aW\\xde\\x1e\\xbb\\x17\\x16\\xb6\\xfav\\x81\\xa5\\xea\\xcc%X\\nJ\\xd2\\xcf{n\\x87>S\\xb80\\xd8;p]\\x01\\x8f\\xee\\x89\\x0e\\xe0\\x0f\\xd5\\xfa\\x00\\xfep\\x7fl\\xcf\\x8d~\\x15\\xfd\\xa2\\x7fi?\\x18|c\\xf0V\\x9f\\xaa\\xd9h\\xbe \\xfe\\xcf\\xfb4\\x1a\\xa4Q\\xc7t\\x9eE\\x85\\xbd\\xbb\\xefX\\xe4\\x91\\x06^\\x16#\\x0e~R3\\x83\\x90\\x00<V\\x80\\n\\x00(\\x00\\xa0\\x02\\x80\\n\\x00(\\x00\\xa0\\x02\\x80\\n\\x00(\\x00\\xa0\\x02\\x80\\n\\x00(\\x00\\xa0\\x02\\x80\\n\\x00(\\x00\\xa0\\x02\\x80\\n\\x00(\\x00\\xa0\\x02\\x80\\n\\x00(\\x00\\xa0\\x02\\x80\\n\\x00(\\x00\\xa0\\x0f\\xe8\\xf7\\xf6,\\xf8g\\xff\\x00\\n\\x8b\\xf6S\\xf8a\\xe0Y-5[K\\xbb\\x7f\\x0f\\xc1\\xa8_\\xda\\xea\\x91\\xf9wV\\xb7\\xd7\\xa4\\xde]@\\xe9\\xb1Jys\\xdcJ\\x81\\x19w*\\xa8V%\\x81$\\x03\\xca\\xbf\\xe0\\xa4\\xbf\\xb5\\xff\\x00\\xfc3\\x07\\xc2\\xcb\\x7f\\x0bi\\x1a\\x0e\\xabw\\xe2O\\x89z~\\xb1\\xa5\\xe9z\\x8d\\x96\\xa3\\xf6\\x1f\\xeco.\\xd9Q\\xafD\\xaa\\x1aC4r][\\xb4h\\xa1s\\xb5\\xcf\\x99\\x19U\\xdc\\x01\\xf8\\xd9\\xff\\x00\\x0c\\x9d\\xfbS\\xff\\x00\\xd1\\xb4\\xfcU\\xff\\x00\\xc27Q\\xff\\x00\\xe34\\x00\\x7f\\xc3\\'~\\xd4\\xff\\x00\\xf4m?\\x15\\x7f\\xf0\\x8d\\xd4\\x7f\\xf8\\xcd\\x00T\\xd5\\xbffO\\xdaK@\\xd2\\xafu\\xddw\\xf6|\\xf8\\x95\\xa7i\\xbau\\xbc\\x97w\\x97\\x97~\\x13\\xbf\\x86\\x0bh#R\\xd2K$\\x8d\\x10TEPX\\xb1 \\x00\\t4\\x01\\xe6\\xb4\\x00P\\x01@\\x05\\x00\\x14\\x00P\\x01@\\x05\\x00\\x14\\x00P\\x01@\\x05\\x00\\x14\\x00P\\x01@\\x05\\x00\\x14\\x00P\\x01@\\x05\\x00\\x14\\x00P\\x01@\\x05\\x00\\x14\\x00P\\x01@\\x05\\x00\\x14\\x01\\xee\\xbf\\xb1\\x1f\\xc0ko\\xda;\\xf6\\x97\\xf0w\\xc3mf\\xca\\xee\\x7f\\x0f\\x1b\\x87\\xd5<@a\\xb7\\x96D\\x1au\\xb2\\x19d\\x8eW\\x89\\xd1\\xa1I\\x99c\\xb6\\x12\\xef]\\x8fp\\x84e\\xb6\\xa9\\x00\\xfe\\x8c\\xe8\\x00\\xa0\\x02\\x80\\n\\x00(\\x00\\xa0\\x0f*\\xf8\\xa5\\xfb*\\xfe\\xce?\\x1a\\x7f\\xb4\\xe6\\xf8\\x97\\xf0_\\xc2\\x9a\\xcd\\xfe\\xb3\\xe4\\xfd\\xb7U\\xfb\\x02[\\xea\\x92\\xf9[\\x04\\x7f\\xe9\\xd0\\xec\\xb9\\\\,H\\x9f,\\x83(6\\x1c\\xa9*@>J\\xf8\\xbd\\xff\\x00\\x04`\\xf8\\r\\xe2\\xfb\\x995\\x1f\\x84~7\\xf1\\x07\\xc3\\xdb\\x89\\xae\"cg2\\x7fl\\xe9\\xd0\\xc0\\xb1\\x15t\\x8a9].\\x03\\xb3\\x85\\x90\\xbb\\xdc8\\x19u\\n\\x01]\\x80\\x1f5|^\\xff\\x00\\x820|y\\xf0\\x85\\xb4\\x9a\\x8f\\xc2?\\x1b\\xf8\\x7f\\xe2\\x15\\xbc6\\xf11\\xb3\\x99?\\xb1\\xb5\\x19\\xa7iJ\\xbaE\\x1c\\xae\\xf6\\xe5\\x15\\n\\xc8]\\xee\\x10\\x9c:\\x85$.\\xf0\\x0f\\x8d~5\\xfc\\x04\\xf8\\xb1\\xfb;x\\xaa\\xd7\\xc1_\\x18\\xfc)\\xff\\x00\\x08\\xfe\\xb5{\\xa7\\xa6\\xa9\\x05\\xb7\\xdb\\xad\\xae\\xf7\\xda\\xbc\\x92F\\xb2o\\xb7\\x92D\\x19xd\\x18\\'w\\xcb\\x9c`\\x82@8\\n\\x00(\\x00\\xa0\\x02\\x80\\n\\x00(\\x00\\xa0\\x02\\x80\\n\\x00(\\x00\\xa0\\x02\\x80\\n\\x00(\\x00\\xa0\\x02\\x80\\n\\x00(\\x00\\xa0\\x02\\x80\\n\\x00(\\x00\\xa0\\x0fu\\xfd\\x95\\x7fc\\xbf\\x8b\\x9f\\xb5\\x7f\\x8c\\xac\\xf4o\\x07\\xe8\\xf7zw\\x86\\x16\\xe1\\xa3\\xd5\\xfcYsf\\xed\\xa7i\\xc9\\x18\\x8d\\xa5@\\xfc,\\xd7;e\\x8fe\\xba\\xb0v\\xde\\xa5\\x8aG\\xbeD\\x00\\xfe\\x87|-\\xe1?\\n\\xf8\\x1bB\\xb5\\xf0\\xb7\\x82\\xbc3\\xa5x\\x7fE\\xb2\\xdf\\xf6m;K\\xb2\\x8e\\xd2\\xd6\\r\\xee\\xce\\xfb\"\\x8c*.\\xe7vc\\x81\\xcb1\\'\\x92h\\x00\\xf1O\\x8b<+\\xe0m\\n\\xeb\\xc5>5\\xf16\\x95\\xe1\\xfd\\x16\\xcbg\\xdau\\x1dR\\xf6;KX7\\xba\\xa2o\\x96B\\xa8\\xbb\\x9d\\xd5FO,\\xc0\\x0eH\\xa0\\x0f\\x80>1\\xff\\x00\\xc1i>\\r\\xf8?^\\x8fH\\xf8;\\xf0\\xefU\\xf8\\x89i\\x1e~\\xd3\\xaa\\\\\\xde6\\x8bj\\xd9H\\xd9>\\xce\\xb2A$\\xd2r\\xd2#\\xf9\\x91C\\xb5\\xa3\\x1b|\\xc5`\\xc0\\x03\\xe2\\x0f\\x8d\\xff\\x00\\xf0T\\x1f\\xda\\xbf\\xe3f\\x95\\xa6h\\xcb\\xe2\\x8bO\\x00[\\xe9\\xd7\\x0fr\\xef\\xe0y/4\\xc9\\xef\\x1c\\xae\\xd5\\x13Ln\\x1eR\\x8a\\x0b\\xe1\\x15\\x95\\t|\\xb8r\\xb1\\x94\\x00\\xf2\\x0f\\xf8k\\x1f\\xda\\x9f\\xfe\\x8e[\\xe2\\xaf\\xfe\\x16Z\\x8f\\xff\\x00\\x1e\\xa0\\x0e\\xd7\\xc1_\\xf0P\\xff\\x00\\xdbK\\xc0\\x1aT\\xba>\\x85\\xfb@x\\x82\\xea\\xdek\\x86\\xb9g\\xd6\\xe2\\xb6\\xd6g\\x0eUT\\x85\\x9a\\xfa)\\xa5T\\xc2\\x0c `\\x80\\x96 \\x02\\xccH\\x07\\xa0x+\\xfe\\n\\xd9\\xfbixWU\\x97P\\xd7|a\\xe1\\xff\\x00\\x18\\xdb\\xc9n\\xd0\\xad\\x8e\\xb7\\xe1\\xfbh\\xa0\\x8d\\xcb)\\x13)\\xb1\\x16\\xf2\\xef\\x01J\\x80\\\\\\xa6\\x1d\\xb2\\xa4\\xed*\\x01\\xf4\\xff\\x00\\xc3?\\xf8-\\xef\\x85n|\\x8b?\\x8c\\x7f\\x03\\xf5]?\\xca\\xd3\\xd7\\xcf\\xd4<3\\xa8\\xc7y\\xf6\\x8b\\xe1\\xb06\\xdbK\\x81\\x0f\\x93\\x0b~\\xf1\\x86n%e\\xc2/\\xcf\\x92\\xe0\\x03\\xea\\xaf\\x0b\\x7f\\xc1H\\x7fb_\\x18k\\xb6\\xbe\\x1c\\xd2~>iV\\xf7w{\\xfc\\xb95M>\\xfbL\\xb5]\\x88\\xcew\\xdc\\xdd\\xc1\\x1c1\\xf0\\xa4\\r\\xee76\\x14e\\x98\\x02\\x01\\xf4V\\x93\\xabiZ\\xfe\\x95e\\xae\\xe8Z\\x9d\\xa6\\xa3\\xa6\\xea6\\xf1\\xdd\\xd9\\xdeZL\\xb3As\\x04\\x8a\\x1a9c\\x91IWFR\\x180$\\x10A\\x14\\x01\\xcf\\xfcL\\xf8U\\xf0\\xe3\\xe3\\'\\x85g\\xf0W\\xc5/\\x05\\xe9^&\\xd1n77\\xd9\\xb5\\x0bq\\'\\x93#F\\xf1\\xf9\\xd0\\xbf\\xdf\\x86`\\x92H\\x16X\\xca\\xc8\\x9b\\x89V\\x07\\x9a\\x00\\xfc\\x96\\xfd\\xa7?\\xe0\\x8f\\xbf\\x13<\\x1b\\xafi\\xd7\\x1f\\xb2\\xf8\\xd5|}\\xa2\\xea>w\\xdal\\xf5K\\xbd:\\xce\\xebI\\xf2\\xd2\\x10\\x9b\\xee$\\x9a\\x14\\xb9\\xf3]\\xa7#dI\\xe5\\xaca[q!\\x88\\x07\\xe7]\\x00\\x14\\x00P\\x01@\\x05\\x00\\x14\\x00P\\x01@\\x05\\x00\\x14\\x00P\\x01@\\x05\\x00\\x14\\x00P\\x01@\\x05\\x00\\x14\\x00P\\x01@\\x05\\x00\\x14\\x01\\xfd6\\xfc1\\xf8\\x9b\\xf03\\xc5\\xd6\\xa9\\xe1O\\x83?\\x10\\xbc\\x0b\\xad[h6p\\xc2\\x9ao\\x865k;\\x94\\xb0\\xb5@#\\x89DV\\xeeDQ\\x80\\x02\\xa8\\xc0P\\x00\\x03\\xa5\\x00wt\\x01\\xf0\\xaf\\xfc\\x16+\\xe2g\\xfc!\\xff\\x00\\xb2\\x9c>\\x05\\xb4\\xbb\\xd2\\x8d\\xdf\\x8f|Ag\\xa7\\xcdkq\\'\\xfaSX\\xdb\\x13y$\\xf6\\xe8\\x1c\\x13\\xb2x,\\xd1\\xdc\\xab*\\xac\\xe1H\\x0c\\xe8@\\x07\\xe2\\r\\x00\\x14\\x00P\\x01@\\x05\\x00\\x14\\x00P\\x07\\xaa\\xfc\\x0b\\xfd\\xa8\\xfe;~\\xcd\\x7f\\xdb\\x7f\\xf0\\xa5<s\\xff\\x00\\x08\\xe7\\xfc$\\x7ff\\xfe\\xd3\\xff\\x00\\x89e\\x9d\\xe7\\x9f\\xf6\\x7f7\\xc9\\xff\\x00\\x8f\\x98\\xa4\\xdb\\xb7\\xcf\\x97\\xee\\xe3;\\xb9\\xce\\x06\\x00?b\\x7fd_\\xf8)\\'\\xc1\\xef\\x8d\\xfe\\x19\\xf0g\\x85\\xfe\\'x\\xf7\\xc3\\xfa\\x1f\\xc5\\xbf\\x12\\\\\\\\\\xdaO\\xa1Zi\\xb7\\xd6\\xd6B\\x7f\\xb4L-\\xa2\\x8ey\\x83\\xc3\\xbeHV\\x12\\x14\\xceKI E\\xf9\\x98%\\x00}\\x95@\\x1f\\x8d\\x7f\\xb7\\x7f\\xfc\\x12\\xfbB\\xf8\\t\\xe0O\\x17~\\xd0?\\x0b|}\\x8f\\x0bi\\xba\\x85\\xac\\x9f\\xf0\\x8bj\\x16\\xae\\xd3XZ\\xdc\\xcd\\x1c\\x1ba\\xbc\\xf3\\x18\\xcf\\xb2y\\xa3\\xda\\xb2\"\\xb0\\x88\\x9d\\xd2\\xbb\\xa6e\\x00\\xfc\\xeb\\xa0\\x02\\x80\\n\\x00(\\x00\\xa0\\x02\\x80\\n\\x00(\\x00\\xa0\\x02\\x80\\n\\x00(\\x00\\xa0\\x02\\x80\\n\\x00(\\x00\\xa0\\x02\\x80\\n\\x00(\\x00\\xa0\\x0fo\\xfd\\x96?k\\xbf\\x89?\\xb2.\\xbf\\xaex\\x8f\\xe1\\xb6\\x89\\xe1\\xadJ\\xe7_\\xb3\\x8e\\xca\\xe55\\xcbk\\x89\\x91\\x11\\x1fx(!\\x9a\"\\x0e}I\\x18\\xed@\\x1f\\xb9\\xdf\\xb1\\x9f\\xc6\\xbf\\x15~\\xd1?\\xb3g\\x83\\xfe1\\xf8\\xd7O\\xd2\\xac\\xb5\\xaf\\x10\\x7fh}\\xa6\\r.)#\\xb5O\"\\xfe\\xe2\\xdd6,\\x92H\\xe3)\\n\\x93\\x97?18\\xc0\\xc0\\x00\\x1f\\x0b\\x7f\\xc1s\\xbf\\xe6\\x89\\xff\\x00\\xdc\\xc9\\xff\\x00\\xb8\\xda\\x00\\xfc\\xab\\xa0\\x02\\x80\\n\\x00(\\x00\\xa0\\x02\\x80\\n\\x00(\\x00\\xa0\\x0f\\xdf?\\xf8&\\xdf\\xed)\\xa5|o\\xfd\\x9d</\\xa1x\\xa3\\xe2\\xad\\xa7\\x89>&hv\\xf7\\x96\\xfa\\xed\\x9d\\xdd\\xca\\xff\\x00j\\x88!\\xba+\\x04\\xf2F@y\\x93\\xec\\xf2\\xd9\\xa9\\xb9\\xc3\\x06v!\\xdd\\xa5\\xdf@\\x1fE|U\\xf8g\\xe1_\\x8c\\x9f\\x0e<G\\xf0\\xb7\\xc6\\xb6\\x9fh\\xd1|M\\xa7\\xcb\\xa7\\xdc\\xed\\x8e7\\x92\\x1d\\xe3\\xe4\\x9e/1\\x1d\\x16h\\x9c,\\x91\\xb9S\\xb2DF\\x03*(\\x03\\xf9\\xd7\\xfd\\xa8\\xfe\\x05\\xff\\x00\\xc35\\xfcv\\xf17\\xc1O\\xf8J\\x7f\\xe1#\\xff\\x00\\x84s\\xec_\\xf13\\xfb\\x0f\\xd8\\xfc\\xff\\x00\\xb4Y\\xc1s\\xfe\\xa7\\xcc\\x93n\\xdf?o\\xdf9\\xdb\\x9e3\\x80\\x01\\xe5T\\x00P\\x01@\\x05\\x00\\x14\\x00P\\x01@\\x05\\x00\\x14\\x00P\\x01@\\x05\\x00\\x14\\x00P\\x01@\\x05\\x00\\x14\\x00P\\x01@\\x05\\x00\\x14\\x01\\xfb\\xfd\\xff\\x00\\x04\\xb8\\xff\\x00\\x93\\x13\\xf8e\\xff\\x00q\\xaf\\xfd<^\\xd0\\x07\\xca\\xbf\\xf0\\\\\\xef\\xf9\\xa2\\x7f\\xf72\\x7f\\xee6\\x80?*\\xe8\\x00\\xa0\\x02\\x80\\n\\x00(\\x00\\xa0\\x02\\x80\\n\\x00(\\x03\\xd2\\xbff\\x8f\\x1f\\xdb|,\\xfd\\xa1\\xbe\\x1b\\xfcA\\xd4<Cw\\xa1\\xe9\\xba\\x1f\\x8a4\\xdb\\x9dR\\xfa\\xd8\\xcb\\xbe-;\\xed\\x08/\\x01\\x11\\x02\\xee\\x8dneGE\\x07z3.\\x1bv\\x08\\x07\\xf4\\x91\\xe1?\\x14\\xe8^9\\xf0\\xae\\x8d\\xe3_\\x0b_}\\xb7E\\xf1\\x06\\x9fo\\xaai\\xd7>S\\xc7\\xe7\\xda\\xcf\\x1a\\xc9\\x14\\x9b\\x1c+\\xae\\xe4u8`\\x18g\\x04\\x03\\xc5\\x00~U\\xff\\x00\\xc1h\\xff\\x00g\\xaf\\xec\\xcdw\\xc3\\x9f\\xb4\\xee\\x93s\\xa5[\\xdaj\\xff\\x00f\\xf0\\x96\\xafe\\x1d\\xaf\\x95u5\\xf2%\\xcc\\xd0^4\\x8a16`\\x8c\\xc2\\xc5\\xf0\\xc8\\xb6\\xf0\\x00][\\x11\\x80~`\\xd0\\x01@\\x05\\x00\\x14\\x00P\\x01@\\x05\\x00\\x14\\x00P\\x01@\\x05\\x00\\x14\\x00P\\x01@\\x05\\x00\\x14\\x00P\\x01@\\x05\\x00\\x14\\x00P\\x07\\xef\\xf7\\xfc\\x12\\xe3\\xfeLO\\xe1\\x97\\xfd\\xc6\\xbf\\xf4\\xf1{@\\x1e)\\xff\\x00\\x05\\x9b\\xf8)\\xe2\\xaf\\x1c\\xfc\\'\\xf0\\xc7\\xc6=\\'P\\xd2\\xa1\\xd1~\\x19}\\xb7\\xfb^\\x0b\\x89d[\\xa9\\xff\\x00\\xb4nt\\xfbx>\\xce\\xab\\x1b#mt%\\xf7\\xbaaq\\x8d\\xc7\\x8a\\x00\\xfcl\\xa0\\x02\\x80\\n\\x00(\\x00\\xa0\\x02\\x80\\n\\x00(\\x00\\xa0\\x02\\x80?l\\xff\\x00\\xe0\\x8e\\xff\\x00\\x1a5_\\x88\\xbf\\xb3\\xce\\xb5\\xf0\\xff\\x00\\xc5\\x1e/\\xbb\\xd6u\\x7f\\x00k\\tigor\\x8c\\xcfa\\xa2Mn\\x9fc\\x88JW\\x0e\\x82XoU\\x14\\xb34i\\x1a\\xa7\\xcb\\x18\\x88P\\x07\\xa0\\x7f\\xc1T\\xf4\\x9d+Q\\xfd\\x87<}y\\xa8i\\x96\\x97W\\x1a]\\xc6\\x8fwc,\\xd0\\xab\\xbd\\xac\\xe7S\\xb6\\x84\\xcb\\x13\\x11\\x94s\\x14\\xd2\\xc6YpvH\\xeb\\xd1\\x88 \\x1f\\x81\\x94\\x00P\\x01@\\x05\\x00\\x14\\x00P\\x01@\\x05\\x00\\x14\\x00P\\x01@\\x05\\x00\\x14\\x00P\\x01@\\x05\\x00\\x14\\x00P\\x01@\\x05\\x00\\x14\\x01\\xfbS\\xff\\x00\\x04m\\xf8\\xabg\\xe2\\x0f\\xd9\\xc6\\xf3\\xe1~\\xaf\\xe3M*\\xe3Z\\xf0\\xcf\\x885\\x16\\xd2\\xf4?\\xb4@\\x97\\xd6\\xfa;\\xa5\\xb4\\xcd7\\x92\\xb8\\x95\\xe17ww\\x1f\\xbd`F\\xe7\\xd9\\xbb\\n\\xaa\\x00>\\xb4\\xfd\\xa5>\\x10\\xdb|z\\xf8\\r\\xe3\\x9f\\x84sAi%\\xc7\\x88\\xb4y\\xa1\\xd3\\xcd\\xdc\\xf2\\xc3\\x04Z\\x8ab[)\\xa4x\\xb2\\xe1#\\xb9\\x8e\\x19\\x08\\x01\\xb2\\x10\\x82\\xac\\tR\\x01\\xfc\\xd6j\\xdaN\\xab\\xa0j\\xb7\\xba\\x16\\xbb\\xa6]\\xe9\\xda\\x96\\x9dq%\\xa5\\xe5\\x9d\\xdc-\\x0c\\xf6\\xd3\\xc6\\xc5d\\x8aH\\xd8\\x06GV\\x05J\\x90\\x08 \\x83@\\x15h\\x00\\xa0\\x02\\x80\\n\\x00(\\x00\\xa0\\x02\\x80\\n\\x00(\\x03\\xf5{\\xfe\\x08k\\xa4\\xea\\xb0\\xe9_\\x195\\xd9\\xb4\\xcb\\xb4\\xd3o.4\\x1bK{\\xc6\\x85\\x84\\x13O\\n\\xdf4\\xb1$\\x98\\xda\\xce\\x8b<,\\xca\\x0eTK\\x198\\xdc2\\x01\\xf5\\x07\\xfc\\x15\\x1f\\xfeLO\\xe2o\\xfd\\xc1\\x7f\\xf4\\xf1e@\\x1f\\x804\\x00P\\x01@\\x05\\x00\\x14\\x00P\\x01@\\x05\\x00\\x14\\x00P\\x01@\\x05\\x00\\x14\\x00P\\x01@\\x05\\x00\\x14\\x00P\\x01@\\x05\\x00\\x14\\x01\\xf4W\\xec\\x01\\xf1\\xe6\\xe7\\xf6|\\xfd\\xa8\\xfc#\\xe2i\\xafm-\\xb4-~\\xe1<3\\xe2\\x17\\xbb\\xb8\\x8a\\xda\\x04\\xd3\\xae\\xe5\\x8dZi&\\x91\\x18D\\x90J\\xb0\\xdc\\x92\\n\\xe4[\\x94.\\xaa\\xcch\\x03\\xfa\\x1e\\xa0\\x0f\\xc3o\\xf8+\\x8f\\xc1\\x7f\\x0c\\xfc)\\xfd\\xa4\\xacu\\xdf\\x05\\xf8B\\xefI\\xd3|s\\xa3\\xc9\\xafj\\x17\\x8c\\xf7\\x12\\xc1\\x7f\\xad\\xc9\\x7ft\\xd7\\xac\\x92J\\xcc\\xa1\\xc2\\xbd\\xb34Q\\x90\\xa8$\\x8c\\xed]\\xe3 \\x1f\\x10P\\x01@\\x05\\x00\\x14\\x00P\\x01@\\x05\\x00\\x14\\x00P\\x07\\xeeO\\xfc\\x11\\xeb\\xc1Z\\xaf\\x85\\x7fc\\xe4\\xd7u\\x0b\\x8bI-\\xfcc\\xe2\\x8dK[\\xb1X]\\x8b\\xc7\\x02,6%e\\x05@\\x0f\\xe6\\xd8\\xca\\xc0)a\\xb1\\x90\\xe7$\\xaa\\x80\\x1f\\xf0X_\\x1a\\xea\\xbe\\x15\\xfd\\x8f\\xdfB\\xd3\\xed\\xed$\\xb7\\xf1\\x8f\\x8a4\\xdd\\x12\\xf9\\xa6F/\\x1c\\x08\\xb3_\\x06\\x88\\x86\\x00?\\x9bc\\x12\\x92\\xc1\\x86\\xc6q\\x8c\\x90\\xca\\x01\\xf8m@\\x05\\x00\\x14\\x00P\\x01@\\x05\\x00\\x14\\x00P\\x01@\\x05\\x00\\x14\\x00P\\x01@\\x05\\x00\\x14\\x00P\\x01@\\x05\\x00\\x14\\x00P\\x01@\\x05\\x00\\x7fK\\xbf\\x00\\xfe>x\\x07\\xf6\\x82\\xf0\\x06\\x8f\\xe2\\xff\\x00\\x08x\\x93\\xc3\\xf7:\\x95\\xce\\x8f\\xa7jZ\\xd6\\x8b\\xa6\\xebP\\xea\\x13\\xe8s\\xddC\\xe6}\\x96\\xe7\\xcb\\xc3#\\xab\\tS\\xe7D$\\xc4\\xff\\x00(\\xc1\\x00\\x02\\xdf\\xc7\\x8f\\x83>\\x15\\xf8\\xf9\\xf0\\xb3\\xc4\\x1f\\x0c\\xfcS\\xa7iS\\x7fj\\xe9\\xf7pi\\xd7\\xba\\x86\\x99\\x1d\\xf7\\xf6M\\xf4\\xb6\\xd2\\xc3\\x15\\xf41\\xbe14^k2\\xb2\\xb27P\\x19s\\x9a\\x00\\xfe}\\xbfh\\x1f\\xd93\\xe3\\xcf\\xec\\xcb\\xaa\\xb5\\x9f\\xc5\\x7f\\x02\\xdd\\xd9\\xe9\\xafpm\\xec\\xf5\\xebO\\xf4\\x9d*\\xf4\\x96\\x94G\\xe5\\xdc\\xa8\\xda\\xae\\xeb\\x04\\x92\\x08d\\xd90@\\x19\\xa3\\\\\\xd0\\x07\\x90P\\x01@\\x05\\x00\\x14\\x00P\\x01@\\x05\\x00z\\xff\\x00\\xec\\x9f\\xfb:\\xea\\xbf\\xb5/\\xc6\\xdd\\x1f\\xe1\\x06\\x9f\\xab]\\xe8\\xd6\\xf7\\xd6\\xf7ww\\xda\\xc4:[_\\xa6\\x9b\\x040;\\x89e\\x8c:\\x00\\x8d(\\x8a\\x10\\xcc\\xea\\x03\\xcc\\x83\\x92B\\x90\\x0f\\xe9&\\x80?-\\x7f\\xe0\\xb8>?\\xb9\\x8bJ\\xf8Y\\xf0\\xb6\\xc7\\xc46\\x86\\xde\\xea\\xe3Q\\xd7\\xf5M%LM8x\\x96(,\\xae\\x1cc\\xcdD\"k\\xf4^B9\\x12}\\xe3\\x18\\xda\\x01\\xf9C@\\x05\\x00\\x14\\x00P\\x01@\\x05\\x00\\x14\\x00P\\x01@\\x05\\x00\\x14\\x00P\\x01@\\x05\\x00\\x14\\x00P\\x01@\\x05\\x00\\x14\\x00P\\x01@\\x05\\x00}?\\xfb\\x0e~\\xdcz\\xaf\\xec_\\xaa\\xf8\\xbah~\\x1dZx\\xbfM\\xf1}\\xbd\\x9a\\xdc[\\xb6\\xa4\\xd6\\x13\\xc3=\\xabK\\xe5:K\\xe5\\xca\\xa56\\xdcL\\x19\\x0cy$\\xc6C.\\xd2\\x1c\\x03\\xf7{\\xc0\\xbf\\x16>\\x16|P\\xfbw\\xfc+?\\x89~\\x14\\xf1o\\xf6g\\x95\\xf6\\xdf\\xec-f\\xda\\xff\\x00\\xec\\xbef\\xef/\\xcd\\xf2]\\xb6n\\xf2\\xdfn\\xecgcc\\xa1\\xa0\\r_\\x14\\xf8O\\xc2\\xbe9\\xd0\\xae\\xbc-\\xe3_\\x0c\\xe9^ \\xd1ov}\\xa7N\\xd5,\\xa3\\xbb\\xb5\\x9fc\\xab\\xa6\\xf8\\xa4\\x0c\\x8d\\xb5\\xd1Xdp\\xca\\x08\\xe4\\n\\x00\\xf9\\x83\\xf6\\x87\\xff\\x00\\x82g\\xfe\\xcd\\x1f\\x1a\\xbc3}\\x07\\x84<\\t\\xe1\\xff\\x00\\x87^,\\x92\\xde\\xde\\xda\\xc3]\\xd14\\xd7\\x8a\\x0b4\\x8e\\xe0J\\xe5\\xb4\\xfby\\xa0\\xb7\\x99\\xdd\\x0c\\xb1\\x97q\\xbc\\x07S\\x93\\xe5\\xa0\\x00\\x1f\\x96\\xdf\\x1a\\xff\\x00\\xe0\\x99\\x7f\\xb5\\xc7\\xc1o\\xb2\\xdc\\x7f\\xc2\\x03\\xff\\x00\\t\\xdd\\x85\\xd6\\xc4\\xfbg\\x82\\x84\\xfa\\xa7\\x953y\\x87\\xcb{\\x7f).W\\x0b\\x16L\\x9eW\\x94<\\xc8\\xd7~\\xe6\\xda\\x00>U\\xa0\\x02\\x80\\n\\x00(\\x03\\xe9O\\xd9\\x8b\\xfe\\t\\xff\\x00\\xfbA~\\xd3\\xdf\\xd8\\xbe$\\xd0<;\\xfd\\x89\\xe0\\x1dKP\\x92\\xce\\xe7\\xc5z\\x84\\x91,0\\xc7\\x17\\xfa\\xe9!\\xb6.\\xb3]`\\x83\\x1a\\x98\\xd7\\xcb2\\x82\\x8d\"m\\x91\\x90\\x03\\xf6\\xd3\\xf6g\\xfd\\x95~\\x11\\xfe\\xca\\x1e\\r\\xb9\\xf0\\x7f\\xc2\\xdd6\\xed\\x9fQ\\xb8\\xfbN\\xa7\\xab\\xeaR$\\xda\\x8e\\xa2\\xe0\\xb7\\x96&\\x95\\x11\\x17dj\\xc5Q\\x11U\\x17,\\xd8\\xde\\xf2;\\x80{\\x05\\x00\\x7f5\\x9f\\xb5W\\xc5/\\xf8]?\\xb4w\\xc4_\\x89\\x90\\xeb\\xbf\\xdb6\\x1a\\xcf\\x88.\\xbf\\xb2\\xaf~\\xcb\\xf6\\x7f7K\\x89\\xfc\\x9b\\x1f\\xdd\\x94F\\\\Z\\xc5\\x02\\xfc\\xea\\x1c\\xe3/\\x96,H\\x07\\x95P\\x01@\\x05\\x00\\x14\\x00P\\x01@\\x05\\x00\\x14\\x00P\\x01@\\x05\\x00\\x14\\x00P\\x01@\\x05\\x00\\x14\\x00P\\x01@\\x05\\x00\\x14\\x00P\\x01@\\x05\\x00j\\xf8[\\xc5\\x9e*\\xf06\\xbbk\\xe2\\x9f\\x05x\\x9bU\\xf0\\xfe\\xb5e\\xbf\\xec\\xda\\x8e\\x97{%\\xa5\\xd4\\x1b\\xd1\\x91\\xf6K\\x19W]\\xc8\\xec\\xa7\\x07\\x95b\\x0f\\x04\\xd0\\x07\\xea\\xa7\\xc1\\x9f\\xf8-g\\x82m\\xfc+i\\xa4\\xfct\\xf8c\\xe2\\xb6\\xd6\\xb4\\xed>\\xca\\xdeM_B\\x96\\xce\\xf3\\xfb^\\xe9c+ss,\\x0f\\xf6T\\xb5\\xdc\\xea\\xae\\xb1\\xc6d_\\xde0\\xf9B\\r\\xc0\\x1fj|\\x0b\\xfd\\xb2\\x7fg\\x1f\\xda&\\xcfN\\xff\\x00\\x85s\\xf17JmkQ\\xca/\\x875\\x19\\xd2\\xcfXI\\x96\\x01<\\xb1\\x8bY\\x08y|\\xb4-\\xbaH|\\xc8\\xb3\\x1c\\x9b]\\x821\\x00\\x1e\\xd7@\\x1e\\x15\\xf1C\\xf6\\x19\\xfd\\x92\\xfe1\\xea\\xa3]\\xf1\\xe7\\xc0\\xdf\\x0f\\xcf\\xa9\\x1b\\x8b\\x9b\\xb9\\xef4\\xdf;J\\x9e\\xeey\\xd84\\xb2\\xdc\\xc9d\\xf15\\xcb\\xb3.\\xed\\xd2\\x97 \\xb3\\x91\\x8d\\xed\\x90\\x0f\\x9a\\xbc\\x7f\\xff\\x00\\x04X\\xfd\\x9eu\\xdbmZ\\xe3\\xe1\\xf7\\xc4\\x1f\\x1a\\xf8WR\\xbc\\xb83X\\xa5\\xcc\\x96\\xfa\\x96\\x9d`\\x8d(c\\x08\\x84\\xc7\\x1c\\xf2 \\x8fr!k\\x9d\\xe3\\xe5fi0C\\x00y\\xaf\\xfc8\\xc7\\xfe\\xae\\x8b\\xff\\x00,\\x9f\\xfe\\xef\\xa0\\x0f\\x7f\\xf83\\xff\\x00\\x04\\x94\\xfd\\x94\\xfe\\x18\\xfd\\x93S\\xf1\\x86\\x9b\\xaa\\xfcE\\xd6\\xad\\xfe\\xc5;K\\xae\\xdc\\x98\\xecR\\xea\\x1c\\xb4\\x8d\\x15\\x9c\\x1b\\x11\\xa1\\x95\\xc8-\\r\\xcb\\\\.\\xd5U$\\x82\\xe5\\xc0>\\xd5\\xa0\\x0f\\x9d\\x7fk\\xbf\\xdb\\x93\\xe1\\x1f\\xec\\x83\\xa5ZA\\xe2\\xb4\\xbb\\xd7\\xbcY\\xac[\\xcb>\\x95\\xe1\\xcd5\\xd0N\\xe8\\xaa\\xe1\\'\\xb9v8\\xb7\\xb6iTG\\xe6a\\xdc\\x92\\xe68\\xe4\\xf2\\xe4\\n\\x01\\xf8\\x97\\xfbW~\\xd5\\xdf\\x11\\xff\\x00k_\\x88\\xef\\xe3_\\x1bK\\xf6\\x1d*\\xc7\\xcc\\x83@\\xd0 \\x98\\xbd\\xae\\x91j\\xc4\\x12\\xaaH\\x1ed\\xcf\\xb5L\\xb3\\x10\\x1aFU\\x00\"$q\\xa0\\x07\\x8a\\xd0\\x01@\\x05\\x00\\x14\\x00P\\x01@\\x05\\x00\\x14\\x00P\\x01@\\x05\\x00\\x14\\x00P\\x01@\\x05\\x00\\x14\\x00P\\x01@\\x05\\x00\\x14\\x00P\\x01@\\x05\\x00\\x14\\x00P\\x01@\\x05\\x00}\\x7f\\xfb=\\x7f\\xc1Q\\x7fi\\xaf\\x81\\xbev\\x99\\xaf\\xeb\\x7f\\xf0\\xb2\\xf4[\\xddB\\x0b\\xcb\\x98\\xbc[{uw}\\x0ck\\x85\\x9a;[\\xc3!x\\xbc\\xc4\\x00bE\\x964e\\x0c\\xb1\\xe5\\xa4\\x0e\\x01\\xf5\\xff\\x00\\x81\\x7f\\xe0\\xb7\\xbf\\x0b5\\x0f\\xb7\\x7f\\xc2\\xcc\\xf8\\x1f\\xe2\\xbd\\x07\\xcb\\xf2\\xbe\\xc5\\xfd\\x85\\xa8\\xdbj\\xfevwy\\x9eo\\x9c-<\\xad\\xb8M\\xbb|\\xcd\\xdb\\x9b;v\\x8d\\xc0\\x1e\\xeb\\xa4\\xff\\x00\\xc1T\\xff\\x00a\\xcdGJ\\xb2\\xd4/>.\\xdd\\xe9w\\x17V\\xf1\\xcd-\\x8d\\xdf\\x86\\xf56\\x9e\\xd5\\xd9Ahd0\\xdb\\xbcE\\xd4\\x92\\xa4\\xc6\\xee\\x99\\x07k0\\xc1 \\x16\\xff\\x00\\xe1\\xe8\\xff\\x00\\xb0\\x9f\\xfd\\x17?\\xfc\\xb6u\\x8f\\xfeD\\xa0\\x0c\\x9f\\x14\\xff\\x00\\xc1X?b_\\x0f\\xe8WZ\\xbe\\x93\\xf1\\x1fU\\xf15\\xdd\\xbe\\xcf/K\\xd2\\xfc;}\\x1d\\xd5\\xc6\\xe7U;\\x1a\\xee(a\\x1bA.w\\xca\\xbf*\\x9ce\\xb0\\xa4\\x03\\xe1o\\xda_\\xfe\\n\\xf7\\xf1\\x97\\xe2o\\xdb\\xfc-\\xf0/O\\xff\\x00\\x85s\\xe1\\xb9\\xbc\\xdb\\x7f\\xed\\x1d\\xcb>\\xb9w\\t\\xf3\\x93w\\x9b\\x8f.\\xcf|o\\x13m\\x844\\xb1I\\x1eR\\xe0\\x83@\\x1f\\x00P\\x01@\\x05\\x00\\x14\\x00P\\x01@\\x05\\x00\\x14\\x00P\\x01@\\x05\\x00\\x14\\x00P\\x01@\\x05\\x00\\x14\\x00P\\x01@\\x05\\x00\\x14\\x00P\\x01@\\x05\\x00\\x14\\x00P\\x01@\\x05\\x00\\x14\\x00P\\x01@\\x05\\x00\\x14\\x00P\\x01@\\x05\\x00\\x14\\x00P\\x01@\\x05\\x00\\x14\\x00P\\x01@\\x05\\x00\\x14\\x00P\\x01@\\x05\\x00\\x14\\x00P\\x01@\\x05\\x00\\x14\\x00P\\x01@\\x05\\x00\\x14\\x00P\\x01@\\x05\\x00\\x14\\x00P\\x01@\\x05\\x00\\x14\\x00P\\x01@\\x05\\x00\\x14\\x00P\\x01@\\x05\\x00\\x14\\x00P\\x01@\\x05\\x00\\x14\\x00P\\x01@\\x05\\x00\\x14\\x00P\\x01@\\x05\\x00\\x14\\x00P\\x01@\\x05\\x00\\x14\\x00P\\x01@\\x05\\x00\\x14\\x00P\\x01@\\x05\\x00\\x14\\x00P\\x01@\\x05\\x00\\x14\\x00P\\x01@\\x05\\x00\\x14\\x00P\\x01@\\x05\\x00\\x14\\x00P\\x01@\\x05\\x00\\x14\\x00P\\x01@\\x05\\x00\\x14\\x00P\\x01@\\x05\\x00\\x14\\x00P\\x01@\\x05\\x00\\x14\\x00P\\x01@\\x05\\x00\\x14\\x00P\\x01@\\x05\\x00\\x14\\x00P\\x01@\\x05\\x00\\x14\\x00P\\x01@\\x05\\x00\\x14\\x00P\\x01@\\x05\\x00\\x14\\x00P\\x01@\\x05\\x00\\x14\\x00P\\x01@\\x05\\x00\\x14\\x00P\\x01@\\x05\\x00\\x14\\x00P\\x01@\\x05\\x00\\x14\\x00P\\x01@\\x05\\x00\\x14\\x00P\\x01@\\x05\\x00\\x14\\x00P\\x01@\\x05\\x00\\x14\\x00P\\x01@\\x05\\x00\\x14\\x00P\\x01@\\x05\\x00\\x14\\x00P\\x01@\\x05\\x00\\x14\\x00P\\x01@\\x05\\x00\\x14\\x00P\\x01@\\x05\\x00\\x14\\x00P\\x01@\\x05\\x00\\x14\\x00P\\x01@\\x05\\x00\\x14\\x00P\\x01@\\x05\\x00\\x14\\x00P\\x01@\\x05\\x00\\x14\\x00P\\x01@\\x05\\x00\\x14\\x00P\\x01@\\x05\\x00\\x14\\x00P\\x01@\\x05\\x00\\x14\\x00P\\x01@\\x05\\x00\\x14\\x00P\\x07\\xff\\xd9'"
            ]
          },
          "metadata": {
            "tags": []
          },
          "execution_count": 17
        }
      ]
    },
    {
      "cell_type": "code",
      "metadata": {
        "id": "BZq4BffI9_g4"
      },
      "source": [
        "user_made = torchvision.datasets.ImageFolder(\n",
        "        root=\"user_numbers/\",\n",
        "        transform=torchvision.transforms.Compose([\n",
        "            # transformamos las imagenes a blanco y negro\n",
        "            torchvision.transforms.Grayscale(num_output_channels=1),\n",
        "            # achicamos la imagen de 280x280 a 28x28 (mas facil dibujar en 280)\n",
        "            torchvision.transforms.Resize((28, 28), interpolation=2),\n",
        "            # a tensor de pytorch\n",
        "            torchvision.transforms.ToTensor()\n",
        "        ]) \n",
        "    )\n",
        "# Gracias por las limitaciones pytorch...\n",
        "user_made.target_transform = lambda _id: int(list(user_made.class_to_idx.keys())[list(user_made.class_to_idx.values()).index(_id)])\n",
        "dataloader_user = DataLoader(user_made, batch_size=1)"
      ],
      "execution_count": null,
      "outputs": []
    },
    {
      "cell_type": "code",
      "metadata": {
        "id": "gYAtLID5-Bpx",
        "colab": {
          "base_uri": "https://localhost:8080/",
          "height": 191
        },
        "outputId": "84f84173-25ff-40a0-eef5-0ec92c2e863a"
      },
      "source": [
        "def predict_my_drawings(red, dataloader, device='cuda'):\n",
        "  red.to(device)\n",
        "  for x, y in dataloader:\n",
        "    x = x.to(device)\n",
        "    pred = red(x)\n",
        "    prediction = torch.argmax(pred, 1).to('cpu').numpy()\n",
        "    real = y.to('cpu').numpy()\n",
        "    fig, ax = subplots(nrows=1 , figsize=(2,3))\n",
        "    img = x.view(28,28).to('cpu').numpy()\n",
        "    ax.set_title(\"Clase real: \"+ str(real[0]) + \"\\nPrediccion: \" + str(prediction[0]))\n",
        "    ax.imshow(img)\n",
        "\n",
        "predict_my_drawings(my_nn, dataloader_user, 'cuda')"
      ],
      "execution_count": null,
      "outputs": [
        {
          "output_type": "display_data",
          "data": {
            "image/png": "[encoded data removed]",
            "text/plain": [
              "<Figure size 144x216 with 1 Axes>"
            ]
          },
          "metadata": {
            "tags": [],
            "needs_background": "light"
          }
        }
      ]
    }
  ]
}
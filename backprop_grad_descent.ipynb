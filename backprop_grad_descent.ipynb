{
  "nbformat": 4,
  "nbformat_minor": 0,
  "metadata": {
    "colab": {
      "name": "backprop_grad_descent",
      "provenance": [],
      "collapsed_sections": []
    },
    "kernelspec": {
      "display_name": "Python 3",
      "language": "python",
      "name": "python3"
    },
    "language_info": {
      "codemirror_mode": {
        "name": "ipython",
        "version": 3
      },
      "file_extension": ".py",
      "mimetype": "text/x-python",
      "name": "python",
      "nbconvert_exporter": "python",
      "pygments_lexer": "ipython3",
      "version": "3.6.8"
    }
  },
  "cells": [
    {
      "cell_type": "markdown",
      "metadata": {
        "id": "4zhjpqvcdo5o"
      },
      "source": [
        "# Tarea 2: Backpropagation, descenso de gradiente y entrenamiento <br/> CC6204 Deep Learning, Universidad de Chile \n",
        "\n",
        "**Fecha de entrega: 16 de octubre de 2020 ([Hoja de respuestas](https://colab.research.google.com/drive/1a44G8JIfuaAXmare28dCDT1gvUV1CuDP))**\n",
        "\n",
        "En esta tarea programarás backpropagation para el caso específico de las redes que construiste en la [Tarea 1](https://colab.research.google.com/drive/1aeuSRjj_kQ_uFEBSJ9bRuyr4G4MY4FAi) (si tuviste problemas resolviendo la Tarea 1 puedes usar [esta solución tipo](https://colab.research.google.com/drive/1whxzPx0jBRu2v1GD-s_VhhYS-w3Tlu9E) que preparó el cuerpo docente). Además comenzarás a entrenar la red con descenso de gradiente, que también tendrás que programar.\n",
        "\n",
        "Te recomendamos que repases la materia de las clases de backpropagation. En particular para resolver esta tarea te puedes apoyar en el siguiente material:\n",
        "* [Clase 04-2020: Descenso de Gradiente para encontrar los parámetros de una red.](https://www.youtube.com/watch?v=G4dnRSSC6Kw)\n",
        "* [Clase 05-2020: Introducción a Backpropagation](https://www.youtube.com/watch?v=1EUAoM1EhM0)\n",
        "* [ Clase 06-2020: Continuación Backpropagation](https://www.youtube.com/watch?v=Gp2rY7LvTyQ)\n",
        "* [ Clase 07-2020: Tensores, Notación de Einstein, y Regla de la Cadena Tensorial](https://www.youtube.com/watch?v=pLUNS_tK-K8)\n",
        "* [Clase 08-2020: Entropía Cruzada y Backpropagation a mano con Tensores](https://www.youtube.com/watch?v=e_1lis8ByyI)\n",
        "\n",
        "También puedes revisar estos apuntes de un cálculo completo de las derivadas para una red de dos capas escondidas:\n",
        "* [Ejemplo completo de BackProp con Tensores](https://github.com/dccuchile/CC6204/blob/master/versiones_anteriores/2019/clases/apuntes/5_Ejemplo_BackProp_completo.pdf)\n",
        "\n",
        "Un video de la versión 2018 del curso que te pueden servir también de apoyo para entender por qué usamos Entropía Cruzada como función de error es el siguiente:\n",
        "* [Entropia Cruzada y Estimador de Máxima Verosimilitud](https://www.youtube.com/watch?v=lnYAVf1UkU8)\n",
        "\n",
        "IMPORTANTE: A menos que se exprese lo contrario, sólo podrás utilizar las clases y funciones en el módulo [`torch`](https://pytorch.org/docs/stable/torch.html).\n",
        "\n",
        "(por Jorge Pérez, https://github.com/jorgeperezrojas, [@perez](https://twitter.com/perez))"
      ]
    },
    {
      "cell_type": "code",
      "metadata": {
        "id": "I_kVL7undMBx"
      },
      "source": [
        "# Este notebook está pensado para correr en CoLaboratory. \n",
        "# Lo único imprescindible por importar es torch \n",
        "import torch\n",
        "\n",
        "# Posiblemenete quieras instalar e importar ipdb para debuggear.\n",
        "# Si es así, descomenta lo siguiente:\n",
        "# !pip install -q ipdb\n",
        "# import ipdb"
      ],
      "execution_count": null,
      "outputs": []
    },
    {
      "cell_type": "markdown",
      "metadata": {
        "id": "8HvMMXxjkxz4"
      },
      "source": [
        "# Parte 1: Preliminares: funciones de activación y función de error"
      ]
    },
    {
      "cell_type": "markdown",
      "metadata": {
        "id": "Ph78UHMwdwp2"
      },
      "source": [
        "## 1a) Derivando las funciones de activación\n",
        "\n",
        "En esta parte debes calcular a mano las derivadas de las funciones `relu`, `swish` y `celu` que usamos en la [Tarea 1](https://colab.research.google.com/drive/1aeuSRjj_kQ_uFEBSJ9bRuyr4G4MY4FAi). Recuerda que `swish` y `celu` tienen ambas parámetros adicionales así que debes calcular las derivadas (parciales) con respecto a ellos también. Intenta expresar las derivadas en términos de aplicaciones de la misma función (o sub expresiones de esta). Por ejemplo, si derivas la función $\\text{sigmoid}(x)$ (hazlo! es un buen ejercicio) encontrarás que su derivada se puede expresar como: \n",
        "<br><br>\n",
        "\n",
        "\\begin{equation}\n",
        "\\frac{\\partial\\ \\text{sigmoid}(x)}{\\partial x}\\; =\\; \\text{sigmoid}(x)\\big(1 - \\text{sigmoid}(x)\\big)\n",
        "\\end{equation}\n",
        "\n",
        "Usa la [Hoja de respuesta](https://colab.research.google.com/drive/1a44G8JIfuaAXmare28dCDT1gvUV1CuDP) para incluir tus expresiones."
      ]
    },
    {
      "cell_type": "markdown",
      "metadata": {
        "id": "1BhUhivg37d0"
      },
      "source": [
        "## 1b) Entropía Cruzada\n",
        "\n",
        "Comenzaremos haciendo una función para computar la pérdida de nuestra red. Recuerda que para dos distribuciones de probabilidad discreta $p(x)$ y $q(x)$ la entropía cruzada (cross entropy) entre $p$ y $q$ está dada por\n",
        "<br>\n",
        "\n",
        "\\begin{equation}\n",
        "\\it{CE}(p,q)=\\sum_{x}p(x)\\log \\bigg(\\frac{1}{q(x)}\\bigg)=- \\sum_{x}p(x)\\log q(x)\n",
        "\\end{equation}\n",
        "<br>\n",
        "donde $x$ varía sobre todos los posibles valores para los cuales la distribución está definida.\n",
        "\n",
        "En esta parte debes programar la función `CELoss` que recibe tensores $Q_{ij}$ y $P_{ij}$ (de las mismas dimensiones) y calcula el promedio de las entropías cruzadas de las distribuciones $p_i$ y $q_i$ de la siguiente forma\n",
        "<br>\n",
        "\n",
        "\\begin{equation}\n",
        "\\it{CELoss}(Q,P)=\\frac{1}{N}\\sum_{i}\\it{CE}(p_{i}, q_{i})\n",
        "\\end{equation}\n",
        "<br>\n",
        "donde $p_i(x)=P_{ix}$, $q_i(x)=Q_{ix}$ y $N$ es el tamaño de la primera dimension de los tensores (dimension `0`). Nota que el resultado es un escalar. Nota también el orden de $Q$ y $P$ en $\\it{CELoss}(Q,P)$. Esto no es un error, sino es la forma standard de usar la entropía cruzada como una función de error, en donde el primer argumento ($Q$) es la aproximación (distribución de probabilidad erronea) y el segundo argumento ($P$) es el valor al que nos queremos acercar (distribución de probabilidad real, o más percisamente en nuestro caso, distribución de probabilidad empírica).\n",
        "\n",
        "En nuestra implementación debemos evitar cualquier ocurrencia de `NaN` debido a valores en nuestras distribuciones de probabilidad excesivamente pequeños al calcular `torch.log`. Estos valores deberían devolver números negativos demasiado pequeños para procesar y dan como resultado `NaN`. El valor épsilon limitará el valor mínimo del valor original cuando `estable=True`."
      ]
    },
    {
      "cell_type": "code",
      "metadata": {
        "id": "aGaXuo315NDK"
      },
      "source": [
        "# Tu código acá\n",
        "def CELoss(Q, P, estable=True, epsilon=1e-8):\n",
        "  # Q y P: representan distribuciones de probabilidad discreta  \n",
        "  #        (mediante matrices con las mismas dimensiones)\n",
        "  # estable y epsilon: nos permiten lograr estabilidad numérica cuando \n",
        "  #       intentamos computar el logaritmo de valores muy pequeños.\n",
        "  #       epsilon limitará el valor mínimo del valor original cuando estable=True\n",
        "  if estable:\n",
        "    Q_estable = Q.clone()\n",
        "    Q_estable[Q <= epsilon] = epsilon\n",
        "    ce_loss_estable = torch.mean(-torch.sum(P * torch.log(Q_estable), 1), 0)\n",
        "    return ce_loss_estable\n",
        "  ce_loss = torch.mean(-torch.sum(P * torch.log(Q), 1), 0)\n",
        "  return ce_loss"
      ],
      "execution_count": null,
      "outputs": []
    },
    {
      "cell_type": "markdown",
      "metadata": {
        "id": "AgXCscAyZUhV"
      },
      "source": [
        "## 1c) Opcional: Entropía Cruzada Categórica\n",
        "\n",
        "La entropía cruzada es un concepto muy general pero en el caso de entrenamiento la usaremos como una función de error entre una distribución de probabilidad general $Q$ sobre clases (la distribución que genera nuestra red) y una distribución $P$ que siempre tiene toda la probabilidad asignada a una única clase (la etiqueta de entrenamiento). Esta observación permite calcular una función de error menos general pero más eficiente para nuestro caso. En esta parte programarás una versión alternativa de `CELoss` que llamaremos `CategoricalCELoss` y que recibirá dos parámetros `(Q,Target)` donde `Q` es como en el caso anterior y `Target` es un tensor con los índices de las etiquetas correctas. Tu implementación de esta parte debiera entregar los mismos resultados que la anterior si es que cambias `Target` por una matriz que tiene `1`s exactamente en los índices de las clases y `0`s en las otras posiciones."
      ]
    },
    {
      "cell_type": "code",
      "metadata": {
        "id": "2WLZ9YxJdivC"
      },
      "source": [
        "# Tu código acá\n",
        "def CategoricalCELoss(Q, Target, estable=True, epsilon=1e-8)\n",
        "  pass"
      ],
      "execution_count": null,
      "outputs": []
    },
    {
      "cell_type": "markdown",
      "metadata": {
        "id": "ycvPuiWJd1Wl"
      },
      "source": [
        "Esta parte (opcional), te servirá para entender y practicar dos formas de calcular la entropía cruzada lo que es importante pues distintas librerías de Deep Learning usan distintas estrategias para este cálculo en la práctica. \n",
        "\n",
        "Hay otras observaciones de cómo las librerías implementan esta función de error en la práctica y es importante entender cómo se deben utilizar en cada caso por eso te incentivamos a que completes esta parte opcional y que también investigues cómo lo hacen algunas librerías en la práctica. Por ejemplo, otro cambio que hace `pytorch` para hacer el proceso mas eficiente es combinar la capa final de clasificación de la red (la de softmax) con el cálculo que describimos arriba, en una única función [torch.nn.functional.cross_entropy](https://pytorch.org/docs/stable/nn.functional.html#torch.nn.functional.cross_entropy) y lo integran también de esta forma dentro de la clase [torch.nn.CrossEntropyLoss](https://pytorch.org/docs/stable/generated/torch.nn.CrossEntropyLoss.html#torch.nn.CrossEntropyLoss)"
      ]
    },
    {
      "cell_type": "markdown",
      "metadata": {
        "id": "D9SpFNK7FkJ9"
      },
      "source": [
        "# Parte 2: Más derivadas y back propagation\n",
        "\n",
        "En esta parte comenzaremos a usar el algoritmo de back propagation para poder actualizar los parámetros de nuestra red neuronal (la que empezaste a construir en la Tarea 1). Nuestra red está dada por las ecuaciones\n",
        "<br>\n",
        "\n",
        "\\begin{eqnarray*}\n",
        "h^{(\\ell)} & = & f^{(\\ell)}(h^{(\\ell-1)} W^{(\\ell)}+b^{(\\ell)}) \\\\\n",
        "\\hat{y} & = & \\text{softmax}(h^{(L)}U+c).\n",
        "\\end{eqnarray*}\n",
        "<br>\n",
        "Recuerda que en estas ecuaciones consideramos que el $h^{(0)}$ es el tensor de input, digamos $x$, y típicamente llamamos a $\\hat{y}$ como $\\hat{y}=\\text{forward}(x)$.\n",
        "\n",
        "Para optimizar los parámetros de nuestra red usaremos la función de pérdida/error de entropía cruzada (ver la parte anterior). Dado un conjunto (mini batch) de ejemplos $\\{(x_1,y_1),\\ldots,(x_B,y_B)\\}$, llamemos $x$ al tensor que contiene a todos los $x_i$'s *apilados* en su dimensión $0$. Nota que $x$ tendrá una dimensión más que los $x_i$'s. Similarmente llamemos $y$ al tensor que contiene a todos los $y_i$'s. La función de pérdida de la red se puede entonces escribir como\n",
        "<br>\n",
        "\n",
        "\\begin{equation}\n",
        "\\cal L=\\it{CELoss}(\\hat{y},{y})\n",
        "\\end{equation}\n",
        "<br>\n",
        "donde $\\hat{y}=\\text{forward}(x)$ y $\\it{CELoss}(\\hat{y},{y})$ es la función de entropía cruzada aplicada a $\\hat{y}$ e $y$. En esta parte computaremos las derivadas parciales\n",
        "<br>\n",
        "\n",
        "\\begin{equation}\n",
        "\\frac{\\partial \\cal L}{\\partial \\theta}\n",
        "\\end{equation}\n",
        "<br>\n",
        "para cada parámetro $\\theta$ de nuestra red. <br><br>"
      ]
    },
    {
      "cell_type": "markdown",
      "metadata": {
        "id": "SgMS0rHQO9xv"
      },
      "source": [
        "## 2a) Derivando la última capa\n",
        "\n",
        "Recuerda que $\\hat y = \\text{softmax}(h^{(L)}U+c)$. \n",
        "Nuestro objetivo en esta parte es calcular la derivada de $\\cal L$ con respcto a $U$, $h^{(L)}$ y $c$. \n",
        "Para esto llamemos primero\n",
        "<br>\n",
        "\n",
        "\\begin{equation}\n",
        "u^{(L+1)} = h^{(L)}U+c.\n",
        "\\end{equation}\n",
        "<br>\n",
        "Nota que con esto, nuestra predicción es simplemente $\\hat y=\\text{softmax}(u^{(L+1)})$. Calcula la derivada (el *gradiente*) de $\\cal L$ respecto a $u^{(L+1)}$, y escribe un trozo de código usando las funcionalidades de `torch` que calcule el valor y lo almacene en una variable `dL_duLm1`, suponiendo que cuentas con los tensores `y` e `y_pred` (que representa a $\\hat y$).\n"
      ]
    },
    {
      "cell_type": "markdown",
      "metadata": {
        "id": "ngpRWD9XaZ0t"
      },
      "source": [
        "Puedes escribir tu cálculo acá (usa la [Hoja de respuesta](https://colab.research.google.com/drive/1a44G8JIfuaAXmare28dCDT1gvUV1CuDP) para la entrega)<br/>\n",
        "\n",
        "\\begin{equation}\n",
        "\\frac{\\partial \\cal L}{\\partial u^{(L+1)}} =\n",
        "\\end{equation}"
      ]
    },
    {
      "cell_type": "code",
      "metadata": {
        "id": "jM27Fd-5fqIQ"
      },
      "source": [
        "# Para ir chequeando que al menos las dimensiones de los tensores son \n",
        "# consistentes usaremos las varibles *dummy* a continuación.\n",
        "B, C = 5, 10\n",
        "y = torch.ones(B,C)\n",
        "y_pred = torch.ones(B,C)"
      ],
      "execution_count": null,
      "outputs": []
    },
    {
      "cell_type": "code",
      "metadata": {
        "id": "jYNlUtuZb3kM"
      },
      "source": [
        "# Acá tu trozo de código. \n",
        "# Primero agregamos algunas variables dummy para chequear \n",
        "# que al menos las dimensiones están correctas\n",
        "dimL = 40\n",
        "hL = torch.ones(B,dimL)\n",
        "U = torch.ones(dimL,C)\n",
        "c = torch.ones(C)\n",
        "uLm1 = hL @ U + c\n",
        "\n",
        "# Ahora tu fórmula para el gradiente\n",
        "dL_duLm1 = (1/B) * (y_pred - y)\n",
        "\n",
        "# El gradiente debe coincidir en dimensiones con la variable\n",
        "assert dL_duLm1.size() == uLm1.size()"
      ],
      "execution_count": null,
      "outputs": []
    },
    {
      "cell_type": "markdown",
      "metadata": {
        "id": "Yn8l0EWVa6r_"
      },
      "source": [
        "## 2b) Derivando la última capa (continuación)\n",
        "\n",
        "Usa la derivada de $\\cal L$ con respecto a $u^{(L+1)}$ y la regla de la cadena para encontrar las derivadas (*gradientes*) de $\\cal L$ con respecto a $U$, $c$ y $h^{(L)}$. Recuerda tener cuidado con los índices de los tensores, chequear que las dimensiones sean las correctas y cuando sea necesario usa [la notación de Einstein](https://en.wikipedia.org/wiki/Einstein_notation) para simplificar tu vida. Escribe también un trozo de código para calcular estas derivadas y almacenarlas en `dL_dU`, `dL_dc` y `dL_dhL`."
      ]
    },
    {
      "cell_type": "markdown",
      "metadata": {
        "id": "LynSkWUvdMx_"
      },
      "source": [
        "Puedes escribir tu cálculo acá (usa la [Hoja de respuesta](https://colab.research.google.com/drive/1a44G8JIfuaAXmare28dCDT1gvUV1CuDP) para la entrega)<br/>\n",
        "<br>\n",
        "\n",
        "\\begin{equation}\n",
        "\\frac{\\partial\\cal L}{\\partial U} = \\ldots \\\\\n",
        "\\end{equation}\n",
        "<br>\n",
        "\n",
        "\\begin{equation}\n",
        "\\frac{\\partial\\cal L}{\\partial c} = \\ldots \\\\\n",
        "\\end{equation}\n",
        "<br>\n",
        "\n",
        "\\begin{equation}\n",
        "\\frac{\\partial\\cal L}{\\partial h^{(L)}} = \\ldots \\\\\n",
        "\\end{equation}"
      ]
    },
    {
      "cell_type": "code",
      "metadata": {
        "id": "qmTHna9EFmtJ"
      },
      "source": [
        "# Acá puedes probar tus cálculos usando código. \n",
        "dL_dU = hL.t() @ dL_duLm1 \n",
        "dL_dc = torch.sum(dL_duLm1, dim=0)\n",
        "dL_dhL = dL_duLm1 @ U.t()\n",
        "\n",
        "# El gradiente debe coincidir en dimensiones con las variables.\n",
        "assert dL_dU.size() == U.size()\n",
        "assert dL_dc.size() == c.size()\n",
        "assert dL_dhL.size() == hL.size()"
      ],
      "execution_count": null,
      "outputs": []
    },
    {
      "cell_type": "markdown",
      "metadata": {
        "id": "gSOzqL9Okh6B"
      },
      "source": [
        "## 2c) Derivando desde las capas escondidas\n",
        "\n",
        "Ahora derivaremos las capas escondidas en general para todas las funciones de activación que consideramos en esta tarea. **Importante: esta parte es larga no la empieces a hacer tarde**. Consideremos la capa $k$, en este caso tenemos\n",
        "<br>\n",
        "\n",
        "\\begin{equation}\n",
        "h^{(k)} = f(h^{(k-1)}W^{(k)}+b^{(k)})\n",
        "\\end{equation}\n",
        "<br>\n",
        "done $f$ es una de las funciones de activación $\\text{sig}, \\text{tanh}, \\text{relu}, \\text{celu}, \\text{swish}$. Lo que queremos es computar las derivadas parciarles de $\\cal L$ con respecto a $W^{(k)}$, $b^{(k)}$ y  $h^{(k-1)}$. Para esto consideremos\n",
        "<br>\n",
        "\n",
        "\\begin{equation}\n",
        "u^{(k)}=h^{(k-1)}W^{(k)}+b^{(k)}.\n",
        "\\end{equation}\n",
        "<br>\n",
        "Supondremos que ya tenemos computado (antes) el gradiente de $\\cal L$ con respecto a $h^{(k)}$ ($\\partial \\cal L/\\partial h^{(k)}$). Para cada función de activación de entre \n",
        "$\\text{relu}, \\text{celu}, \\text{swish}$, calcula primero \n",
        "<br>\n",
        "\n",
        "\\begin{equation}\n",
        "\\frac{\\partial \\cal L}{\\partial u^{(k)}}\n",
        "\\end{equation}\n",
        "<br>\n",
        "usando $\\partial \\cal L/\\partial h^{(k)}$ y luego usa $\\partial \\cal L/\\partial u^{(k)}$ y la regla de la cadena para calcular\n",
        "<br>\n",
        "\n",
        "\\begin{equation}\n",
        "\\frac{\\partial \\cal L}{\\partial W^{(k)}}, \\frac{\\partial \\cal L}{\\partial b^{(k)}}, \\frac{\\partial \\cal L}{\\partial h^{(k-1)}}. \n",
        "\\end{equation}\n",
        "<br>\n",
        "Crea trozos de código para cada uno de los cálculos de los gradientes. Este código lo usaremos luego en la función `backward` de tu red.\n",
        "\n",
        "Usa la [Hoja de respuesta](https://colab.research.google.com/drive/1a44G8JIfuaAXmare28dCDT1gvUV1CuDP) para tus cálculos<br/>"
      ]
    },
    {
      "cell_type": "code",
      "metadata": {
        "id": "J7OoPdpPsY8x"
      },
      "source": [
        "# Más adelante en la tarea necesitaremos usar las funciones de activación \n",
        "# que implementaste en la Tarea 1 y sus derivadas.\n",
        "# Acá implementa las derivadas de las funciones de activación\n",
        "\n",
        "# Una forma de implementarlas (tal vez no la mejor) es reutilizando la misma función\n",
        "def sig(T, gradient=False):\n",
        "  if gradient:\n",
        "    sigT = sig(T)\n",
        "    return sigT * (1 - sigT)\n",
        "  return torch.reciprocal(1 + torch.exp(-1 * T))\n",
        "\n",
        "def relu(T, gradient=False):\n",
        "  outT = torch.clone(T)\n",
        "  if gradient:\n",
        "    outT[outT <= 0] = 0\n",
        "    outT[outT > 0] = 1\n",
        "    return outT\n",
        "  outT[outT < 0] = 0\n",
        "  return outT\n",
        "\n",
        "def swish(T, beta=1, gradient=False):\n",
        "  if gradient:\n",
        "    swishT = swish(T, beta)\n",
        "    sigT = sig(beta * T)\n",
        "    gradient_tensor = beta * swishT + sigT * (1 - beta * swishT)\n",
        "    gradient_beta = swishT * (x - swishT)\n",
        "    return gradient_tensor, gradient_beta\n",
        "  return T * sig(beta * T)\n",
        "\n",
        "def celu(T, alpha=1, gradient=False):\n",
        "  if alpha == 0:\n",
        "    raise ValueError(\"alpha cannot be 0\")\n",
        "  if gradient:\n",
        "    gradient_tensor = T.clone()\n",
        "    gradient_alpha = T.clone()\n",
        "    gradient_tensor[T >= 0] = 1\n",
        "    gradient_tensor[T < 0] = torch.exp((gradient_tensor[T < 0] / alpha))\n",
        "    gradient_alpha[T >= 0] = 0\n",
        "    gradient_alpha[T < 0] = torch.exp((gradient_alpha[T < 0] / alpha)) * (1 - gradient_alpha[T < 0] / alpha) - 1\n",
        "    return gradient_tensor, gradient_alpha\n",
        "  outT = T.clone()\n",
        "  outT[T < 0] = alpha * (outT[T<0] / alpha).expm1()\n",
        "  return outT\n",
        "\n",
        "################################\n",
        "\n",
        "# Acá puedes probar tus cálculos usando código. \n",
        "# Primero agregamos algunas variables dummy para chequear \n",
        "# que al menos las dimensiones están correctas.\n",
        "dimk = 20\n",
        "dimkm1 = 30\n",
        "hk = torch.ones(B,dimk)\n",
        "Wk = torch.ones(dimk,dimkm1)\n",
        "bk = torch.ones(dimkm1)\n",
        "uk = hk @ Wk + bk\n",
        "dL_dhkm1 = torch.ones(B,dimkm1)\n",
        "\n",
        "# Ahora tu fórmula para el gradiente.\n",
        "# Esto puedes repetirlo con tus expresiones para relu, celu, y swish.\n",
        "dL_duk = dL_dhkm1 * sig(uk, gradient=True)[0]\n",
        "dL_dWk = hk.t() @ dL_duk\n",
        "dL_dbk = torch.sum(dL_duk, dim=0)\n",
        "dL_dhk = dL_duk @ Wk.t()\n",
        "\n",
        "# El gradiente debe coincidir en dimensiones con las variables.\n",
        "assert dL_dWk.size() == Wk.size()\n",
        "assert dL_dbk.size() == bk.size()\n",
        "assert dL_dhk.size() == hk.size()"
      ],
      "execution_count": null,
      "outputs": []
    },
    {
      "cell_type": "markdown",
      "metadata": {
        "id": "GoniZJN_wvEj"
      },
      "source": [
        "# Parte 3: Backpropagation en nuestra red\n",
        "\n",
        "En esta parte programaremos todos nuestros cálculos anteriores dentro del método `backward` de nuestra red."
      ]
    },
    {
      "cell_type": "markdown",
      "metadata": {
        "id": "otIiI1mNygen"
      },
      "source": [
        "## 3a) Método `backward`\n",
        "\n",
        "Programa un método `backward` dentro de la clase FFNN que hiciste para la Tarea 1. El método debiera recibir como entrada tres tensores `x`, `y`, `y_pred`, y debiera computar todos los gradientes para cada uno de los parámetros de la red (con todas las suposiciones que hicimos en la Parte 3, incluyendo el uso de entropía cruzada como función de pérdida). Recuerda computar los gradientes también para capas escondidas con activaciones $\\text{sig}$ y $\\text{tanh}$. \n",
        "\n",
        "Podemos aprovecharnos de las funcionalidades de la clase `torch.nn.Parameter` para almacenar los resultados de cada gradiente. De hecho, cada objeto de la clase `torch.nn.Parameter` tiene un atributo `grad` que está pensado específicamente para almacenar los valores computados a medida que se hace backpropagation. Utiliza este atributo para almacenar el gradiente del parámetro correspondiente."
      ]
    },
    {
      "cell_type": "code",
      "metadata": {
        "id": "FvcnNQLc0Y5a"
      },
      "source": [
        "# Tu código debiera continuar aquí \n",
        "\n",
        "class FFNN(torch.nn.Module):\n",
        "  def __init__(self, F, l_h, l_a, C):\n",
        "    super(FFNN, self).__init__()\n",
        "    if C < 2:\n",
        "      raise ValueError('C must be greater or equal than 2')\n",
        "    if len(l_h) != len(l_a):\n",
        "      raise ValueError('\"l_h\" and \"l_a\" must be of equal length')\n",
        "\n",
        "    self._in = torch.nn.Parameter(torch.rand(F, l_h[0]))\n",
        "    self.hidden = torch.nn.ParameterList([torch.nn.Parameter(torch.rand(l_h[i], l_h[i+1])) for i in range(len(l_h) - 1)])\n",
        "    self.out = torch.nn.Parameter(torch.rand(l_h[len(l_h) - 1], C))\n",
        "    self.biases = torch.nn.ParameterList([torch.nn.Parameter(torch.zeros(size)) for size in l_h])\n",
        "    self.out_bias = torch.nn.Parameter(torch.zeros(C))\n",
        "    self.activation = l_a\n",
        "  \n",
        "  def resumen(self):\n",
        "    for name, param in self.named_parameters():\n",
        "        print(name, type(param), param.size())\n",
        "  \n",
        "  def forward(self, x):\n",
        "    # Usa los parámetros y funciones de activación.\n",
        "    # El valor de retorno debiera ser y = softmax(capa_de_salida).\n",
        "    # Transformamos el input.\n",
        "    my_cache = []\n",
        "    x = x.view(-1, 784)\n",
        "    func = self.activation[0]\n",
        "    h = func(x.mm(self._in) + self.biases[0])\n",
        "    f = 0\n",
        "    my_cache.append(h)\n",
        "    for hid in self.hidden:\n",
        "      func = self.activation[f+1]\n",
        "      h = func(h.mm(hid) + self.biases[f + 1])\n",
        "      my_cache.append(h)\n",
        "      f+=1\n",
        "\n",
        "    self._cache = my_cache\n",
        "    y = softmax(h.mm(self.out) + self.out_bias, 1)\n",
        "\n",
        "    return y\n",
        "\n",
        "  def weights_initialization(self, weigths, biases, out, out_bias, activation):\n",
        "    self._in = torch.nn.Parameter(weights[0])\n",
        "    self.hidden = torch.nn.ParameterList([torch.nn.Parameter(weights[i+1]) for i in range(len(weights) - 1)])\n",
        "    self.biases = torch.nn.ParameterList([torch.nn.Parameter(bias) for bias in biases])\n",
        "    self.out = torch.nn.Parameter(out)\n",
        "    self.out_bias = torch.nn.Parameter(out_bias)\n",
        "    self.activation = activation\n",
        "  \n",
        "  def backward(self, x, y, y_pred):\n",
        "\n",
        "    b = x.size()[0]\n",
        "\n",
        "    # computar acá todos los gradientes\n",
        "    dL_duLm1 = (1/b) * (y_pred - y)\n"
      ],
      "execution_count": null,
      "outputs": []
    },
    {
      "cell_type": "markdown",
      "metadata": {
        "id": "cjFVG5e9LlD6"
      },
      "source": [
        "## 3b) Opcional: Incluyendo los parámetros de `celu` y `swish`\n",
        "\n",
        "Si lo deseas, puedes agregar los parámetros de todas las activaciones `celu` y `swish` de tu red como parámetros. Para esto tendrás que agregar parámetros en el inicializador de la clase y computar las derivadas correspondientes en la función `backward`."
      ]
    },
    {
      "cell_type": "markdown",
      "metadata": {
        "id": "4w70D_1eRUS7"
      },
      "source": [
        "## 3c) Opcional: Chequeo de gradiente\n",
        "\n",
        "Determinar si calculaste bien o no las derivadas puede ser un verdadero dolor de cabeza. Si no confías plenamente en tus capacidades para computar derivadas a mano (nadie debería), puedes usar una técnica muy útil para determinar si cometiste un error. La técnica se llama **chequeo de gradiente** y consiste en computar el gradiente de forma numérica y compararlo con la evaluación del gradiente computado de forma manual. Es una de las técnicas más útiles para *debuggear* redes neuronales. En esta parte porgrmarás el chequeo de gradiente. Si bien esta parte es opcional, puede que te ahorre demasiados problemas tenerla programada para ir comprobando que no cometiste errores.\n",
        "\n",
        "La idea general de cómo implementar chequeo de gradiente es la siguiente:\n",
        "- Supongamos que todos los posilbes parámetros de tu red son $\\Theta=[\\theta^{(1)},\\theta^{(2)},\\ldots, \\theta^{(M)}]$, es decir pusimos los parámetros como un vector gigante. \n",
        "Entonces podemos pensar en la función de error como una función $\\mathcal{L}(\\Theta)=\\mathcal{L}([\\theta^{(1)},\\theta^{(2)},\\ldots, \\theta^{(M)}])$.\n",
        "- Elegimos al azar valores para cada parámetro, digamos $\\Theta_{ch}=[\\theta_{ch}^{(1)},\\theta_{ch}^{(2)},\\ldots, \\theta_{ch}^{(M)}]$.\n",
        "- Elegimos un valor fijo muy pequeño, digamos $\\varepsilon$. Típicamente $\\varepsilon$ puede ser cercano a $10^{-7}$ o $10^{-8}$.\n",
        "- Elegimos un índice $i$ que presentará el parámetro para el que queremos chequear el gradiente.\n",
        "- Computamos los siguientes valores\n",
        "\\begin{eqnarray}\n",
        "\\mathcal{L}^{(i)}_{+\\varepsilon} & = & \n",
        "\\mathcal{L}([\\theta_{ch}^{(1)},\\theta_{ch}^{(2)},\\ldots,\\theta_{ch}^{(i)}+\\varepsilon,\\ldots,\\theta_{ch}^{(M)}]) \\\\\n",
        "\\mathcal{L}^{(i)}_{-\\varepsilon} & = & \n",
        "\\mathcal{L}([\\theta_{ch}^{(1)},\\theta_{ch}^{(2)},\\ldots,\\theta_{ch}^{(i)}-\\varepsilon,\\ldots,\\theta_{ch}^{(M)}])\n",
        "\\end{eqnarray}\n",
        "Nota para calcular estos valores necesitamos hacer dos pasadas hacia adelante de la red.\n",
        "- Computamos\n",
        "<br>\n",
        "\n",
        "\\begin{equation}\n",
        "\\text{AppGrad}(\\theta^{(i)}_{ch}) = \\frac{\\mathcal{L}^{(i)}_{+\\varepsilon} - \\mathcal{L}^{(i)}_{-\\varepsilon}}{2\\varepsilon}\n",
        "\\end{equation}\n",
        "<br>\n",
        "- Finalmente comparamos este valor con lo que nuestra función de backpropagation entrega para el mismo parámetro cuando hacemos la pasada hacia atrás (backward) evaluada para los mismos valores específicos, es decir comparamos $\\text{AppGrad}(\\theta^{(i)}_{ch})$ con\n",
        "\\begin{equation}\n",
        "\\frac{\\partial \\mathcal{L}}{\\partial \\theta^{(i)}}\\bigg|_{\\Theta_{ch}}\n",
        "\\end{equation}\n",
        "- Repetimos el proceso para todos los parámetros de la red.\n",
        "\n",
        "Si nuestras derivadas están bien calculadas, esperaríamos que la diferencia entre $\\text{AppGrad}(\\theta^{(i)})$ y el gradiente que calcula nuestra función `backward` sea muy (muy) pequeña, típicamente cercana a $\\varepsilon$. Si es mucho más grande que $\\varepsilon$ tenemos que preocuparnos porque muy posiblemente tendremos un bug.\n",
        "\n",
        "Una forma alternativa de hacer el chequeo del gradiente es meter todos los ${\\partial \\mathcal{L}}/{\\partial \\theta^{(i)}}|_{\\Theta_{ch}}$ en un vector, digamos $\\text{Grad}$,  hacer lo mismo con todos los $\\text{AppGrad}(\\theta^{(i)})$ y meterlos todos en un vector $\\text{AppGrad}$ y después chequear que los dos vectores sean relativamente cercanos haciendo\n",
        "\n",
        "\\begin{equation}\n",
        "\\frac{\\|\\text{Grad} - \\text{AppGrad}\\|^2}{\\|\\text{Grad}\\|^2+\\|\\text{AppGrad}\\|^2}\n",
        "\\end{equation}\n",
        "<br>\n",
        "\n",
        "Acá también esperamos que el valor resultante sea muy cercano a $\\varepsilon$."
      ]
    },
    {
      "cell_type": "code",
      "metadata": {
        "id": "7zcMfV-XwMb9"
      },
      "source": [
        "# Tu código de chequeo de gradiente acá"
      ],
      "execution_count": null,
      "outputs": []
    },
    {
      "cell_type": "markdown",
      "metadata": {
        "id": "AE3EveEj2JEP"
      },
      "source": [
        "# Parte 4: Descenso de gradiente y entrenamiento\n",
        "\n",
        "En esta parte programaras el algoritmo de descenso de gradiente más común y entrenarás finalmente tu red para que encuentre parámetros que le permitan clasificar datos aleatorios (mas abajo podrás hacerlo opcionalmente también para MNIST)."
      ]
    },
    {
      "cell_type": "markdown",
      "metadata": {
        "id": "oG-I7Oyl-qsd"
      },
      "source": [
        "## 4a) Descenso de gradiente (estocástico)\n",
        "\n",
        "Construye una clase `SGD` que implemente el algoritmo de descenso de gradiente. El inicializador de la clase debe recibir al menos dos argumentos: un \"iterable\" de parámetros a los cuales aplicarles el descenso de gradiente, y un valor real `lr` correspondiente a la taza de aprendizaje para el descenso de gradiente.\n",
        "El único método que debes implementar es el método `step` que debe actualizar todos los parámetros. En este caso asumiremos que a cada parámetro ya se le han computado los gradientes (todos almacenados en el atributo `.grad` de cada parámetro). El uso de esta clase debiera ser como  sigue:\n",
        "\n",
        "```python \n",
        "# datos = iterador sobre pares de tensores x, y\n",
        "# red = objeto FFNN previamente inicializado\n",
        "\n",
        "optimizador = SGD(red.parameters(), 0.001)\n",
        "for x,y in datos:\n",
        "  y_pred = red.forward(x)\n",
        "  l = CELoss(y_pred, y)\n",
        "  red.backward(x, y, y_pred)\n",
        "  optimizador.step()\n",
        "``` \n"
      ]
    },
    {
      "cell_type": "code",
      "metadata": {
        "id": "TUkJA9Qm2GKY"
      },
      "source": [
        "# Tu código debiera comenzar así\n",
        "\n",
        "class SGD():\n",
        "  def __init__(self, parameters, lr):\n",
        "    # lo que sea necesario inicializar\n",
        "    pass\n",
        "  \n",
        "  def step(self):\n",
        "    # actualiza acá los parámetros a partir del gradiente de cada uno\n",
        "    pass"
      ],
      "execution_count": null,
      "outputs": []
    },
    {
      "cell_type": "markdown",
      "metadata": {
        "id": "vpCfOvvbLdoq"
      },
      "source": [
        "## 4b) Datos para carga\n",
        "\n",
        "En esta parte crearás un conjunto de datos de prueba aleatorios para probar con tu red. La idea de partir con datos al azar es para que te puedas concentrar en encontrar posibles bugs en tu implementación antes de probar tu red con cosas más complicadas. \n",
        "\n",
        "Para esta parte debes crear una clase `RandomDataset` como subclase de `Dataset` (que se encuentra en el módulo [`torch.utils.data`]()). Tu clase debe recibir en su inicializador la cantidad de ejemplos a crear, la cantidad de características de cada ejemplo, y la cantidad de clases en la función objetivo. Debes definir la función `__len__` que retorna el largo del dataset y la función `__getitem__` que permite acceder a un item específico de los datos.\n",
        "Cada elemento entregado por `__getitem__` debe ser un par $(x,y)$ con un único ejemplo, donde $x$ es un tensor que representa a los datos de entrada (características) e $y$ representa al valor esperado de la clasificación para esa entrada. \n",
        "\n",
        "Lo positivo de definir un conjunto de datos como `Dataset` es que luego puedes usar un `DataLoader` para iterar por paquetes sobre el dataset y entregarlos a una red (tal como lo hiciste en la Tarea 1 para MNIST). El siguiente trozo de código de ejemplo muestra cómo debieras usar tu clase en conjunto con un `DataLoader`.\n",
        "\n",
        "```python\n",
        "dataset = RandomDataset(1000,200,10)\n",
        "data = DataLoader(dataset, batch_size=4)\n",
        "for x,y in data:\n",
        "  # x,y son paquetes de 4 ejemplos del dataset.\n",
        "```"
      ]
    },
    {
      "cell_type": "code",
      "metadata": {
        "id": "U6o4TjFZa3gJ"
      },
      "source": [
        "from torch.utils.data import Dataset, DataLoader\n",
        "\n",
        "# Aquí tu código.\n",
        "# Tu clase debiera verse así\n",
        "class RandomDataset(Dataset):\n",
        "  def __init__(self, N, F, C):\n",
        "    pass\n",
        "  \n",
        "  def __len__(self):\n",
        "    pass\n",
        "  \n",
        "  def __getitem__(self, i):\n",
        "    pass"
      ],
      "execution_count": null,
      "outputs": []
    },
    {
      "cell_type": "markdown",
      "metadata": {
        "id": "Bm4X2oazLifX"
      },
      "source": [
        "## 4c) Entrenando la red con datos al azar\n",
        "\n",
        "Por fin podrás crear un ciclo de entrenamiento. Para esto crea la función `entrenar_FFNN` que recibe una red, un dataset, un optimizador, la cantidad de épocas por las que se quiere entrenar, el tamaño de los paquetes de ejemplos usados en el entrenamiento, y el dispositivo donde se correrá el loop. Puedes definir todos los argumentos adicionales que quieras para la función. \n",
        "\n",
        "Dentro de la función debes hacer tantas iteraciones sobre el dataset como la cantidad de épocas indicadas utilizando el optimizador para actualizar los parámetros de la red para cada paquete de ejemplos. Procura que todo el trabajo (forward y backward) se haga en el dispositivo indicado. Al finalizar, la función debe retornar una lista con el valor de la pérdida en cada iteración. Asegúrate de que la función muestre información relevante durante el entrenamiento (piensa en toda la información que te gustaría tener mientras la red entrena y muéstrala en pantalla). Si quieres, puedes agregar un parámetro `verbose` para indicar el nivel de información mostrada durante el entrenamiento.\n",
        "\n",
        "El uso de la función, y de todo tu código hasta ahora, debiera verse como sigue:\n",
        "\n",
        "```python\n",
        "F, C = 300, 10\n",
        "red = FFNN(F, [50,30], [relu,sig], C)\n",
        "optimizador = SGD(red.parameters(), 0.001)\n",
        "N = 1000\n",
        "dataset = RandomDataset(N, F, C)\n",
        "perdida = entrenar_FFNN(red, dataset, optimizador, epochs=20, batch_size=8, device='cpu')\n",
        "``` "
      ]
    },
    {
      "cell_type": "code",
      "metadata": {
        "id": "s4jgU-fDUPUD"
      },
      "source": [
        "# Tu código acá\n",
        "def entrenar_FFNN(red, dataset, optimizador, epochs=1, batch_size=1, device='cuda'):\n",
        "  pass"
      ],
      "execution_count": null,
      "outputs": []
    },
    {
      "cell_type": "markdown",
      "metadata": {
        "id": "ptr16D9gYAC6"
      },
      "source": [
        "## 4d) Graficando la pérdida/error en el tiempo\n",
        "\n",
        "Usa la librería [`matplotlib`](https://matplotlib.org/users/index.html) para mostrar cómo varía la pérdida a medida que entrena tu red. Muestra al menos tres redes distintas entrenadas con el mismo conjunto de datos y compara la forma de aprendizaje. Intenta mostrar un caso que diferencie a las redes, cambiando su tamaño y también el tamaño de los datos de entrada. "
      ]
    },
    {
      "cell_type": "code",
      "metadata": {
        "id": "sZGAxnR-Ll-Y"
      },
      "source": [
        "# Tu código acá"
      ],
      "execution_count": null,
      "outputs": []
    },
    {
      "cell_type": "markdown",
      "metadata": {
        "id": "X0KdsZMKkx0g"
      },
      "source": [
        "## 4e) Opcional: Entrenando tu red con MNIST\n",
        "\n",
        "Usa tu red para entrenar con los datos de MNIST. Mira cómo usamos este conjunto de datos en la Tarea 1, pero esta vez usa el argumento `train=True` cuando descargues el dataset. Grafica la pérdida para distintas opciones de redes (más o menos capas, más o menos neuronas por capas, distintos tipos de funciones de activación, etc.) y compara un par de opciones diferentes. Trata de explicar las diferencias (o la ausencia de diferencias)."
      ]
    },
    {
      "cell_type": "code",
      "metadata": {
        "id": "7PJ_w-4UMeU9"
      },
      "source": [
        "# Tu código de carga de datos, creación de la red, \n",
        "# entrenamiento y reportes acá"
      ],
      "execution_count": null,
      "outputs": []
    }
  ]
}
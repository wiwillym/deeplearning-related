{
  "nbformat": 4,
  "nbformat_minor": 0,
  "metadata": {
    "kernelspec": {
      "display_name": "Python 3",
      "language": "python",
      "name": "python3"
    },
    "language_info": {
      "codemirror_mode": {
        "name": "ipython",
        "version": 3
      },
      "file_extension": ".py",
      "mimetype": "text/x-python",
      "name": "python",
      "nbconvert_exporter": "python",
      "pygments_lexer": "ipython3",
      "version": "3.6.8"
    },
    "colab": {
      "name": "Respuestas_Tarea_2_CC6204_2020",
      "provenance": [],
      "collapsed_sections": []
    },
    "accelerator": "GPU"
  },
  "cells": [
    {
      "cell_type": "markdown",
      "metadata": {
        "id": "vEJLFL-H5axT"
      },
      "source": [
        "# Tarea 2: Backpropagation, descenso de gradiente y entrenamiento <br/> CC6204 Deep Learning, Universidad de Chile  <br/> Hoja de respuestas\n",
        "## Nombre: Guillermo Martínez\n",
        "Fecha de entrega: 16 de octubre de 2020\n",
        "\n",
        "Para la **corrección automática** hemos creado una funcionalidad nueva que les permite comprobar el tiempo que demora su solución. En colab estos tiempos pueden ser variables entre una ejecución y otra del mismo código. No se preocupen si les falla el test por `time` algunas veces. Pueden hacer `time=0` en la ultima linea de cada test para evitar estos errores. También hemos usado nombres para los tests. Estos pueden serles de ayuda para determinar qué partes de su implementación deben corregir ;-)\n"
      ]
    },
    {
      "cell_type": "code",
      "metadata": {
        "id": "9rN1E2MUXDSn",
        "colab": {
          "base_uri": "https://localhost:8080/",
          "height": 403
        },
        "outputId": "86a38b8b-0f3b-47eb-c064-7aefe1ecc228"
      },
      "source": [
        "# Este notebook está pensado para correr en CoLaboratory. \n",
        "# Lo único imprescindible por importar es torch\n",
        "import torch\n",
        "\n",
        "# Posiblemenete quieras instalar e importar ipdb para debuggear.\n",
        "# Si es así, descomenta lo siguiente:\n",
        "# !pip install -q ipdb\n",
        "# import ipdb\n",
        "\n",
        "# Aqui instalamos la libreria de correccion del curso\n",
        "!pip install -U \"git+https://github.com/dccuchile/CC6204.git@master#egg=cc6204&subdirectory=autocorrect\"\n",
        "from timeit import default_timer as timer"
      ],
      "execution_count": null,
      "outputs": [
        {
          "output_type": "stream",
          "text": [
            "Collecting cc6204\n",
            "  Cloning https://github.com/dccuchile/CC6204.git (to revision master) to /tmp/pip-install-s_s3k16d/cc6204\n",
            "  Running command git clone -q https://github.com/dccuchile/CC6204.git /tmp/pip-install-s_s3k16d/cc6204\n",
            "Requirement already satisfied, skipping upgrade: requests in /usr/local/lib/python3.6/dist-packages (from cc6204) (2.23.0)\n",
            "Requirement already satisfied, skipping upgrade: numpy in /usr/local/lib/python3.6/dist-packages (from cc6204) (1.18.5)\n",
            "Requirement already satisfied, skipping upgrade: torch in /usr/local/lib/python3.6/dist-packages (from cc6204) (1.6.0+cu101)\n",
            "Requirement already satisfied, skipping upgrade: chardet<4,>=3.0.2 in /usr/local/lib/python3.6/dist-packages (from requests->cc6204) (3.0.4)\n",
            "Requirement already satisfied, skipping upgrade: urllib3!=1.25.0,!=1.25.1,<1.26,>=1.21.1 in /usr/local/lib/python3.6/dist-packages (from requests->cc6204) (1.24.3)\n",
            "Requirement already satisfied, skipping upgrade: idna<3,>=2.5 in /usr/local/lib/python3.6/dist-packages (from requests->cc6204) (2.10)\n",
            "Requirement already satisfied, skipping upgrade: certifi>=2017.4.17 in /usr/local/lib/python3.6/dist-packages (from requests->cc6204) (2020.6.20)\n",
            "Requirement already satisfied, skipping upgrade: future in /usr/local/lib/python3.6/dist-packages (from torch->cc6204) (0.16.0)\n",
            "Building wheels for collected packages: cc6204\n",
            "  Building wheel for cc6204 (setup.py) ... \u001b[?25l\u001b[?25hdone\n",
            "  Created wheel for cc6204: filename=cc6204-0.3.2-cp36-none-any.whl size=4708 sha256=af8fc1d1714573652cb9e0e54045154d28033b9dd33dd71e065826af36e04b3f\n",
            "  Stored in directory: /tmp/pip-ephem-wheel-cache-4c7fsvlu/wheels/62/f0/30/aadcb7ce24a2f9c935890518e902d4e23bf97b80f47bb64414\n",
            "Successfully built cc6204\n",
            "Installing collected packages: cc6204\n",
            "  Found existing installation: cc6204 0.3.2\n",
            "    Uninstalling cc6204-0.3.2:\n",
            "      Successfully uninstalled cc6204-0.3.2\n",
            "Successfully installed cc6204-0.3.2\n"
          ],
          "name": "stdout"
        }
      ]
    },
    {
      "cell_type": "code",
      "metadata": {
        "id": "PVhyLn9G5NJV",
        "colab": {
          "base_uri": "https://localhost:8080/",
          "height": 35
        },
        "outputId": "895e7cd2-cf5c-42a1-c859-54237f02e14a"
      },
      "source": [
        "# importamos las herramientas del curso\n",
        "from cc6204 import AutoCorrect, FailedTest\n",
        "\n",
        "# ingresa el host y port que posteamos en u-cursos\n",
        "corrector = AutoCorrect(host=\"cc6204.dcc.uchile.cl\", port=443)\n",
        "\n",
        "# anota el token que te daremos en u-cursos\n",
        "token = \"]ye/Ox;nsz\""
      ],
      "execution_count": null,
      "outputs": [
        {
          "output_type": "stream",
          "text": [
            "Connection stablished\n"
          ],
          "name": "stdout"
        }
      ]
    },
    {
      "cell_type": "markdown",
      "metadata": {
        "id": "fg8i3agyXDSr"
      },
      "source": [
        "# Parte 1: Preliminares: funciones de activación y función de error\n"
      ]
    },
    {
      "cell_type": "markdown",
      "metadata": {
        "id": "NbzcMAkOXDSr"
      },
      "source": [
        "## 1a) Derivando las funciones de activación"
      ]
    },
    {
      "cell_type": "markdown",
      "metadata": {
        "id": "pcybEP7fXDSs"
      },
      "source": [
        "Escribe acá tus respuestas para las derivadas de cada función de activación.\n",
        "<br>\n",
        "\n",
        "\\begin{equation}\n",
        "\\frac{\\partial\\ \\text{relu}(x)}{\\partial x} = \\begin{cases}\n",
        "      1 & \\text{if}\\ x > 0 \\\\\n",
        "      0 & \\text{if}\\ x < 0\n",
        "    \\end{cases} \\\\ \\\\ \n",
        "\\end{equation}\n",
        "<br>\n",
        "<br>\n",
        "\n",
        "\n",
        "\\begin{eqnarray}\n",
        "\\frac{\\partial\\ \\text{swish}(x, \\beta)}{\\partial x} & = & \\frac{\\partial\\ x \\cdot \\sigma(\\beta x)}{\\partial x} \\\\\n",
        "& = & (1 - e^{\\beta x})^{-1} + x \\cdot \\frac{\\partial\\ (1 - e^{\\beta x})^{-1}}{\\partial x} \\\\\n",
        "& = & \\sigma(\\beta x) + \\beta x\\ \\sigma(\\beta x) \\cdot \\frac{1}{1+ e^{-\\beta x}} \\cdot e^{-\\beta x} \\\\\n",
        "& = & \\beta x\\ \\cdot \\sigma(\\beta x) + \\sigma(\\beta x)(1 - \\beta x \\cdot \\sigma(\\beta x)) \\\\\n",
        "& = & \\boxed{\\beta\\ \\text{swish}(x, \\beta) + \\text{sigmoid}(\\beta x)(1 - \\beta\\ \\text{swish}(x, \\beta)) }\n",
        "\\\\\n",
        "\\\\\n",
        "\\frac{\\partial\\ \\text{swish}(x, \\beta)}{\\partial \\beta} & = & \\frac{\\partial\\ x \\cdot \\sigma(\\beta x)}{\\partial \\beta} \\\\\n",
        "& = & x \\cdot \\frac{\\partial\\ (1 + e^{-\\beta x})^{-1}}{\\partial \\beta} \\\\\n",
        "& = & x^2 \\sigma(\\beta x) \\cdot \\frac{1}{1 + e^{-\\beta x}} \\cdot e^{-\\beta x} \\\\\n",
        "& = & x \\cdot \\sigma(\\beta x) \\cdot (x - x \\cdot \\sigma(\\beta x)) \\\\\n",
        "& = & \\boxed{\\text{swish}(x, \\beta) \\cdot (x - \\text{swish}(x, \\beta))}\n",
        "\\end{eqnarray}\n",
        "<br>\n",
        "<br>\n",
        "\n",
        "\\begin{eqnarray}\n",
        "\\frac{\\partial\\ \\text{celu}(x, \\alpha)}{\\partial x} & = & \\begin{cases}\n",
        "      1 & \\text{if}\\ x \\geq 0 \\\\\n",
        "      \\text{exp}(\\frac{x}{\\alpha}) & \\text{otherwise}\n",
        "    \\end{cases} \\\\\n",
        "\\\\\n",
        "\\frac{\\partial\\ \\text{celu}(x, \\alpha)}{\\partial \\alpha} & = & \\begin{cases}\n",
        "      0 & \\text{if}\\ x \\geq 0 \\\\\n",
        "      \\text{exp}(\\frac{x}{\\alpha})(1 - \\frac{x}{\\alpha}) - 1 & \\text{otherwise}\n",
        "    \\end{cases}\\\\\n",
        "\\end{eqnarray}}"
      ]
    },
    {
      "cell_type": "code",
      "metadata": {
        "id": "6QfQVggvNuv9"
      },
      "source": [
        "# Más adelante en la tarea necesitaremos usar las funciones de activación \n",
        "# que implementaste en la Tarea 1 y sus derivadas.\n",
        "# Acá implementa las derivadas de las funciones de activación\n",
        "\n",
        "# Una forma de implementarlas (tal vez no la mejor) es reutilizando la misma función\n",
        "def sig(T, gradient=False):\n",
        "  if gradient:\n",
        "    sigT = sig(T)\n",
        "    return sigT * (1 - sigT)\n",
        "  return torch.reciprocal(1 + torch.exp(-1 * T))\n",
        "\n",
        "def relu(T, gradient=False):\n",
        "  outT = torch.clone(T)\n",
        "  if gradient:\n",
        "    outT[T <= 0] = 0\n",
        "    outT[T > 0] = 1\n",
        "    return outT\n",
        "  outT[T < 0] = 0\n",
        "  return outT\n",
        "\n",
        "def swish(T, beta=1, gradient=False):\n",
        "  if gradient:\n",
        "    swishT = swish(T, beta)\n",
        "    sigT = sig(beta * T)\n",
        "    gradient_tensor = beta * swishT + sigT * (1 - beta * swishT)\n",
        "    gradient_beta = swishT * (x - swishT)\n",
        "    return gradient_tensor, gradient_beta\n",
        "  return T * sig(beta * T)\n",
        "\n",
        "def celu(T, alpha=1, gradient=False):\n",
        "  if alpha == 0:\n",
        "    raise ValueError(\"alpha cannot be 0\")\n",
        "  if gradient:\n",
        "    gradient_tensor = T.clone()\n",
        "    gradient_alpha = T.clone()\n",
        "    gradient_tensor[T >= 0] = 1\n",
        "    gradient_tensor[T < 0] = torch.exp((gradient_tensor[T < 0] / alpha))\n",
        "    gradient_alpha[T >= 0] = 0\n",
        "    gradient_alpha[T < 0] = torch.exp((gradient_alpha[T < 0] / alpha)) * (1 - gradient_alpha[T < 0] / alpha) - 1\n",
        "    return gradient_tensor, gradient_alpha\n",
        "  outT = T.clone()\n",
        "  outT[T < 0] = alpha * (outT[T<0] / alpha).expm1()\n",
        "  return outT\n",
        "\n",
        "def tanh(T, gradient=False):\n",
        "  if gradient:\n",
        "    return 1 - tanh(T).pow(2)\n",
        "  E = torch.exp(T)\n",
        "  e = torch.exp(-1 * T)\n",
        "  return (E - e) * torch.reciprocal(E + e)\n",
        "  \n",
        "def softmax(T, dim=1):\n",
        "  t = T\n",
        "  t = t - torch.unsqueeze(torch.max(t, dim)[0], dim)\n",
        "  t = torch.exp(t)\n",
        "  dim_sum = torch.unsqueeze(torch.sum(t, dim=dim), dim)\n",
        "  res = t / dim_sum\n",
        "  return res\n",
        "\n"
      ],
      "execution_count": null,
      "outputs": []
    },
    {
      "cell_type": "markdown",
      "metadata": {
        "id": "ifPp_c1eXDSt"
      },
      "source": [
        "## 1b) Entropía Cruzada"
      ]
    },
    {
      "cell_type": "code",
      "metadata": {
        "id": "w4wXj3AUXDSu"
      },
      "source": [
        "# Tu código acá\n",
        "def CELoss(Q, P, estable=True, epsilon=1e-8):\n",
        "  # Q y P: representan distribuciones de probabilidad discreta  \n",
        "  #        (mediante matrices con las mismas dimensiones)\n",
        "  # estable y epsilon: nos permiten lograr estabilidad numérica cuando \n",
        "  #       intentamos computar el logaritmo de valores muy pequeños.\n",
        "  #       epsilon limitará el valor mínimo del valor original cuando estable=True\n",
        "  if estable:\n",
        "    Q_estable = Q.clone()\n",
        "    Q_estable[Q <= epsilon] = epsilon\n",
        "    ce_loss_estable = torch.mean(-torch.sum(P * torch.log(Q_estable), 1), 0)\n",
        "    return ce_loss_estable\n",
        "  ce_loss = torch.mean(-torch.sum(P * torch.log(Q), 1), 0)\n",
        "  return ce_loss"
      ],
      "execution_count": null,
      "outputs": []
    },
    {
      "cell_type": "code",
      "metadata": {
        "id": "qrjGpVdg4xi1",
        "colab": {
          "base_uri": "https://localhost:8080/",
          "height": 90
        },
        "outputId": "d885c8fe-5b10-45bc-f450-7543060238c1"
      },
      "source": [
        "# Tests del API del curso\n",
        "for test in ['small', 'estable', 'eps', 'no-estable']:\n",
        "  # Obtengamos dos distribuciones de probabilidad y los parametros estable y epsilon\n",
        "  Q, P, estable, eps = corrector.get_test_data(homework=2, question=\"1b\", test=test, token=token)\n",
        "  # Corramos tu implementacion de CELoss para ver como se comporta\n",
        "  s = timer()\n",
        "  result = CELoss(Q=torch.Tensor(Q), P=torch.Tensor(P), estable=estable, epsilon=eps)\n",
        "  t = timer() - s\n",
        "\n",
        "  # Veamos si todo fue OK :)\n",
        "  # Si el Test te falla algunas veces por [time], puedes hacer time=0 ;-)\n",
        "  corrector.sumbit(homework=2, question=\"1b\", test=test, token=token, answer=result, time=t)"
      ],
      "execution_count": null,
      "outputs": [
        {
          "output_type": "stream",
          "text": [
            "Correct Test!\n",
            "Correct Test!\n",
            "Correct Test!\n",
            "Correct Test!\n"
          ],
          "name": "stdout"
        }
      ]
    },
    {
      "cell_type": "markdown",
      "metadata": {
        "id": "rlLnZM7hi0C2"
      },
      "source": [
        "## 1c) Opcional: Entropía Cruzada Categórica"
      ]
    },
    {
      "cell_type": "code",
      "metadata": {
        "id": "7Qj1GI81izYt"
      },
      "source": [
        "# No es necesario que entregues código en esta parte.\n",
        "# Pero si quieres, igual hay espacio ;-)"
      ],
      "execution_count": null,
      "outputs": []
    },
    {
      "cell_type": "markdown",
      "metadata": {
        "id": "EwedMCZjXDSw"
      },
      "source": [
        "# Parte 2: Más derivadas y back propagation"
      ]
    },
    {
      "cell_type": "markdown",
      "metadata": {
        "id": "nftKKxlBXDSx"
      },
      "source": [
        "## 2a) Derivando la última capa"
      ]
    },
    {
      "cell_type": "markdown",
      "metadata": {
        "id": "WDBD96xWXDSx"
      },
      "source": [
        "Escribe tu cálculo acá.\n",
        "<br>\n",
        "\n",
        "\\begin{eqnarray}\n",
        "\\frac{\\partial \\cal L}{\\partial u^{(L+1)}} & = & \\frac{\\partial (-\\frac{1}{N}\\sum\\limits_{j=1}^N y_{j}\\log(\\hat{y_{j}}) )}{\\partial u_{i}^{(L+1)}} \\\\\n",
        "& = & -\\frac{1}{N} ( \\sum\\limits_{j=1}^N y_{j} \\frac{\\partial \\log(\\hat{y_{j}})}{\\partial u_{i}^{(L+1)}} ) \\\\\n",
        "& = & -\\frac{1}{N} ( \\sum\\limits_{j=1}^N y_{j} \\frac{1}{\\hat{y_{j}}} \\frac{\\partial \\hat{y_{j}}}{\\partial u_{i}^{(L+1)}} ) \\\\\n",
        "\\end{eqnarray}\n",
        "<br>\n",
        "\n",
        "Analizando la derivada parcial de la sumatoria se obtiene lo siguiente:\n",
        "<br>\n",
        "\n",
        "\\begin{eqnarray}\n",
        "\\frac{\\partial\\ \\hat{y_{j}}}{\\partial u_{i}^{(L+1)}} & = & \\frac{\\partial\\ \\text{softmax}(u_{j}^{(L+1)})}{\\partial u_{i}^{(L+1)}} \\\\\n",
        "& = & \\frac{\\partial \\frac{e^{u_{j}}}{\\sum\\limits_{k=1}^N e^{u_{k}}}}{\\partial u_{i}^{(L+1)}} \\\\\n",
        "\\end{eqnarray}\n",
        "<br>\n",
        "\n",
        "aquí se dan dos casos; primero, el caso en que $i = j$:\n",
        "<br>\n",
        "\n",
        "\\begin{eqnarray}\n",
        "\\frac{\\partial \\frac{e^{u_{i}}}{\\sum\\limits_{k=1}^N e^{u_{k}}}}{\\partial u_{i}^{(L+1)}} & = & \\frac{e^{u_{i}} \\sum\\limits_{k=1}^N e^{u_{k}} - e^{u_{i}}e^{u_{i}}}{(\\sum\\limits_{k=1}^N e^{u_{k}})^2}\\\\\n",
        "& = & \\frac{e^{u_{i}} (\\sum\\limits_{k=1}^N e^{u_{k}} - e^{u_{i}})}{(\\sum\\limits_{k=1}^N e^{u_{k}})^2} \\\\\n",
        "& = & \\frac{e^{u_{i}}}{\\sum\\limits_{k=1}^N e^{u_{k}}}\\frac{(\\sum\\limits_{k=1}^N e^{u_{k}} - e^{u_{i}})}{\\sum\\limits_{k=1}^N e^{u_{k}}} \\\\\n",
        "& = & \\text{softmax}(u_{i})(1 - \\text{softmax}(u_{i})) \\\\\n",
        "& = & \\hat{y_{i}}(1 - \\hat{y_{i}}) \\\\\n",
        "\\end{eqnarray}\n",
        "<br>\n",
        "\n",
        "Por otro lado, para el caso en que $i \\neq j$:\n",
        "<br>\n",
        "\n",
        "\\begin{eqnarray}\n",
        "\\frac{\\partial \\frac{e^{u_{j}}}{\\sum\\limits_{k=1}^N e^{u_{k}}}}{\\partial u_{i}^{(L+1)}} & = & \\frac{0 - e^{u_{i}}e^{u_{j}}}{(\\sum\\limits_{k=1}^N e^{u_{k}})^2}\\\\\n",
        "& = & - \\frac{e^{u_{i}}}{\\sum\\limits_{k=1}^N e^{u_{k}}}\\frac{e^{u_{j}}}{\\sum\\limits_{k=1}^N e^{u_{k}}} \\\\\n",
        "& = & - \\text{softmax}(u_{i})\\text{softmax}(u_{j}) \\\\\n",
        "& = & - \\hat{y_{i}}\\hat{y_{j}} \\\\\n",
        "\\end{eqnarray}\n",
        "<br>\n",
        "\n",
        "Con estos resultados podemos continuar lo que se realizó al principio:\n",
        "<br>\n",
        "\n",
        "\\begin{eqnarray}\n",
        "\\frac{\\partial \\cal L}{\\partial u^{(L+1)}} & = & -\\frac{1}{N} ( \\sum\\limits_{j=1}^N y_{j} \\frac{1}{\\hat{y_{j}}} \\frac{\\partial \\hat{y_{j}}}{\\partial u_{i}^{(L+1)}} ) \\\\\n",
        "& = & -\\frac{1}{N} (\\frac{y_{i}}{\\hat{y_{i}}}\\frac{\\partial \\hat{y_{i}}}{\\partial u_{i}^{(L+1)}} + \\sum\\limits_{j \\neq i}^N \\frac{y_{j}}{\\hat{y_{j}}} \\frac{\\partial \\hat{y_{j}}}{\\partial u_{i}^{(L+1)}} ) \\\\\n",
        "& = & -\\frac{1}{N} (\\frac{y_{i}}{\\hat{y_{i}}}\\hat{y_{i}}(1 - \\hat{y_{i}}) + \\sum\\limits_{j \\neq i}^N \\frac{y_{j}}{\\hat{y_{j}}} (-\\hat{y_{i}}\\hat{y_{j}}) ) \\\\\n",
        "& = & -\\frac{1}{N} (y_{i} - y_{i}\\hat{y_{i}} - \\sum\\limits_{j \\neq i}^N y_{j}\\hat{y_{i}} ) \\\\\n",
        "& = & -\\frac{1}{N} (y_{i} - \\sum\\limits_{j = 1}^N y_{j}\\hat{y_{i}} ) \\\\\n",
        "& = & -\\frac{1}{N} (y_{i} - \\hat{y_{i}}\\sum\\limits_{j = 1}^N y_{j} ) \\\\\n",
        "& = & \\boxed{\\frac{1}{N} (\\hat{y_{i}} - y_{i})} \\\\\n",
        "\\end{eqnarray}\n",
        "<br>"
      ]
    },
    {
      "cell_type": "markdown",
      "metadata": {
        "id": "Nzp5SWKBXDSy"
      },
      "source": [
        "## 2b) Derivando la última capa (continuación)"
      ]
    },
    {
      "cell_type": "markdown",
      "metadata": {
        "id": "n9cubvpeXDSz"
      },
      "source": [
        "Escribe tus respuestas acá.\n",
        "<br>\n",
        "\n",
        "\\begin{eqnarray}\n",
        "\\frac{\\partial\\cal L}{\\partial U} & \\implies & \\frac{\\partial \\cal L}{\\partial U_{i}} = \\frac{\\partial \\cal L}{\\partial u^{(L+1)}_{j}} \\frac{\\partial u^{(L+1)}_{j}}{\\partial U_{i}} \\\\\n",
        "& \\implies & \\frac{\\partial u^{(L+1)}_{j}}{\\partial U_{i}} = \\frac{\\partial (h^{(L)}_{jk}U_{k} + c)}{\\partial U_{i}} \\\\\n",
        "& = & \\frac{\\partial (h^{(L)}_{ji}U_{i} + c)}{\\partial U_{i}} = h^{(L)}_{ji}\\\\\n",
        "& \\implies & \\frac{\\partial \\cal L}{\\partial U_{i}} = \\frac{\\partial \\cal L}{\\partial u^{(L+1)}_{j}} \\cdot h^{(L)}_{ji} \\\\\n",
        "& \\implies & \\boxed{\\frac{\\partial\\cal L}{\\partial U} = (h^{(L)})^{T} \\cdot \\frac{\\partial \\cal L}{\\partial u^{(L+1)}}}\n",
        "\\end{eqnarray}\n",
        "<br>\n",
        "\n",
        "\\begin{eqnarray}\n",
        "\\frac{\\partial\\cal L}{\\partial c} & = & \\frac{\\partial \\cal L}{\\partial u^{(L+1)}_{i}} \\frac{\\partial u^{(L+1)}_{i}}{\\partial c} = \\frac{\\partial \\cal L}{\\partial u^{(L+1)}_{i}} \\frac{\\partial (h^{(L)}_{ik}U_{k} + c)}{\\partial c} \\\\\n",
        "& = & \\frac{\\partial \\cal L}{\\partial u^{(L+1)}_{i}} \\cdot {\\textit{1}}_{i} = \\text{sum}(\\frac{\\partial \\cal L}{\\partial u^{(L+1)}})\\\\\n",
        "& \\implies & \\boxed{\\frac{\\partial\\cal L}{\\partial c} = \\text{sum}(\\frac{\\partial \\cal L}{\\partial u^{(L+1)}})}\n",
        "\\end{eqnarray}\n",
        "<br>\n",
        "\n",
        "\\begin{eqnarray}\n",
        "\\frac{\\partial\\cal L}{\\partial h^{(L)}} & \\implies & \\frac{\\partial\\cal L}{\\partial h^{(L)}_{ij}} = \\frac{\\partial \\cal L}{\\partial u^{(L+1)}_{k}} \\frac{\\partial u^{(L+1)}_{k}}{\\partial h^{(L)}_{ij}} \\\\\n",
        "& = & \\frac{\\partial \\cal L}{\\partial (h^{(L)}_{kl}U_{l} + c)} \\frac{\\partial (h^{(L)}_{kl}U_{l} + c)}{\\partial h^{(L)}_{ij}} \\\\\n",
        "& = & \\frac{\\partial \\cal L}{\\partial (h^{(L)}_{ij}U_{l} + c)} \\frac{\\partial (h^{(L)}_{ij}U_{j} + c)}{\\partial h^{(L)}_{ij}}\\\\\n",
        "& = &  \\frac{\\partial \\cal L}{\\partial u^{(L+1)}_{i}} \\frac{\\partial u^{(L+1)}_{i}}{\\partial h^{(L)}_{ij}} = \\frac{\\partial \\cal L}{\\partial u^{(L+1)}_{i}}\\cdot U_{j} \\\\\n",
        "& \\implies & \\boxed{\\frac{\\partial\\cal L}{\\partial h^{(L)}} = \\frac{\\partial \\cal L}{\\partial u^{(L+1)}} \\otimes U}\n",
        "\\end{eqnarray}\n",
        "<br>"
      ]
    },
    {
      "cell_type": "markdown",
      "metadata": {
        "id": "1WNYoTIHXDS0"
      },
      "source": [
        "## 2c) Derivando desde las capas escondidas"
      ]
    },
    {
      "cell_type": "markdown",
      "metadata": {
        "id": "vz7TChQ8XDS0"
      },
      "source": [
        "Escribe tus respuestas acá. Repite los siguientes cálculos para $\\text{relu}, \\text{celu}, \\text{swish}$\n",
        "<br>\n",
        "\n",
        "\\begin{eqnarray}\n",
        "\\frac{\\partial\\cal L}{\\partial u^{(k)}} & \\implies & \\frac{\\partial \\cal L}{\\partial u^{(k)}_{ij}} = \\frac{\\partial \\cal L}{\\partial h^{(k)}_{kl}} \\frac{\\partial h^{(k)}_{kl}}{\\partial u^{(k)}_{ij}} \\\\\n",
        "& = & \\frac{\\partial \\cal L}{\\partial h^{(k)}_{kl}} \\frac{\\partial\\ \\text{function}(u^{(k)}_{kl})}{\\partial u^{(k)}_{ij}}\\\\\n",
        "& \\implies & \\boxed{\\frac{\\partial\\cal L}{\\partial u^{(k)}} = \\frac{\\partial \\cal L}{\\partial h^{(k)}} \\frac{\\partial\\ \\text{function}_{i}(u^{(k)})}{\\partial u^{(k)}}}\n",
        "\\end{eqnarray}\n",
        "<br>\n",
        "donde $\\text{function}_{i}$ corresponde a una función de activación asociada al paso de backpropagation.\n",
        "\n",
        "\\begin{eqnarray}\n",
        "\\frac{\\partial\\cal L}{\\partial W^{(k)}} & \\implies & \\frac{\\partial \\cal L}{\\partial W^{(k)}_{ij}} = \\frac{\\partial \\cal L}{\\partial u^{(k)}_{kl}} \\frac{\\partial u^{(k)}_{kl}}{\\partial W^{(k)}_{ij}}\\\\\n",
        "& \\implies & \\frac{\\partial u^{(k)}_{kl}}{\\partial W^{(k)}_{ij}} = \\frac{\\partial (h^{(k-1)}_{kr}W^{(k)}_{rl} + b^{(k)}_{l})}{\\partial W^{(k)}_{ij}} =  h^{(k-1)}_{ki} \\\\\\\\\n",
        "& \\implies & \\frac{\\partial\\cal L}{\\partial W^{(k)}_{ij}} = \\frac{\\partial \\cal L}{\\partial u^{(k)}_{kj}} \\cdot h^{(k-1)}_{ki} \\\\\n",
        "& \\implies & \\boxed{\\frac{\\partial\\cal L}{\\partial W^{(k)}} = (h^{(k-1)})^{T} \\cdot \\frac{\\partial \\cal L}{\\partial u^{(k)}}}\n",
        "\\end{eqnarray}\n",
        "<br>\n",
        "\n",
        "\\begin{eqnarray}\n",
        "\\frac{\\partial\\cal L}{\\partial b^{(k)}} & \\implies & \\frac{\\partial\\cal L}{\\partial b^{(k)}_{i}} = \\frac{\\partial \\cal L}{\\partial u^{(k)}_{kl}} \\frac{\\partial u^{(k)}_{kl}}{\\partial b^{(k)}_{i}} \\\\\n",
        "& \\implies & \\frac{\\partial\\cal L}{\\partial b^{(k)}_{i}} = \\frac{\\partial \\cal L}{\\partial u^{(k)}_{ki}} \\frac{\\partial u^{(k)}_{ki}}{\\partial b^{(k)}_{i}} \\\\\n",
        "& = & \\frac{\\partial \\cal L}{\\partial u^{(k)}_{ki}} \\cdot {\\textit{1}}_{ki} \\\\\n",
        "& \\implies &  \\boxed{\\frac{\\partial\\cal L}{\\partial b^{(k)}} = \\text{sum}_{i}(\\frac{\\partial \\cal L}{\\partial u^{(k)}})}\n",
        "\\end{eqnarray}\n",
        "<br>\n",
        "\n",
        "\\begin{eqnarray}\n",
        "\\frac{\\partial\\cal L}{\\partial h^{(k-1)}} & \\implies & \\frac{\\partial\\cal L}{\\partial h^{(k-1)}_{ij}} = \\frac{\\partial\\cal L}{\\partial u^{(k)}_{kl}} \\frac{\\partial u^{(k)}_{kl}}{\\partial h^{(k-1)}_{ij}}\\\\\n",
        "& \\implies & \\frac{\\partial\\cal L}{\\partial h^{(k-1)}_{ij}} = \\frac{\\partial\\cal L}{\\partial u^{(k)}_{il}} \\frac{\\partial u^{(k)}_{il}}{\\partial h^{(k-1)}_{ij}}\\\\\n",
        "& \\implies &  \\frac{\\partial\\cal L}{\\partial h^{(k-1)}_{ij}} = \\frac{\\partial\\cal L}{\\partial u^{(k)}_{il}} \\cdot W^{(k)}_{jl} \\\\\n",
        "& \\implies & \\boxed{\\frac{\\partial\\cal L}{\\partial h^{(k-1)}} = \\frac{\\partial\\cal L}{\\partial u^{(k)}} \\cdot (W^{(k)})^{T}}\n",
        "\\end{eqnarray}\n",
        "<br>"
      ]
    },
    {
      "cell_type": "markdown",
      "metadata": {
        "id": "0n29s-6zXDS1"
      },
      "source": [
        "# Parte 3: Backpropagation en nuestra red"
      ]
    },
    {
      "cell_type": "markdown",
      "metadata": {
        "id": "do04-nhfXDS2"
      },
      "source": [
        "## 3a) Método `backward` + parte 3b) Opcional"
      ]
    },
    {
      "cell_type": "code",
      "metadata": {
        "id": "ytN2y-FMXDS3"
      },
      "source": [
        "# Acá solo deberías programar la función backward.\n",
        "# El resto del código viene de la Tarea 1 (a menos que hayas programado\n",
        "# la parte opcional en cuyo caso también deberías cambiar el inicializador).\n",
        "# Puedes incluir todo el código de la Tarea 1 que quieras.\n",
        "class FFNN(torch.nn.Module):\n",
        "  def __init__(self, F, l_h, l_a, C):\n",
        "    super(FFNN, self).__init__()\n",
        "    \n",
        "    sizes = [F] + l_h + [C]\n",
        "    self.Ws = torch.nn.ParameterList([torch.nn.Parameter(torch.randn(sizes[i], sizes[i+1])) for i in range(len(sizes)-1)])\n",
        "    self.bs = torch.nn.ParameterList([torch.nn.Parameter(torch.zeros(h)) for h in sizes[1:]])\n",
        "    self.fs = l_a\n",
        "  \n",
        "  @property\n",
        "  def in_size(self):\n",
        "    return self.Ws[0].shape[0]\n",
        "    \n",
        "  def load_weights(self, Ws, U, bs, c):\n",
        "    self.Ws = torch.nn.ParameterList([torch.nn.Parameter(W) for W in Ws + [U]])\n",
        "    self.bs = torch.nn.ParameterList([torch.nn.Parameter(b) for b in bs + [c]])\n",
        "  \n",
        "  def resumen(self):\n",
        "    # Usa self.parameters() o self.named_parameters().\n",
        "    for name, p in self.named_parameters():\n",
        "      print('{}:\\t{}'.format(name, p.size()))\n",
        "    pass\n",
        "  \n",
        "  def forward(self, x):\n",
        "    # Usa los parámetros y funciones de activación.\n",
        "    # El valor de retorno debiera ser y = softmax(capa_de_salida).\n",
        "    my_cache1 = []\n",
        "    my_cache2 = []\n",
        "    for W, b, f in zip(self.Ws[:-1], self.bs[:-1], self.fs):\n",
        "      u = torch.mm(x, W) + b\n",
        "      x = f(u)\n",
        "      my_cache1.append(u)\n",
        "      my_cache2.append(x)\n",
        "    u = torch.mm(x, self.Ws[-1]) + self.bs[-1]\n",
        "    x = softmax(u)\n",
        "    my_cache1.append(u)\n",
        "    my_cache2.append(x)\n",
        "    self.cache_u = my_cache1\n",
        "    self.cache_h = my_cache2\n",
        "    return x\n",
        "  \n",
        "  def backward(self, x, y, y_pred):\n",
        "    n_layers = len(self.Ws) - 1\n",
        "    cache_u = self.cache_u\n",
        "    cache_h = self.cache_h\n",
        "\n",
        "    b = x.size()[0]\n",
        "\n",
        "    dL_du = (1/b) * (y_pred - y)\n",
        "    params = []\n",
        "    grads = []\n",
        "\n",
        "    for i in range(n_layers, 0, -1):\n",
        "      dL_dW = cache_h[i-1].t() @ dL_du\n",
        "      dL_db = torch.sum(dL_du, dim=0)\n",
        "      dL_dh = dL_du @ self.Ws[i].t()\n",
        "      dL_du = dL_dh * self.fs[i-1](cache_u[i - 1], gradient=True)\n",
        "      params.append(self.Ws[i])\n",
        "      params.append(self.bs[i])\n",
        "      grads.append(dL_dW)\n",
        "      grads.append(dL_db)\n",
        "    \n",
        "    dL_dW = x.t() @ dL_du\n",
        "    dL_db = torch.sum(dL_du, dim=0)\n",
        "\n",
        "    params.append(self.Ws[0])\n",
        "    params.append(self.bs[0])\n",
        "    grads.append(dL_dW)\n",
        "    grads.append(dL_db)\n",
        "\n",
        "    for p, g in zip(params, grads):\n",
        "      p.grad = g "
      ],
      "execution_count": null,
      "outputs": []
    },
    {
      "cell_type": "code",
      "metadata": {
        "id": "1S3suoQ2tZfX",
        "colab": {
          "base_uri": "https://localhost:8080/",
          "height": 35
        },
        "outputId": "d14e4960-d0ab-4736-87ec-39632f338384"
      },
      "source": [
        "# Tests del API del curso\n",
        "# (estos Tests NO sustituyen al anterior en la verificación de los gradientes)\n",
        "for test in ['mnist-model']:\n",
        "  # Obtenemos los parámetos de la red desde el API\n",
        "  F, l_h, l_a, C, Ws, U, bs, c, X, y = corrector.get_test_data(homework=2, question=\"3a\", test=test, token=token)\n",
        "  l_a = [f for s in l_a for f in [sig, tanh, relu, celu] if f.__name__ == s]\n",
        "\n",
        "  # Inicializamos modelo con parámetros del API\n",
        "  your_model = FFNN(F=F, l_h=l_h, l_a=l_a, C=C)\n",
        "  your_model.load_weights([torch.Tensor(l) for l in Ws], torch.Tensor(U), [torch.Tensor(l) for l in bs], torch.Tensor(c))\n",
        "  \n",
        "  # Obtenemos el índice del parámetro Ws[1] en la lista de parámetros de tu modelo\n",
        "  idx = next(i for i, p in enumerate(your_model.parameters()) if p.size() == torch.Tensor(Ws[1]).size() and torch.all(torch.Tensor(Ws[1])==p))\n",
        "\n",
        "  # Ejecutemos el forward de para input del API\n",
        "  y_pred = your_model(torch.Tensor(X))\n",
        "  \n",
        "  # Ejecutemos el backward de tu modelo para ver como se comporta\n",
        "  s = timer()\n",
        "  your_model.backward(torch.Tensor(X), torch.Tensor(y), y_pred)\n",
        "  t = timer() - s\n",
        "  \n",
        "  # Veamos todo fue OK :)\n",
        "  # Si el Test te falla algunas veces por [time], puedes hacer time=0 ;-)\n",
        "  corrector.sumbit(homework=2, question=\"3a\", test=test, token=token, \n",
        "                   answer=list(your_model.parameters())[idx].grad.mean(), time=t)"
      ],
      "execution_count": null,
      "outputs": [
        {
          "output_type": "stream",
          "text": [
            "Correct Test!\n"
          ],
          "name": "stdout"
        }
      ]
    },
    {
      "cell_type": "markdown",
      "metadata": {
        "id": "s6_7qOkAlcTX"
      },
      "source": [
        "## 3c) Opcional: Chequeo de gradiente"
      ]
    },
    {
      "cell_type": "code",
      "metadata": {
        "id": "AjfsSKLIlgKj"
      },
      "source": [
        "# No es necesario que entregues código en esta parte dado \n",
        "# que solo es necesario para debuggear que tu implementación está correcta.\n",
        "# Pero si quieres, igual hay espacio ;-)"
      ],
      "execution_count": null,
      "outputs": []
    },
    {
      "cell_type": "markdown",
      "metadata": {
        "id": "SDSYiQQ6nkjX"
      },
      "source": [
        "# Parte 4: Descenso de gradiente y optimización"
      ]
    },
    {
      "cell_type": "markdown",
      "metadata": {
        "id": "yqBwusuXnsjO"
      },
      "source": [
        "## 4a) Descenso de gradiente (estocástico)"
      ]
    },
    {
      "cell_type": "code",
      "metadata": {
        "id": "tId-cHk7ntDW"
      },
      "source": [
        "# Tu código debiera comenzar así\n",
        "\n",
        "class SGD():\n",
        "  def __init__(self, parameters, lr):\n",
        "    # lo que sea necesario inicializar\n",
        "    self.params = [p for p in parameters]\n",
        "    self.lr = lr\n",
        "    \n",
        "  \n",
        "  def step(self):\n",
        "    # actualiza acá los parámetros a partir del gradiente de cada uno\n",
        "    for i in range(len(self.params)):\n",
        "      try:\n",
        "        self.params[i].data -= self.lr*self.params[i].grad\n",
        "      except:\n",
        "        pass"
      ],
      "execution_count": null,
      "outputs": []
    },
    {
      "cell_type": "code",
      "metadata": {
        "id": "yN9Bh70SJGgI",
        "colab": {
          "base_uri": "https://localhost:8080/",
          "height": 72
        },
        "outputId": "5aabfa07-c8d0-4136-e51c-3409a166d71f"
      },
      "source": [
        "# Tests del API del curso\n",
        "from torch.nn import Parameter\n",
        "for test in ['small-step', 'big-step', 'random']:\n",
        "  # Obtengamos una lista de parámetros (con gradientes en .grad) y un valor lr\n",
        "  ds, gs, lr, idx = corrector.get_test_data(homework=2, question=\"4a\", test=test, token=token)\n",
        "  parameters = [Parameter(torch.Tensor(d)) for d in ds]\n",
        "  for p, g in zip(parameters, gs):\n",
        "    p.grad = torch.Tensor(g)\n",
        "\n",
        "  # Inicialicemos tu SGD\n",
        "  optimizer = SGD(parameters, lr)\n",
        "\n",
        "  # Ejecutemos un paso de tu SGD para ver como se comporta\n",
        "  s = timer()\n",
        "  optimizer.step()\n",
        "  t = timer() - s\n",
        "\n",
        "  # Veamos si todo fue OK :)\n",
        "  # Si el Test te falla algunas veces por [time], puedes hacer time=0 ;-)\n",
        "  corrector.sumbit(homework=2, question=\"4a\", test=test, token=token, \n",
        "                   answer=parameters[idx].data, time=0)"
      ],
      "execution_count": null,
      "outputs": [
        {
          "output_type": "stream",
          "text": [
            "Correct Test!\n",
            "Correct Test!\n",
            "Correct Test!\n"
          ],
          "name": "stdout"
        }
      ]
    },
    {
      "cell_type": "markdown",
      "metadata": {
        "id": "wy0KFSX4nzP0"
      },
      "source": [
        "## 4b) Datos para carga"
      ]
    },
    {
      "cell_type": "code",
      "metadata": {
        "id": "bByG7kXlnwAQ"
      },
      "source": [
        "from torch.utils.data import Dataset, DataLoader\n",
        "\n",
        "# Aquí tu código.\n",
        "# Tu clase debiera verse así\n",
        "class RandomDataset(Dataset):\n",
        "  def __init__(self, N, F, C):\n",
        "    R_N_F = torch.rand(N,F)\n",
        "    self.X = torch.bernoulli(R_N_F)\n",
        "    self.Y = torch.zeros(N, C)\n",
        "    for i in range(self.Y.shape[0]):\n",
        "      pos = torch.randint(C, (1,))\n",
        "      self.Y[i][pos] = 1\n",
        "    self.num_features = F\n",
        "\n",
        "  def __len__(self):\n",
        "    return self.X.size()[0]\n",
        "  \n",
        "  def __getitem__(self, i):\n",
        "    return self.X[i], self.Y[i]"
      ],
      "execution_count": null,
      "outputs": []
    },
    {
      "cell_type": "code",
      "metadata": {
        "id": "x49Wy06IsJDU",
        "colab": {
          "base_uri": "https://localhost:8080/",
          "height": 54
        },
        "outputId": "2f56e38d-f07c-484e-c102-762a47b90d1a"
      },
      "source": [
        "# Inicialicemos un RandomDataset de prueba\n",
        "N,F,C=100,4,10\n",
        "your_dataset = RandomDataset(N, F, C)\n",
        "\n",
        "# Veamos como se comportan __len__ y __getitem__\n",
        "print(\"Correct Test!\" if len(your_dataset) == N else \"Failed Test [len]\") \n",
        "print(\"Correct Test!\" if type(your_dataset[N//2]) == tuple and len(your_dataset[N//3]) == 2 else \"Failed Test [getitem]\")"
      ],
      "execution_count": null,
      "outputs": [
        {
          "output_type": "stream",
          "text": [
            "Correct Test!\n",
            "Correct Test!\n"
          ],
          "name": "stdout"
        }
      ]
    },
    {
      "cell_type": "markdown",
      "metadata": {
        "id": "2-q8vJOMn3AA"
      },
      "source": [
        "## 4c) Optimizando los parámetros de la red para datos al azar"
      ]
    },
    {
      "cell_type": "code",
      "metadata": {
        "id": "Ap0AKJijn5DY"
      },
      "source": [
        "# Tu código acá\n",
        "def entrenar_FFNN(red, dataset, optimizador, epochs=1, batch_size=1, device='cuda'):\n",
        "  red.to(device)\n",
        "  \n",
        "  # Inicialicemos un DataLoader para los ejemplos de dataset\n",
        "  data = DataLoader(dataset, batch_size, shuffle=False)\n",
        "\n",
        "  # Comienza el entrenamiento\n",
        "  loss, acc = [], []\n",
        "  for e in range(1,epochs+1):\n",
        "    L = 0\n",
        "    epoch_correct = 0\n",
        "    for x, y in data:\n",
        "      # Asegura de pasarlos a la GPU si fuera necesario\n",
        "      x, y = x.to(device), y.to(device)\n",
        "      \n",
        "      # Computa la pasada hacia adelante (forward)\n",
        "      y_pred = red.forward(x)\n",
        "      \n",
        "      # Computa la función de pérdida\n",
        "      L += CELoss(y_pred, y)\n",
        "      correct = torch.sum(torch.argmax(y_pred, dim=1) == torch.argmax(y, dim=1)).item()\n",
        "      epoch_correct += correct\n",
        "      \n",
        "      # Computa los gradientes hacia atrás (backpropagation)\n",
        "      red.backward(x, y, y_pred)\n",
        "      \n",
        "      # Descenso de gradiente para actualizar los parámetros\n",
        "      optimizador.step()\n",
        "\n",
        "    epoch_acc = epoch_correct/len(dataset)\n",
        "\n",
        "    acc.append(epoch_acc)\n",
        "    loss.append(L)\n",
        "\n",
        "  return loss, acc"
      ],
      "execution_count": null,
      "outputs": []
    },
    {
      "cell_type": "markdown",
      "metadata": {
        "id": "NDnYdhV0n_X-"
      },
      "source": [
        "## 4d) Graficando la pérdida/error en el tiempo"
      ]
    },
    {
      "cell_type": "code",
      "metadata": {
        "id": "oufOfvyIRvAT"
      },
      "source": [
        "import matplotlib.pyplot as plt\n",
        "\n",
        "def plot_results(loss, acc):\n",
        "  # Muestra dos figuras: \n",
        "  #  (1) gráfico para la lista `loss` (Loss) y \n",
        "  #  (2) gráfico para la lista `acc` (Accuracy)\n",
        "\n",
        "  f1 = plt.figure(1)\n",
        "  ax1 = f1.add_subplot(111)\n",
        "  ax1.set_title(\"Loss per Epoch\")    \n",
        "  ax1.set_xlabel('epochs')\n",
        "  ax1.set_ylabel('loss')\n",
        "  x1 = list(range(0, len(loss)))\n",
        "  ax1.plot(x1, loss, c='r')\n",
        "  f1.show()\n",
        "\n",
        "  f2 = plt.figure(2)\n",
        "  ax2 = f2.add_subplot(111)\n",
        "  ax2.set_title(\"Accuracy per Epoch\")    \n",
        "  ax2.set_xlabel('epochs')\n",
        "  ax2.set_ylabel('acc')\n",
        "  x2 = list(range(0, len(acc)))\n",
        "  ax2.plot(x2, acc, c='b')\n",
        "  f2.show()"
      ],
      "execution_count": null,
      "outputs": []
    },
    {
      "cell_type": "code",
      "metadata": {
        "id": "Owjr00HMyIJ5"
      },
      "source": [
        "# Dataset\n",
        "N, F, C = 500, 50, 10\n",
        "my_dataset = RandomDataset(N,F,C)\n",
        "\n",
        "# Models\n",
        "\n",
        "### Model 1 ###\n",
        "model1 = FFNN(F, [50, 30], [relu, sig], C)\n",
        "optimizer1 = SGD(model1.parameters(), lr=0.05)\n",
        "\n",
        "### Model 2 ###\n",
        "model2 = FFNN(F, [150, 90], [relu, sig], C)\n",
        "optimizer2 = SGD(model2.parameters(), lr=0.05)\n",
        "\n",
        "### Model 3 ###\n",
        "model3 = FFNN(F,  [150, 90, 50], [relu, sig, sig], C)\n",
        "optimizer3 = SGD(model3.parameters(), lr=0.05)\n",
        "\n",
        "### Model 4 ###\n",
        "model4 = FFNN(F, [100,50,25], [tanh, relu, sig], C)\n",
        "optimizer4 = SGD(model4.parameters(), lr=0.05)"
      ],
      "execution_count": null,
      "outputs": []
    },
    {
      "cell_type": "code",
      "metadata": {
        "id": "GYdCGYmyyrVO",
        "colab": {
          "base_uri": "https://localhost:8080/",
          "height": 591
        },
        "outputId": "fb6530a6-0ce5-4d85-b509-4fd96ba1c827"
      },
      "source": [
        "print(\"Loss and Accuracy for model 1\")\n",
        "with torch.no_grad():\n",
        "  loss1, acc1 = entrenar_FFNN(model1, my_dataset, optimizer1, epochs=200, batch_size=10)\n",
        "plot_results(loss1, acc1)"
      ],
      "execution_count": null,
      "outputs": [
        {
          "output_type": "stream",
          "text": [
            "Loss and Accuracy for model 1\n"
          ],
          "name": "stdout"
        },
        {
          "output_type": "display_data",
          "data": {
            "image/png": "[encoded data removed]",
            "text/plain": [
              "<Figure size 432x288 with 1 Axes>"
            ]
          },
          "metadata": {
            "tags": [],
            "needs_background": "light"
          }
        },
        {
          "output_type": "display_data",
          "data": {
            "image/png": "[encoded data removed]",
            "text/plain": [
              "<Figure size 432x288 with 1 Axes>"
            ]
          },
          "metadata": {
            "tags": [],
            "needs_background": "light"
          }
        }
      ]
    },
    {
      "cell_type": "code",
      "metadata": {
        "id": "uZdGJe-4z2pP",
        "colab": {
          "base_uri": "https://localhost:8080/",
          "height": 591
        },
        "outputId": "f8ccf64a-7c01-43e2-c402-1ed26d5b90b1"
      },
      "source": [
        "print(\"Loss and Accuracy for model 2\")\n",
        "with torch.no_grad():\n",
        "  loss2, acc2 = entrenar_FFNN(model2, my_dataset, optimizer2, epochs=200, batch_size=10)\n",
        "plot_results(loss2, acc2)"
      ],
      "execution_count": null,
      "outputs": [
        {
          "output_type": "stream",
          "text": [
            "Loss and Accuracy for model 2\n"
          ],
          "name": "stdout"
        },
        {
          "output_type": "display_data",
          "data": {
            "image/png": "[encoded data removed]",
            "text/plain": [
              "<Figure size 432x288 with 1 Axes>"
            ]
          },
          "metadata": {
            "tags": [],
            "needs_background": "light"
          }
        },
        {
          "output_type": "display_data",
          "data": {
            "image/png": "[encoded data removed]",
            "text/plain": [
              "<Figure size 432x288 with 1 Axes>"
            ]
          },
          "metadata": {
            "tags": [],
            "needs_background": "light"
          }
        }
      ]
    },
    {
      "cell_type": "code",
      "metadata": {
        "id": "YU5fIutAz3Kw",
        "colab": {
          "base_uri": "https://localhost:8080/",
          "height": 591
        },
        "outputId": "0acd8402-5b66-4491-fc93-2a9e316b3f0a"
      },
      "source": [
        "print(\"Loss and Accuracy for model 3\")\n",
        "with torch.no_grad():\n",
        "  loss3, acc3 = entrenar_FFNN(model3, my_dataset, optimizer3, epochs=200, batch_size=10)\n",
        "plot_results(loss3, acc3)"
      ],
      "execution_count": null,
      "outputs": [
        {
          "output_type": "stream",
          "text": [
            "Loss and Accuracy for model 3\n"
          ],
          "name": "stdout"
        },
        {
          "output_type": "display_data",
          "data": {
            "image/png": "[encoded data removed]",
            "text/plain": [
              "<Figure size 432x288 with 1 Axes>"
            ]
          },
          "metadata": {
            "tags": [],
            "needs_background": "light"
          }
        },
        {
          "output_type": "display_data",
          "data": {
            "image/png": "[encoded data removed]",
            "text/plain": [
              "<Figure size 432x288 with 1 Axes>"
            ]
          },
          "metadata": {
            "tags": [],
            "needs_background": "light"
          }
        }
      ]
    },
    {
      "cell_type": "code",
      "metadata": {
        "id": "HN30j7cKz3fv",
        "colab": {
          "base_uri": "https://localhost:8080/",
          "height": 591
        },
        "outputId": "3e59013b-c62a-4c98-8b9e-2220299a8ef6"
      },
      "source": [
        "print(\"Loss and Accuracy for model 4\")\n",
        "with torch.no_grad():\n",
        "  loss4, acc4 = entrenar_FFNN(model4, my_dataset, optimizer4, epochs=200, batch_size=10)\n",
        "plot_results(loss4, acc4)"
      ],
      "execution_count": null,
      "outputs": [
        {
          "output_type": "stream",
          "text": [
            "Loss and Accuracy for model 4\n"
          ],
          "name": "stdout"
        },
        {
          "output_type": "display_data",
          "data": {
            "image/png": "[encoded data removed]",
            "text/plain": [
              "<Figure size 432x288 with 1 Axes>"
            ]
          },
          "metadata": {
            "tags": [],
            "needs_background": "light"
          }
        },
        {
          "output_type": "display_data",
          "data": {
            "image/png": "[encoded data removed]",
            "text/plain": [
              "<Figure size 432x288 with 1 Axes>"
            ]
          },
          "metadata": {
            "tags": [],
            "needs_background": "light"
          }
        }
      ]
    },
    {
      "cell_type": "markdown",
      "metadata": {
        "id": "ICCODVV9oF9d"
      },
      "source": [
        "## 4e) Opcional: Optimizando tu red para MNIST"
      ]
    },
    {
      "cell_type": "code",
      "metadata": {
        "id": "-cRIuWQroDW9"
      },
      "source": [
        "# Tu código de carga de datos, creación de la red, \n",
        "# entrenamiento/optimización y reportes acá"
      ],
      "execution_count": null,
      "outputs": []
    }
  ]
}